{
 "cells": [
  {
   "cell_type": "markdown",
   "id": "bb7b64a1",
   "metadata": {},
   "source": [
    "# Teacher List Scrape"
   ]
  },
  {
   "cell_type": "markdown",
   "id": "d1018a4f",
   "metadata": {},
   "source": [
    "This notebook scrapes a list of teachers from directory pages on Insight Timer's website.\n",
    "\n",
    "The resulting dataframe contains three columns:\n",
    "- alpha_index: m\n",
    "- teacher_name: Malcolm Huxter\n",
    "- teacher_href: malhuxter\n",
    "\n",
    "The dataframe is saved to **teachers_list_df.csv**."
   ]
  },
  {
   "cell_type": "code",
   "execution_count": 1,
   "id": "d3bb79d5",
   "metadata": {},
   "outputs": [],
   "source": [
    "from selenium import webdriver\n",
    "#import requests\n",
    "from bs4 import BeautifulSoup as BS\n",
    "import pandas as pd\n",
    "import string"
   ]
  },
  {
   "cell_type": "code",
   "execution_count": 1,
   "id": "f2962ae1",
   "metadata": {},
   "outputs": [],
   "source": [
    "# Insight Timer webpages use javascript, so need selenium and chrome driver.\n",
    "chrome_driver_path = '../../../../Tech/chrome_driver/chromedriver.exe'"
   ]
  },
  {
   "cell_type": "markdown",
   "id": "c5fe4981",
   "metadata": {},
   "source": [
    "### Teacher Lists\n",
    "https://insighttimer.com/dir/meditation-teachers/  <br>\n",
    "https://insighttimer.com/dir/meditation-teachers/a <br>\n",
    "https://insighttimer.com/dir/meditation-teachers/b"
   ]
  },
  {
   "cell_type": "code",
   "execution_count": 3,
   "id": "66b758c1",
   "metadata": {},
   "outputs": [],
   "source": [
    "directory_alpha_index = ['hash'] + list(string.ascii_lowercase) + ['more']\n",
    "# Result is ['hash', 'a', 'b', 'c', ... 'x', 'y', 'z', 'more']\n",
    "# 'hash' page includes teachers with names starting with a number.\n",
    "# 'more' page includes teachers with names starting with non-standard characters \n",
    "#     such as punctuation marks or languages other than English."
   ]
  },
  {
   "cell_type": "code",
   "execution_count": 4,
   "id": "29e756a4",
   "metadata": {},
   "outputs": [],
   "source": [
    "teachers_dir_url = 'https://insighttimer.com/dir/meditation-teachers/'"
   ]
  },
  {
   "cell_type": "code",
   "execution_count": 5,
   "id": "09290eda",
   "metadata": {},
   "outputs": [],
   "source": [
    "#initialize lists which will become columns in a dataframe \n",
    "alpha_indices = []\n",
    "teacher_hrefs = []\n",
    "teacher_names = []"
   ]
  },
  {
   "cell_type": "code",
   "execution_count": 6,
   "id": "c87fdf0f",
   "metadata": {},
   "outputs": [],
   "source": [
    "# Iterate through teacher pages for each letter\n",
    "for alpha_index in directory_alpha_index:\n",
    "    \n",
    "    # Create a new Chrome session with a custom executable path\n",
    "    url = teachers_dir_url + alpha_index\n",
    "\n",
    "    #Create a session and load the page\n",
    "    driver = webdriver.Chrome(executable_path=chrome_driver_path)\n",
    "    driver.get(url)\n",
    "\n",
    "    #Wait for page to fully load\n",
    "    driver.implicitly_wait(2)\n",
    "\n",
    "    #Make soup and close driver\n",
    "    soup = BS(driver.page_source)\n",
    "    driver.close()\n",
    "    \n",
    "    #Example of tag that includes teacher data:\n",
    "    #<div class=\"css-1y0feak\">\n",
    "    #  <a href=\"/malhuxter\">Malcolm Huxter</a>\n",
    "    #</div\n",
    "    \n",
    "    div_teacher_tags = soup.findAll('div', attrs = {'class':'css-1y0feak'})\n",
    "\n",
    "    for teacher_div_tag in div_teacher_tags:\n",
    "        \n",
    "        #Add current alpha index to list\n",
    "        alpha_indices = alpha_indices + [alpha_index]\n",
    "        \n",
    "        #Get 'a' tag contained within 'div' tag\n",
    "        teacher_a_tag = teacher_div_tag.find('a')\n",
    "        \n",
    "        #Get teacher name and add to list\n",
    "        teacher_names = teacher_names + [teacher_a_tag.text]\n",
    "        \n",
    "        #Get href attribute and remove first \"/\" character to create teacher_href\n",
    "        teacher_href = teacher_a_tag.get('href', default = '/no href')\n",
    "        teacher_href = teacher_href[1:]\n",
    "\n",
    "        #Add new teacher_id to list \n",
    "        teacher_hrefs = teacher_hrefs + [teacher_href]"
   ]
  },
  {
   "cell_type": "code",
   "execution_count": 7,
   "id": "7f637789",
   "metadata": {},
   "outputs": [],
   "source": [
    "# Create DataFrame with teacher IDs\n",
    "teachers_list_dict = {'alpha_index':alpha_indices, 'teacher_name':teacher_names, 'teacher_href':teacher_hrefs}\n",
    "teachers_list_df = pd.DataFrame(teachers_list_dict)"
   ]
  },
  {
   "cell_type": "code",
   "execution_count": 8,
   "id": "dbd16c3b",
   "metadata": {},
   "outputs": [
    {
     "name": "stdout",
     "output_type": "stream",
     "text": [
      "(12492, 3)\n"
     ]
    },
    {
     "data": {
      "text/html": [
       "<div>\n",
       "<style scoped>\n",
       "    .dataframe tbody tr th:only-of-type {\n",
       "        vertical-align: middle;\n",
       "    }\n",
       "\n",
       "    .dataframe tbody tr th {\n",
       "        vertical-align: top;\n",
       "    }\n",
       "\n",
       "    .dataframe thead th {\n",
       "        text-align: right;\n",
       "    }\n",
       "</style>\n",
       "<table border=\"1\" class=\"dataframe\">\n",
       "  <thead>\n",
       "    <tr style=\"text-align: right;\">\n",
       "      <th></th>\n",
       "      <th>alpha_index</th>\n",
       "      <th>teacher_name</th>\n",
       "      <th>teacher_href</th>\n",
       "    </tr>\n",
       "  </thead>\n",
       "  <tbody>\n",
       "    <tr>\n",
       "      <th>0</th>\n",
       "      <td>hash</td>\n",
       "      <td>33bowls</td>\n",
       "      <td>33bowls</td>\n",
       "    </tr>\n",
       "    <tr>\n",
       "      <th>1</th>\n",
       "      <td>hash</td>\n",
       "      <td>432hz Dúo</td>\n",
       "      <td>miguebrea_and_nicopucci</td>\n",
       "    </tr>\n",
       "    <tr>\n",
       "      <th>2</th>\n",
       "      <td>hash</td>\n",
       "      <td>8FINITY ANGEL - SLEEP SPELLS</td>\n",
       "      <td>8finityangel</td>\n",
       "    </tr>\n",
       "    <tr>\n",
       "      <th>3</th>\n",
       "      <td>a</td>\n",
       "      <td>A Course in Miracles Lessons</td>\n",
       "      <td>acimlessons</td>\n",
       "    </tr>\n",
       "    <tr>\n",
       "      <th>4</th>\n",
       "      <td>a</td>\n",
       "      <td>A Friday Studio</td>\n",
       "      <td>afridaystudio</td>\n",
       "    </tr>\n",
       "  </tbody>\n",
       "</table>\n",
       "</div>"
      ],
      "text/plain": [
       "  alpha_index                  teacher_name             teacher_href\n",
       "0        hash                       33bowls                  33bowls\n",
       "1        hash                     432hz Dúo  miguebrea_and_nicopucci\n",
       "2        hash  8FINITY ANGEL - SLEEP SPELLS             8finityangel\n",
       "3           a  A Course in Miracles Lessons              acimlessons\n",
       "4           a               A Friday Studio            afridaystudio"
      ]
     },
     "execution_count": 8,
     "metadata": {},
     "output_type": "execute_result"
    }
   ],
   "source": [
    "print(teachers_list_df.shape)\n",
    "teachers_list_df.head()"
   ]
  },
  {
   "cell_type": "code",
   "execution_count": 9,
   "id": "cd15f384",
   "metadata": {},
   "outputs": [],
   "source": [
    "# Save results to data file\n",
    "teachers_list_df.to_csv('../data/teachers_list_df.csv')"
   ]
  }
 ],
 "metadata": {
  "kernelspec": {
   "display_name": "Python 3 (ipykernel)",
   "language": "python",
   "name": "python3"
  },
  "language_info": {
   "codemirror_mode": {
    "name": "ipython",
    "version": 3
   },
   "file_extension": ".py",
   "mimetype": "text/x-python",
   "name": "python",
   "nbconvert_exporter": "python",
   "pygments_lexer": "ipython3",
   "version": "3.9.13"
  }
 },
 "nbformat": 4,
 "nbformat_minor": 5
}
