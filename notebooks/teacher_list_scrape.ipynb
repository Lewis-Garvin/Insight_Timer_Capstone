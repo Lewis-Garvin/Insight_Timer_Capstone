{
 "cells": [
  {
   "cell_type": "markdown",
   "id": "bb7b64a1",
   "metadata": {},
   "source": [
    "# Teacher List Scrape"
   ]
  },
  {
   "cell_type": "markdown",
   "id": "d1018a4f",
   "metadata": {},
   "source": [
    "This notebook scrapes a list of teachers from directory pages on Insight Timer's website.\n",
    "\n",
    "The resulting dataframe contains three columns:\n",
    "- alpha_index: m\n",
    "- teacher_name: Malcolm Huxter\n",
    "- teacher_href: malhuxter\n",
    "\n",
    "The dataframe is saved to **teachers_list_df.csv**."
   ]
  },
  {
   "cell_type": "code",
   "execution_count": null,
   "id": "d3bb79d5",
   "metadata": {},
   "outputs": [],
   "source": [
    "from selenium import webdriver\n",
    "#import requests\n",
    "from bs4 import BeautifulSoup as BS\n",
    "import pandas as pd\n",
    "import string\n",
    "from datetime import datetime"
   ]
  },
  {
   "cell_type": "code",
   "execution_count": null,
   "id": "f2962ae1",
   "metadata": {},
   "outputs": [],
   "source": [
    "# Insight Timer webpages use javascript, so need selenium and chrome driver.\n",
    "chrome_driver_path = '../../../../Tech/chrome_driver/chromedriver.exe'"
   ]
  },
  {
   "cell_type": "markdown",
   "id": "c5fe4981",
   "metadata": {},
   "source": [
    "### Teacher Lists\n",
    "https://insighttimer.com/dir/meditation-teachers/  <br>\n",
    "https://insighttimer.com/dir/meditation-teachers/a <br>\n",
    "https://insighttimer.com/dir/meditation-teachers/b"
   ]
  },
  {
   "cell_type": "code",
   "execution_count": null,
   "id": "66b758c1",
   "metadata": {},
   "outputs": [],
   "source": [
    "directory_alpha_index = ['hash'] + list(string.ascii_lowercase) + ['more']\n",
    "# Result is ['hash', 'a', 'b', 'c', ... 'x', 'y', 'z', 'more']\n",
    "# 'hash' page includes teachers with names starting with a number.\n",
    "# 'more' page includes teachers with names starting with non-standard characters \n",
    "#     such as punctuation marks or languages other than English."
   ]
  },
  {
   "cell_type": "code",
   "execution_count": null,
   "id": "29e756a4",
   "metadata": {},
   "outputs": [],
   "source": [
    "teachers_dir_url = 'https://insighttimer.com/dir/meditation-teachers/'"
   ]
  },
  {
   "cell_type": "code",
   "execution_count": null,
   "id": "09290eda",
   "metadata": {},
   "outputs": [],
   "source": [
    "#initialize lists which will become columns in a dataframe \n",
    "alpha_indices = []\n",
    "teacher_ids = []\n",
    "dir_teacher_names = []"
   ]
  },
  {
   "cell_type": "code",
   "execution_count": null,
   "id": "1e72c445",
   "metadata": {},
   "outputs": [],
   "source": [
    "start_time = datetime.now()"
   ]
  },
  {
   "cell_type": "code",
   "execution_count": null,
   "id": "c87fdf0f",
   "metadata": {},
   "outputs": [],
   "source": [
    "# Iterate through teacher pages for each letter\n",
    "for alpha_index in directory_alpha_index:\n",
    "    \n",
    "    # Create a new Chrome session with a custom executable path\n",
    "    url = teachers_dir_url + alpha_index\n",
    "\n",
    "    #Create a session and load the page\n",
    "    driver = webdriver.Chrome(executable_path=chrome_driver_path)\n",
    "    driver.get(url)\n",
    "\n",
    "    #Wait for page to fully load\n",
    "    driver.implicitly_wait(2)\n",
    "\n",
    "    #Make soup and close driver\n",
    "    soup = BS(driver.page_source)\n",
    "    driver.close()\n",
    "    \n",
    "    #Example of tag that includes teacher data:\n",
    "    #<div class=\"css-1y0feak\">\n",
    "    #  <a href=\"/malhuxter\">Malcolm Huxter</a>\n",
    "    #</div\n",
    "    \n",
    "    div_teacher_tags = soup.findAll('div', attrs = {'class':'css-1y0feak'})\n",
    "\n",
    "    for teacher_div_tag in div_teacher_tags:\n",
    "        \n",
    "        #Add current alpha index to list\n",
    "        alpha_indices = alpha_indices + [alpha_index]\n",
    "        \n",
    "        #Get 'a' tag contained within 'div' tag\n",
    "        teacher_a_tag = teacher_div_tag.find('a')\n",
    "        \n",
    "        #Get teacher name and add to list\n",
    "        dir_teacher_names = dir_teacher_names + [teacher_a_tag.text]\n",
    "        \n",
    "        #Get href attribute and remove first \"/\" character to create teacher_href\n",
    "        teacher_id = teacher_a_tag.get('href', default = '/no href')\n",
    "        teacher_id = teacher_id[1:]\n",
    "\n",
    "        #Add new teacher_id to list \n",
    "        teacher_ids = teacher_ids + [teacher_id]"
   ]
  },
  {
   "cell_type": "code",
   "execution_count": null,
   "id": "7f637789",
   "metadata": {},
   "outputs": [],
   "source": [
    "# Create DataFrame with teacher IDs\n",
    "teachers_list_dict = {'teacher_id':teacher_ids,\n",
    "                      'dir_teacher_name':dir_teacher_names, \n",
    "                      'alpha_index':alpha_indices}\n",
    "\n",
    "teachers_list_df = pd.DataFrame(teachers_list_dict)"
   ]
  },
  {
   "cell_type": "code",
   "execution_count": null,
   "id": "cd15f384",
   "metadata": {},
   "outputs": [],
   "source": [
    "# Save results to data file\n",
    "teachers_list_df.to_csv('../data/teachers_list_df.csv')"
   ]
  },
  {
   "cell_type": "code",
   "execution_count": null,
   "id": "9f51d8f1",
   "metadata": {},
   "outputs": [],
   "source": [
    "end_time = datetime.now()"
   ]
  },
  {
   "cell_type": "code",
   "execution_count": null,
   "id": "3b380056",
   "metadata": {},
   "outputs": [],
   "source": [
    "#Print Runtime \n",
    "runtime = end_time - start_time\n",
    "hours, remainder = divmod(runtime.seconds, 3600)\n",
    "minutes, seconds = divmod(remainder, 60)\n",
    "\n",
    "print('Runtime:')\n",
    "\n",
    "if hours > 0:\n",
    "    print(hours,'hours')\n",
    "if minutes > 0:\n",
    "    print(minutes,'minutes')\n",
    "print(seconds,'seconds')"
   ]
  },
  {
   "cell_type": "markdown",
   "id": "018c61a7",
   "metadata": {},
   "source": [
    "Final Run was on December 8, 2022. Run time was 8 minutes 59 seconds."
   ]
  },
  {
   "cell_type": "code",
   "execution_count": null,
   "id": "dbd16c3b",
   "metadata": {},
   "outputs": [],
   "source": [
    "print(teachers_list_df.shape)\n",
    "teachers_list_df.head()"
   ]
  },
  {
   "cell_type": "markdown",
   "id": "e5542bd8",
   "metadata": {},
   "source": [
    "# Alternative Teacher Lists\n",
    "https://insighttimer.com/meditation-teachers/ <br>\n",
    "https://insighttimer.com/meditation-teachers/starts-with-k <br>\n",
    "https://insighttimer.com/meditation-teachers/starts-with-k/1 <br>\n",
    "https://insighttimer.com/meditation-teachers/starts-with-k/2 <br>\n",
    "50 teachers per page <br>\n",
    "Gives you the number of teachers for each letter. <br> \n",
    "Does not have \"hash\" and \"other\" teachers. <br>"
   ]
  }
 ],
 "metadata": {
  "kernelspec": {
   "display_name": "Python 3 (ipykernel)",
   "language": "python",
   "name": "python3"
  },
  "language_info": {
   "codemirror_mode": {
    "name": "ipython",
    "version": 3
   },
   "file_extension": ".py",
   "mimetype": "text/x-python",
   "name": "python",
   "nbconvert_exporter": "python",
   "pygments_lexer": "ipython3",
   "version": "3.9.13"
  }
 },
 "nbformat": 4,
 "nbformat_minor": 5
}
