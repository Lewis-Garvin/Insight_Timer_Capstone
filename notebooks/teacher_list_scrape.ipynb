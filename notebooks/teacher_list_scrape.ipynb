{
 "cells": [
  {
   "cell_type": "markdown",
   "id": "bb7b64a1",
   "metadata": {},
   "source": [
    "# Teacher List Scrape"
   ]
  },
  {
   "cell_type": "markdown",
   "id": "d1018a4f",
   "metadata": {},
   "source": [
    "This notebook scrapes a list of teachers from directory pages on Insight Timer's website.\n",
    "\n",
    "The resulting dataframe contains three columns:\n",
    "- alpha_index: m\n",
    "- dir_teacher_name: Malcolm Huxter\n",
    "- teacher_id: malhuxter\n",
    "\n",
    "The dataframe is saved to **teachers_list_df.csv**."
   ]
  },
  {
   "cell_type": "code",
   "execution_count": null,
   "id": "d3bb79d5",
   "metadata": {},
   "outputs": [],
   "source": [
    "from selenium import webdriver\n",
    "#import requests\n",
    "from bs4 import BeautifulSoup as BS\n",
    "import pandas as pd\n",
    "import string\n",
    "from datetime import datetime"
   ]
  },
  {
   "cell_type": "code",
   "execution_count": null,
   "id": "f2962ae1",
   "metadata": {},
   "outputs": [],
   "source": [
    "# Insight Timer webpages use javascript, so need selenium and chrome driver.\n",
    "chrome_driver_path = '../../../../Tech/chrome_driver/chromedriver.exe'"
   ]
  },
  {
   "cell_type": "markdown",
   "id": "e5542bd8",
   "metadata": {},
   "source": [
    "# Alternative Teacher Lists\n",
    "https://insighttimer.com/meditation-teachers/ <br>\n",
    "https://insighttimer.com/meditation-teachers/starts-with-k <br>\n",
    "https://insighttimer.com/meditation-teachers/starts-with-k/1 <br>\n",
    "https://insighttimer.com/meditation-teachers/starts-with-k/2 <br>\n",
    "50 teachers per page <br>\n",
    "Gives you the number of teachers for each letter. <br> \n",
    "Does not have \"hash\" and \"other\" teachers. <br>"
   ]
  },
  {
   "cell_type": "code",
   "execution_count": null,
   "id": "679a7dae",
   "metadata": {},
   "outputs": [],
   "source": [
    "directory_alpha_index = list(string.ascii_lowercase)\n",
    "# Result is ['a', 'b', 'c', ... 'x', 'y', 'z']\n",
    "# This approach does not have pages for 'hash' and 'more'"
   ]
  },
  {
   "cell_type": "code",
   "execution_count": null,
   "id": "2cc8043c",
   "metadata": {},
   "outputs": [],
   "source": [
    "teachers_url = 'https://insighttimer.com/meditation-teachers/starts-with-'"
   ]
  },
  {
   "cell_type": "code",
   "execution_count": null,
   "id": "1b986db8",
   "metadata": {},
   "outputs": [],
   "source": [
    "#initialize lists which will become columns in a dataframe \n",
    "teacher_ids = []\n",
    "alpha_indices = []"
   ]
  },
  {
   "cell_type": "code",
   "execution_count": null,
   "id": "a20ca306",
   "metadata": {
    "scrolled": true
   },
   "outputs": [],
   "source": [
    "start_time = datetime.now()\n",
    "\n",
    "# Iterate through teacher pages for each letter\n",
    "for alpha_index in directory_alpha_index:\n",
    "    \n",
    "    alpha_page_num = 0\n",
    "    continue_next_alpha_page = True\n",
    "    \n",
    "    while continue_next_alpha_page:\n",
    "\n",
    "        # Create a new Chrome session with a custom executable path\n",
    "        if alpha_page_num == 0:\n",
    "            url = teachers_url + alpha_index\n",
    "        else:\n",
    "            url = teachers_url + alpha_index + '/' + str(alpha_page_num)\n",
    "\n",
    "        #Create a session and load the page\n",
    "        driver = webdriver.Chrome(executable_path=chrome_driver_path)\n",
    "        driver.get(url)\n",
    "\n",
    "        #Wait for page to fully load\n",
    "        driver.implicitly_wait(3)\n",
    "\n",
    "        #Make soup and close driver\n",
    "        soup = BS(driver.page_source)\n",
    "        driver.close()\n",
    "\n",
    "        teacher_num = 0\n",
    "\n",
    "        div_teacher_tags = soup.findAll('div', attrs = {'class':'MuiGrid-root w-1/2 xs:w-1/3 sm:w-1/3 md:w-1/5 lg:w-1/6 lg2:w-1/8 MuiGrid-item'})\n",
    "\n",
    "        print(alpha_index,'page ',alpha_page_num,',',len(div_teacher_tags),'teachers')\n",
    "\n",
    "        for teacher_div_tag in div_teacher_tags:\n",
    "\n",
    "            teacher_num += 1\n",
    "\n",
    "            #Find 'a' tag contained within 'div' tag\n",
    "            teacher_a_tag = teacher_div_tag.find('a')\n",
    "            #Set teacher_id = href attribute with first \"/\" character removed\n",
    "            teacher_id = teacher_a_tag.get('href', default = '/no href')[1:]\n",
    "            #Add new teacher_id to list \n",
    "            teacher_ids = teacher_ids + [teacher_id]\n",
    "\n",
    "            #Add current alpha index to list\n",
    "            alpha_indices = alpha_indices + [alpha_index]\n",
    "        \n",
    "        #Each page has 50 teachers maximum. If the current page has 50 teachers,\n",
    "        #then there will likely be more teachers on the next page for the alpha_index.\n",
    "        #The exception is when the alpha_index has a total number of teachers divisible \n",
    "        #by 50, in which case 50 teachers on the current page could be the last teachers\n",
    "        #for the alpha_index. If the current page has less than 50 teachers, then \n",
    "        #those are the last teachers for the alpha_index, and there's no need to check\n",
    "        #the next page.\n",
    "\n",
    "        if teacher_num < 50:\n",
    "            continue_next_alpha_page = False\n",
    "        elif len(div_teacher_tags) == 0:\n",
    "            continue_next_alpha_page = False\n",
    "        else:\n",
    "            alpha_page_num += 1\n",
    "\n",
    "end_time = datetime.now()"
   ]
  },
  {
   "cell_type": "code",
   "execution_count": null,
   "id": "955bb282",
   "metadata": {},
   "outputs": [],
   "source": [
    "#Print Runtime \n",
    "runtime = end_time - start_time\n",
    "hours, remainder = divmod(runtime.seconds, 3600)\n",
    "minutes, seconds = divmod(remainder, 60)\n",
    "\n",
    "print('Runtime:')\n",
    "\n",
    "if hours > 0:\n",
    "    print(hours,'hours')\n",
    "if minutes > 0:\n",
    "    print(minutes,'minutes')\n",
    "print(seconds,'seconds')"
   ]
  },
  {
   "cell_type": "code",
   "execution_count": null,
   "id": "fc9a2e06",
   "metadata": {},
   "outputs": [],
   "source": [
    "# Create DataFrame with teacher IDs\n",
    "teachers_list_dict = {'teacher_id':teacher_ids,\n",
    "                      'alpha_index':alpha_indices}\n",
    "\n",
    "teachers_list_df = pd.DataFrame(teachers_list_dict)"
   ]
  },
  {
   "cell_type": "code",
   "execution_count": null,
   "id": "0d6972eb",
   "metadata": {},
   "outputs": [],
   "source": [
    "# Save results to data file\n",
    "# Not doing here because going to first add rows from original approach below\n",
    "#teachers_list_df.to_csv('../data/teachers_list_df.csv')"
   ]
  },
  {
   "cell_type": "markdown",
   "id": "c5fe4981",
   "metadata": {},
   "source": [
    "### Teacher Lists -- Original Approach\n",
    "\n",
    "https://insighttimer.com/dir/meditation-teachers/  <br>\n",
    "https://insighttimer.com/dir/meditation-teachers/a <br>\n",
    "https://insighttimer.com/dir/meditation-teachers/b"
   ]
  },
  {
   "cell_type": "code",
   "execution_count": null,
   "id": "66b758c1",
   "metadata": {},
   "outputs": [],
   "source": [
    "directory_alpha_index = ['hash'] + ['more']\n",
    "#directory_alpha_index = ['hash'] + list(string.ascii_lowercase) + ['more']\n",
    "# Result is ['hash', 'a', 'b', 'c', ... 'x', 'y', 'z', 'more']\n",
    "# 'hash' page includes teachers with names starting with a number.\n",
    "# 'more' page includes teachers with names starting with non-standard characters \n",
    "#     such as punctuation marks or languages other than English."
   ]
  },
  {
   "cell_type": "code",
   "execution_count": null,
   "id": "29e756a4",
   "metadata": {},
   "outputs": [],
   "source": [
    "teachers_dir_url = 'https://insighttimer.com/dir/meditation-teachers/'"
   ]
  },
  {
   "cell_type": "code",
   "execution_count": null,
   "id": "09290eda",
   "metadata": {},
   "outputs": [],
   "source": [
    "#initialize lists which will become columns in a dataframe \n",
    "teacher_ids = []\n",
    "alpha_indices = []"
   ]
  },
  {
   "cell_type": "code",
   "execution_count": null,
   "id": "c87fdf0f",
   "metadata": {},
   "outputs": [],
   "source": [
    "start_time = datetime.now()\n",
    "\n",
    "# Iterate through teacher pages for each letter\n",
    "for alpha_index in directory_alpha_index:\n",
    "    \n",
    "    # Create a new Chrome session with a custom executable path\n",
    "    url = teachers_dir_url + alpha_index\n",
    "\n",
    "    #Create a session and load the page\n",
    "    driver = webdriver.Chrome(executable_path=chrome_driver_path)\n",
    "    driver.get(url)\n",
    "\n",
    "    #Wait for page to fully load\n",
    "    driver.implicitly_wait(3)\n",
    "\n",
    "    #Make soup and close driver\n",
    "    soup = BS(driver.page_source)\n",
    "    driver.close()\n",
    "    \n",
    "    #Example of tag that includes teacher data:\n",
    "    #<div class=\"css-1y0feak\">\n",
    "    #  <a href=\"/malhuxter\">Malcolm Huxter</a>\n",
    "    #</div\n",
    "    \n",
    "    div_teacher_tags = soup.findAll('div', attrs = {'class':'css-1y0feak'})\n",
    "\n",
    "    for teacher_div_tag in div_teacher_tags:\n",
    "        \n",
    "        #Get 'a' tag contained within 'div' tag\n",
    "        teacher_a_tag = teacher_div_tag.find('a')\n",
    "                \n",
    "        #Get href attribute and remove first \"/\" character to create teacher_href\n",
    "        teacher_id = teacher_a_tag.get('href', default = '/no href')\n",
    "        teacher_id = teacher_id[1:]\n",
    "\n",
    "        #Add new teacher_id to list \n",
    "        teacher_ids = teacher_ids + [teacher_id]\n",
    "        \n",
    "        #Add current alpha index to list\n",
    "        alpha_indices = alpha_indices + [alpha_index]\n",
    "        \n",
    "end_time = datetime.now()"
   ]
  },
  {
   "cell_type": "code",
   "execution_count": null,
   "id": "7f637789",
   "metadata": {},
   "outputs": [],
   "source": [
    "# Create DataFrame with teacher IDs\n",
    "added_teachers_list_dict = {'teacher_id':teacher_ids,\n",
    "                            'alpha_index':alpha_indices}\n",
    "\n",
    "added_teachers_list_df = pd.DataFrame(added_teachers_list_dict)"
   ]
  },
  {
   "cell_type": "code",
   "execution_count": null,
   "id": "fb322670",
   "metadata": {},
   "outputs": [],
   "source": [
    "print(teachers_list_df.shape)\n",
    "added_teachers_list_df.shape"
   ]
  },
  {
   "cell_type": "code",
   "execution_count": null,
   "id": "5f014292",
   "metadata": {},
   "outputs": [],
   "source": [
    "final_teachers_list_df = pd.concat([teachers_list_df, added_teachers_list_df])"
   ]
  },
  {
   "cell_type": "code",
   "execution_count": null,
   "id": "de2c7100",
   "metadata": {},
   "outputs": [],
   "source": [
    "final_teachers_list_df = final_teachers_list_df.reset_index(drop=True)"
   ]
  },
  {
   "cell_type": "code",
   "execution_count": null,
   "id": "cd15f384",
   "metadata": {},
   "outputs": [],
   "source": [
    "# Save results to data file\n",
    "final_teachers_list_df.to_csv('../data/teachers_list_df.csv')"
   ]
  },
  {
   "cell_type": "code",
   "execution_count": null,
   "id": "dbd16c3b",
   "metadata": {},
   "outputs": [],
   "source": [
    "print(final_teachers_list_df.shape)\n",
    "final_teachers_list_df.head()"
   ]
  },
  {
   "cell_type": "code",
   "execution_count": null,
   "id": "3b380056",
   "metadata": {},
   "outputs": [],
   "source": [
    "#Print Runtime \n",
    "runtime = end_time - start_time\n",
    "hours, remainder = divmod(runtime.seconds, 3600)\n",
    "minutes, seconds = divmod(remainder, 60)\n",
    "\n",
    "print('Runtime:')\n",
    "\n",
    "if hours > 0:\n",
    "    print(hours,'hours')\n",
    "if minutes > 0:\n",
    "    print(minutes,'minutes')\n",
    "print(seconds,'seconds')"
   ]
  },
  {
   "cell_type": "markdown",
   "id": "018c61a7",
   "metadata": {},
   "source": [
    "Final Run was on December 8, 2022. Run time was 8 minutes 59 seconds."
   ]
  },
  {
   "cell_type": "markdown",
   "id": "fcffdac1",
   "metadata": {},
   "source": [
    "old method found 12492, \n",
    "new method found 15890\n",
    "\n",
    "463 teachers are in old method but not new method\n",
    "- 3 have alpha_index = 'hash'\n",
    "- 196 have alpha_index = 'more'\n",
    "- 268 -- many of which no longer have pages. Not including this group.\n"
   ]
  }
 ],
 "metadata": {
  "kernelspec": {
   "display_name": "Python 3 (ipykernel)",
   "language": "python",
   "name": "python3"
  },
  "language_info": {
   "codemirror_mode": {
    "name": "ipython",
    "version": 3
   },
   "file_extension": ".py",
   "mimetype": "text/x-python",
   "name": "python",
   "nbconvert_exporter": "python",
   "pygments_lexer": "ipython3",
   "version": "3.9.13"
  }
 },
 "nbformat": 4,
 "nbformat_minor": 5
}
