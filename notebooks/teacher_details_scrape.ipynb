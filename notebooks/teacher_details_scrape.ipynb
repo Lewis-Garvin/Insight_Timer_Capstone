{
 "cells": [
  {
   "cell_type": "markdown",
   "id": "4247be46",
   "metadata": {},
   "source": [
    "# Teacher Details Scrape"
   ]
  },
  {
   "cell_type": "code",
   "execution_count": 2,
   "id": "0bd4b451",
   "metadata": {},
   "outputs": [],
   "source": [
    "from selenium import webdriver\n",
    "#import requests\n",
    "from bs4 import BeautifulSoup as BS\n",
    "import pandas as pd\n",
    "import string"
   ]
  },
  {
   "cell_type": "code",
   "execution_count": 3,
   "id": "34f52147",
   "metadata": {},
   "outputs": [],
   "source": [
    "# Insight Timer webpages use javascript, so need selenium and chrome driver.\n",
    "chrome_driver_path = '../../../../Tech/chrome_driver/chromedriver.exe'"
   ]
  },
  {
   "cell_type": "code",
   "execution_count": 4,
   "id": "061398d3",
   "metadata": {},
   "outputs": [],
   "source": [
    "#teacher_url = 'https://insighttimer.com/malhuxter'\n",
    "teacher_url = 'https://insighttimer.com/afridaystudio'\n",
    "#teacher_url = 'https://insighttimer.com/malhuxter'"
   ]
  },
  {
   "cell_type": "code",
   "execution_count": 5,
   "id": "52a2bf19",
   "metadata": {},
   "outputs": [],
   "source": [
    "driver = webdriver.Chrome(executable_path=chrome_driver_path)\n",
    "driver.get(teacher_url)\n",
    "\n",
    "#Wait for page to fully load\n",
    "driver.implicitly_wait(2)\n",
    "\n",
    "#Make soup and close driver\n",
    "soup = BS(driver.page_source)\n",
    "driver.close()"
   ]
  },
  {
   "cell_type": "code",
   "execution_count": 6,
   "id": "ff9484d6",
   "metadata": {},
   "outputs": [
    {
     "data": {
      "text/plain": [
       "'Évaco'"
      ]
     },
     "execution_count": 6,
     "metadata": {},
     "output_type": "execute_result"
    }
   ],
   "source": [
    "#Get name -- Will check for matches with name scraped for list\n",
    "h2_name_tag = soup.find('h2', attrs = {'class':'chakra-text css-nagewt'})\n",
    "name = h2_name_tag.text\n",
    "name"
   ]
  },
  {
   "cell_type": "code",
   "execution_count": 7,
   "id": "00eac523",
   "metadata": {},
   "outputs": [
    {
     "data": {
      "text/plain": [
       "'Thessaloniki, Greece'"
      ]
     },
     "execution_count": 7,
     "metadata": {},
     "output_type": "execute_result"
    }
   ],
   "source": [
    "#Get location -- A little bit of cleaning\n",
    "p_location_tag = soup.find('p', attrs = {'class':'chakra-text css-1n5ydt0'})\n",
    "location = p_location_tag.text\n",
    "location"
   ]
  },
  {
   "cell_type": "code",
   "execution_count": 8,
   "id": "ed312e97",
   "metadata": {},
   "outputs": [
    {
     "data": {
      "text/plain": [
       "'15 followers'"
      ]
     },
     "execution_count": 8,
     "metadata": {},
     "output_type": "execute_result"
    }
   ],
   "source": [
    "#Get followers\n",
    "p_followers_tag = soup.find('p', attrs = {'class':'chakra-text css-brfdt9'})\n",
    "followers = p_followers_tag.text\n",
    "followers"
   ]
  },
  {
   "cell_type": "code",
   "execution_count": 9,
   "id": "54141097",
   "metadata": {},
   "outputs": [
    {
     "data": {
      "text/plain": [
       "'English, Français and Ελληνική'"
      ]
     },
     "execution_count": 9,
     "metadata": {},
     "output_type": "execute_result"
    }
   ],
   "source": [
    "#Get languages\n",
    "p_languages_tag = soup.find('p', attrs = {'class':'chakra-text css-1gmivde'})\n",
    "languages = p_languages_tag.text\n",
    "languages"
   ]
  },
  {
   "cell_type": "code",
   "execution_count": 10,
   "id": "22e2e125",
   "metadata": {},
   "outputs": [],
   "source": [
    "#Get date joined"
   ]
  },
  {
   "cell_type": "code",
   "execution_count": 11,
   "id": "7cddea9c",
   "metadata": {},
   "outputs": [
    {
     "data": {
      "text/plain": [
       "'Joined in Jul 2021'"
      ]
     },
     "execution_count": 11,
     "metadata": {},
     "output_type": "execute_result"
    }
   ],
   "source": [
    "p_date_joined_tag = soup.find('p', attrs = {'class':'chakra-text css-d0wkpr'})\n",
    "date_joined = p_date_joined_tag.text\n",
    "date_joined"
   ]
  },
  {
   "cell_type": "code",
   "execution_count": 12,
   "id": "d1c084a5",
   "metadata": {},
   "outputs": [
    {
     "data": {
      "text/plain": [
       "'Evi Michailidou is the creative force behind èvaco. Drawing inspiration from the vastness of self and its place in the environment, Evi creates art, meditation, silk scarves, and more.'"
      ]
     },
     "execution_count": 12,
     "metadata": {},
     "output_type": "execute_result"
    }
   ],
   "source": [
    "#Get about text\n",
    "div_about_tag = soup.find('div', attrs = {'class':'css-17179af'})\n",
    "about = div_about_tag.text\n",
    "about"
   ]
  },
  {
   "cell_type": "code",
   "execution_count": null,
   "id": "0063cd63",
   "metadata": {},
   "outputs": [],
   "source": [
    "#Get image url"
   ]
  },
  {
   "cell_type": "code",
   "execution_count": 13,
   "id": "ad8546a4",
   "metadata": {},
   "outputs": [
    {
     "data": {
      "text/plain": [
       "'https://users.insighttimer.com/C0P8z7P4U1g6g9c4A6K9Z8N6j6X9G3V2j3K1D5d5N6S1k6g9q5s1Q6J2w4V1K6V3M6h7D9u5U5j0p8e6v5t9E4C5H1G9N6v8L0C4/pictures/square_medium.jpeg'"
      ]
     },
     "execution_count": 13,
     "metadata": {},
     "output_type": "execute_result"
    }
   ],
   "source": [
    "img_image_tag = soup.find('img', attrs = {'class':'chakra-image css-1ssn357'})\n",
    "image = img_image_tag.get('src', default = '/no src')\n",
    "image"
   ]
  },
  {
   "cell_type": "code",
   "execution_count": null,
   "id": "38ab3a68",
   "metadata": {},
   "outputs": [],
   "source": [
    "#From notebook 17_APIs_intro\n",
    "#image_response = requests.get(response.json()['url'])\n",
    "#from IPython.display import Image\n",
    "#Image(image_response.content)"
   ]
  }
 ],
 "metadata": {
  "kernelspec": {
   "display_name": "Python 3 (ipykernel)",
   "language": "python",
   "name": "python3"
  },
  "language_info": {
   "codemirror_mode": {
    "name": "ipython",
    "version": 3
   },
   "file_extension": ".py",
   "mimetype": "text/x-python",
   "name": "python",
   "nbconvert_exporter": "python",
   "pygments_lexer": "ipython3",
   "version": "3.9.13"
  }
 },
 "nbformat": 4,
 "nbformat_minor": 5
}
