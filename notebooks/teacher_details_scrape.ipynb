{
 "cells": [
  {
   "cell_type": "markdown",
   "id": "4247be46",
   "metadata": {},
   "source": [
    "# Teacher Details Scrape"
   ]
  },
  {
   "cell_type": "code",
   "execution_count": null,
   "id": "0bd4b451",
   "metadata": {},
   "outputs": [],
   "source": [
    "from selenium import webdriver\n",
    "from bs4 import BeautifulSoup as BS\n",
    "import pandas as pd\n",
    "import string\n",
    "from datetime import date\n",
    "from datetime import datetime"
   ]
  },
  {
   "cell_type": "code",
   "execution_count": null,
   "id": "34f52147",
   "metadata": {},
   "outputs": [],
   "source": [
    "# Insight Timer webpages use javascript, so need selenium and chrome driver.\n",
    "chrome_driver_path = '../../../../Tech/chrome_driver/chromedriver.exe'"
   ]
  },
  {
   "cell_type": "markdown",
   "id": "4d816bb8",
   "metadata": {},
   "source": [
    "### Read in teacher list data"
   ]
  },
  {
   "cell_type": "code",
   "execution_count": null,
   "id": "68e32ae0",
   "metadata": {},
   "outputs": [],
   "source": [
    "teachers_list_df = pd.read_csv('../data/teachers_list_df.csv',index_col=0)"
   ]
  },
  {
   "cell_type": "code",
   "execution_count": null,
   "id": "f22e1a4e",
   "metadata": {},
   "outputs": [],
   "source": [
    "#Eventually this column name will be changed in the teachers list scraping notebook and the teachers_list_df.csv file.\n",
    "teachers_list_df = teachers_list_df.rename(columns={'teacher_name':'directory_name'})"
   ]
  },
  {
   "cell_type": "code",
   "execution_count": null,
   "id": "29b3a357",
   "metadata": {
    "scrolled": true
   },
   "outputs": [],
   "source": [
    "teachers_list_df"
   ]
  },
  {
   "cell_type": "markdown",
   "id": "126fc437",
   "metadata": {},
   "source": [
    "### Assign Batches"
   ]
  },
  {
   "cell_type": "code",
   "execution_count": null,
   "id": "d6556def",
   "metadata": {},
   "outputs": [],
   "source": [
    "batch_size = 10"
   ]
  },
  {
   "cell_type": "code",
   "execution_count": null,
   "id": "b71ea032",
   "metadata": {},
   "outputs": [],
   "source": [
    "print('Batch size set to',batch_size,'rows')\n",
    "\n",
    "num_rows = teachers_list_df.shape[0]\n",
    "print('Number of total rows is',num_rows)\n",
    "\n",
    "num_batches = ((num_rows - (num_rows % batch_size)) / batch_size) + min(1,num_rows % batch_size)\n",
    "print('Number of batches is',num_batches)\n",
    "\n",
    "#perhaps incorporate divmod()"
   ]
  },
  {
   "cell_type": "code",
   "execution_count": null,
   "id": "1736f5e3",
   "metadata": {},
   "outputs": [],
   "source": [
    "for index, row in teachers_list_df.iterrows():\n",
    "    teachers_list_df.loc[index, 'batch_id'] = ((index - (index % batch_size)) / batch_size) + 1\n",
    "\n",
    "teachers_list_df.batch_id = teachers_list_df.batch_id.astype('int')"
   ]
  },
  {
   "cell_type": "code",
   "execution_count": null,
   "id": "46befbec",
   "metadata": {},
   "outputs": [],
   "source": [
    "teachers_list_df.tail(15)"
   ]
  },
  {
   "cell_type": "markdown",
   "id": "417f1bca",
   "metadata": {},
   "source": [
    "### Scrape a Single Batch"
   ]
  },
  {
   "cell_type": "code",
   "execution_count": null,
   "id": "3f248c02",
   "metadata": {},
   "outputs": [],
   "source": [
    "scrape_batch_id = 578"
   ]
  },
  {
   "cell_type": "code",
   "execution_count": null,
   "id": "bad4c495",
   "metadata": {},
   "outputs": [],
   "source": [
    "teachers_batch = teachers_list_df.copy().loc[teachers_list_df.batch_id == scrape_batch_id]\n",
    "print(teachers_batch.shape[0],'rows in batch')"
   ]
  },
  {
   "cell_type": "code",
   "execution_count": null,
   "id": "7f9e9101",
   "metadata": {
    "scrolled": true
   },
   "outputs": [],
   "source": [
    "#Batch Start\n",
    "batch_start_time = datetime.now()\n",
    "\n",
    "for index, row in teachers_batch.iterrows():\n",
    "    print('Teacher =', row.teacher_href)\n",
    "    \n",
    "    teacher_url = 'https://insighttimer.com/' + row.teacher_href\n",
    "    \n",
    "    driver = webdriver.Chrome(executable_path=chrome_driver_path)\n",
    "    driver.get(teacher_url)\n",
    "\n",
    "    #Wait for page to fully load\n",
    "    driver.implicitly_wait(3)  #Changing from 2 to 3 reduced errors.\n",
    "\n",
    "    #Make soup and close driver\n",
    "    soup = BS(driver.page_source)\n",
    "    driver.close()\n",
    "    \n",
    "    #Get teacher_name\n",
    "    h2_name_tag = soup.find('h2', attrs = {'class':'chakra-text css-nagewt'})\n",
    "    teachers_batch.loc[index, 'teacher_name'] = h2_name_tag.text\n",
    "\n",
    "    #Get location\n",
    "    p_location_tag = soup.find('p', attrs = {'class':'chakra-text css-1n5ydt0'})\n",
    "    teachers_batch.loc[index, 'location'] = p_location_tag.text\n",
    "    \n",
    "    #Get followers\n",
    "    p_followers_tag = soup.find('p', attrs = {'class':'chakra-text css-brfdt9'})\n",
    "    teachers_batch.loc[index, 'followers'] = p_followers_tag.text\n",
    "\n",
    "    #Get languages\n",
    "    #Need to add error processing for teachers without languages\n",
    "    p_languages_tag = soup.find('p', attrs = {'class':'chakra-text css-1gmivde'})\n",
    "    teachers_batch.loc[index, 'languages'] = p_languages_tag.text\n",
    "    \n",
    "    #Get date joined\n",
    "    p_date_joined_tag = soup.find('p', attrs = {'class':'chakra-text css-d0wkpr'})\n",
    "    teachers_batch.loc[index, 'date_joined'] = p_date_joined_tag.text    \n",
    "    \n",
    "    #Get about text\n",
    "    div_about_tag = soup.find('div', attrs = {'class':'css-17179af'})\n",
    "    teachers_batch.loc[index, 'about'] = div_about_tag.text   \n",
    "\n",
    "    #Get image url\n",
    "    img_image_tag = soup.find('img', attrs = {'class':'chakra-image css-1ssn357'})\n",
    "    teachers_batch.loc[index, 'image_url'] = img_image_tag.get('src', default = '/no src')\n",
    "    \n",
    "    teachers_batch.loc[index, 'scrape_date'] = date.today()\n",
    "\n",
    "#Save batch results to data file\n",
    "batch_id_string = str(scrape_batch_id).zfill(5)\n",
    "batch_filename = '../data/teacher_batch_files/teacher_batch_' + str(batch_id_string) + '.csv'\n",
    "teachers_batch.to_csv(batch_filename)\n",
    "\n",
    "#Batch End\n",
    "batch_end_time = datetime.now()\n",
    "\n",
    "#Print Runtime \n",
    "batch_runtime = batch_end_time - batch_start_time\n",
    "hours, remainder = divmod(batch_runtime.seconds, 3600)\n",
    "minutes, seconds = divmod(remainder, 60)\n",
    "\n",
    "print('Batch_id',scrape_batch_id,'completed')\n",
    "print('Batch runtime:')\n",
    "\n",
    "if hours > 0:\n",
    "    print(hours,'hours')\n",
    "if minutes > 0:\n",
    "    print(minutes,'minutes')\n",
    "print(seconds,'seconds')"
   ]
  },
  {
   "cell_type": "code",
   "execution_count": null,
   "id": "086a330e",
   "metadata": {
    "scrolled": false
   },
   "outputs": [],
   "source": [
    "teachers_batch"
   ]
  }
 ],
 "metadata": {
  "kernelspec": {
   "display_name": "Python 3 (ipykernel)",
   "language": "python",
   "name": "python3"
  },
  "language_info": {
   "codemirror_mode": {
    "name": "ipython",
    "version": 3
   },
   "file_extension": ".py",
   "mimetype": "text/x-python",
   "name": "python",
   "nbconvert_exporter": "python",
   "pygments_lexer": "ipython3",
   "version": "3.9.13"
  }
 },
 "nbformat": 4,
 "nbformat_minor": 5
}
