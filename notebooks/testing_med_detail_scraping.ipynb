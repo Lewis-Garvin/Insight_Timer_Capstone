{
 "cells": [
  {
   "cell_type": "markdown",
   "id": "309af824",
   "metadata": {},
   "source": [
    "# Testing Med Detail Scraping"
   ]
  },
  {
   "cell_type": "code",
   "execution_count": 13,
   "id": "37c68692",
   "metadata": {},
   "outputs": [],
   "source": [
    "import os\n",
    "from selenium import webdriver\n",
    "from bs4 import BeautifulSoup as BS\n",
    "import pandas as pd\n",
    "import string\n",
    "from datetime import date\n",
    "from datetime import datetime\n",
    "import json"
   ]
  },
  {
   "cell_type": "code",
   "execution_count": 14,
   "id": "eb0e7f8c",
   "metadata": {},
   "outputs": [],
   "source": [
    "# Insight Timer webpages use javascript, so need selenium and chrome driver.\n",
    "chrome_driver_path = '../../../../Tech/chrome_driver/chromedriver.exe'"
   ]
  },
  {
   "cell_type": "code",
   "execution_count": 15,
   "id": "a926b094",
   "metadata": {},
   "outputs": [],
   "source": [
    "#url = 'https://insighttimer.com/yuvalron/guided-meditations/misty-piano-lullaby-at-40hz'\n",
    "url = 'https://insighttimer.com/frcp/guided-meditations/becoming-a-saint'"
   ]
  },
  {
   "cell_type": "code",
   "execution_count": 16,
   "id": "a5741e0b",
   "metadata": {},
   "outputs": [],
   "source": [
    "driver = webdriver.Chrome(executable_path=chrome_driver_path)\n",
    "driver.get(url)\n",
    "\n",
    "#Wait for page to fully load\n",
    "driver.implicitly_wait(3)  #Two seconds is usually but not always long enough.\n",
    "        \n",
    "#Make soup\n",
    "soup = BS(driver.page_source)\n",
    "\n",
    "driver.close()"
   ]
  },
  {
   "cell_type": "code",
   "execution_count": 17,
   "id": "8a8edca5",
   "metadata": {},
   "outputs": [],
   "source": [
    "div_container_tag = soup.find('div', attrs = {'class':'MuiGrid-root MuiGrid-container MuiGrid-spacing-xs-4'})"
   ]
  },
  {
   "cell_type": "code",
   "execution_count": 18,
   "id": "7e4dd0c3",
   "metadata": {},
   "outputs": [
    {
     "name": "stdout",
     "output_type": "stream",
     "text": [
      "title = Becoming A Saint\n"
     ]
    }
   ],
   "source": [
    "#Title\n",
    "h1_title_tag = div_container_tag.find('h1', attrs = {'class':'font-ProxiBold sm:text-3xl2 text-2xl2 w-full leading-tight mb-2'})\n",
    "print('title =', h1_title_tag.text)"
   ]
  },
  {
   "cell_type": "code",
   "execution_count": 19,
   "id": "59249ad9",
   "metadata": {},
   "outputs": [
    {
     "name": "stdout",
     "output_type": "stream",
     "text": [
      "rating = 5 \n"
     ]
    }
   ],
   "source": [
    "#Rating\n",
    "p_rating_tag = div_container_tag.find('p', attrs = {'class':'font-ProxiSemibold text-xl flex items-center mx-auto'})\n",
    "print('rating =', p_rating_tag.text)"
   ]
  },
  {
   "cell_type": "code",
   "execution_count": 20,
   "id": "980febcf",
   "metadata": {},
   "outputs": [
    {
     "name": "stdout",
     "output_type": "stream",
     "text": [
      "type = talks\n"
     ]
    }
   ],
   "source": [
    "#Type\n",
    "div_type_tag = div_container_tag.find('div', attrs = {'class':'font-ProxiSemibold text-xl capitalize flex flex-row items-center'})\n",
    "print('type =', div_type_tag.text)"
   ]
  },
  {
   "cell_type": "code",
   "execution_count": 21,
   "id": "db2b7d65",
   "metadata": {},
   "outputs": [
    {
     "name": "stdout",
     "output_type": "stream",
     "text": [
      "activity = Meditation\n",
      "suitable for = Everyone\n",
      "plays = 20\n"
     ]
    }
   ],
   "source": [
    "#Activity\n",
    "#Suitable for\n",
    "#Plays\n",
    "div_fPStxl_tags = div_container_tag.find_all('div', attrs = {'class':'font-ProxiSemibold text-xl'})\n",
    "\n",
    "print('activity =', div_fPStxl_tags[0].text)\n",
    "print('suitable for =', div_fPStxl_tags[1].text)\n",
    "print('plays =', div_fPStxl_tags[2].text)"
   ]
  },
  {
   "cell_type": "code",
   "execution_count": 22,
   "id": "b13ee369",
   "metadata": {},
   "outputs": [
    {
     "name": "stdout",
     "output_type": "stream",
     "text": [
      "What does it mean to become a Saint?  Is it something that only a very few people do, or is it something that every person can get - not as a goal, but as a result of love? The White Robed Monks of St Benedict believe that Jesus never said no to anyone and try to focus on the lessons that Christ came to teach humanity - that of unconditional love. \n"
     ]
    }
   ],
   "source": [
    "#Description\n",
    "p_description_tag = div_container_tag.find('p', attrs = {'class':'text-base sm:text-lg tracking-wide leading-relaxed font-ProxiRegular'})\n",
    "print(p_description_tag.text)"
   ]
  },
  {
   "cell_type": "code",
   "execution_count": null,
   "id": "9238eea3",
   "metadata": {},
   "outputs": [],
   "source": [
    "#Topics\n",
    "div_topics_tag = div_container_tag.find('div', attrs = {'class':'MuiGrid-root MuiGrid-container MuiGrid-spacing-xs-1'})\n"
   ]
  },
  {
   "cell_type": "code",
   "execution_count": null,
   "id": "2a59f230",
   "metadata": {},
   "outputs": [],
   "source": []
  },
  {
   "cell_type": "code",
   "execution_count": 24,
   "id": "ad597bb6",
   "metadata": {},
   "outputs": [
    {
     "name": "stdout",
     "output_type": "stream",
     "text": [
      "duration = 00:00\n"
     ]
    }
   ],
   "source": [
    "#length\n",
    "#Duration\n",
    "h2_duration_tag = soup.find('h2', attrs = {'class':'font-ProxiRegular text-5xl text-white tracking-wider relative z-10'})\n",
    "print('duration =',h2_duration_tag.text)\n"
   ]
  },
  {
   "cell_type": "code",
   "execution_count": 26,
   "id": "afcb8b66",
   "metadata": {},
   "outputs": [
    {
     "name": "stdout",
     "output_type": "stream",
     "text": [
      "upload date = 2022-12-07T02:58:29.000Z\n",
      "duration = PT8M32S\n"
     ]
    }
   ],
   "source": [
    "#Upload Date\n",
    "script_json_tag = soup.find('script', attrs = {'type':'application/ld+json',\n",
    "                                                     'data-react-helmet':'true'})\n",
    "dict = json.loads(script_json_tag.text)\n",
    "print('upload date =',dict['@graph'][2]['uploadDate'])\n",
    "\n",
    "#Duration\n",
    "print('duration =',dict['@graph'][2]['duration'])"
   ]
  },
  {
   "cell_type": "code",
   "execution_count": null,
   "id": "6d0ce3c2",
   "metadata": {},
   "outputs": [],
   "source": [
    "#Image"
   ]
  },
  {
   "cell_type": "code",
   "execution_count": null,
   "id": "942763a0",
   "metadata": {},
   "outputs": [],
   "source": [
    "#Number of Reviews\n",
    "#Rating with more precision?"
   ]
  },
  {
   "cell_type": "code",
   "execution_count": null,
   "id": "bbd7ff66",
   "metadata": {},
   "outputs": [],
   "source": []
  },
  {
   "cell_type": "code",
   "execution_count": null,
   "id": "2ee2d292",
   "metadata": {},
   "outputs": [],
   "source": []
  },
  {
   "cell_type": "code",
   "execution_count": null,
   "id": "08d6d6ab",
   "metadata": {},
   "outputs": [],
   "source": []
  },
  {
   "cell_type": "code",
   "execution_count": null,
   "id": "1474b07b",
   "metadata": {},
   "outputs": [],
   "source": [
    "<div class=\"MuiGrid-root MuiGrid-container MuiGrid-spacing-xs-4\">\n",
    "    #1 Title\n",
    "    <div class=\"MuiGrid-root MuiGrid-item MuiGrid-grid-xs-12\">\n",
    "        <h1 class=\"font-ProxiBold sm:text-3xl2 text-2xl2 w-full leading-tight mb-2\">Re-Centering In Times Of Uncertainty</h1>\n",
    "        <p class=\"font-ProxiSemibold text-grey_ text-base\">by <a href=\"/alex_elle\" aria-current=\"page\" class=\"active\"> Alex Elle </a></p></div>\n",
    "\n",
    "    #2 Rating\n",
    "    <div class=\"MuiGrid-root flex MuiGrid-item\">\n",
    "        <svg width=\"22px\" height=\"43px\" viewBox=\"0 0 22 43\"><title>rating.1a6a70b7</title><g id=\"Page-1\" stroke=\"none\" stroke-width=\"1\" fill=\"none\" fill-rule=\"evenodd\"><g id=\"Letter\" transform=\"translate(-141.000000, -437.000000)\" fill=\"#CCCCCC\"><g id=\"rating.1a6a70b7\" transform=\"translate(141.000000, 437.000000)\"><path d=\"M20.919,41.292 C20.2834517,41.1677393 19.6634226,40.9742527 19.07,40.715 C18.144,35.548 13.893,32.437 13.893,32.437 C12.916,36.942 16.413,39.721 18.191,40.815 C16.549,40.047 12.801,38.783 6.7,39.359 C6.7,39.359 12.473,45.019 18.807,41.556 C19.537,41.792 20.304,41.966 20.763,42.062 C20.870434,42.0846885 20.9824669,42.061868 21.072466,41.9989633 C21.162465,41.9360587 21.2223917,41.8386886 21.238,41.73 C21.2648149,41.5221254 21.1241889,41.3296436 20.918,41.292\" id=\"Path\"></path><path d=\"M11.31,37.36 C11.873,37.799 12.487,38.196 12.857,38.425 C13.04,38.538 13.28,38.474 13.381,38.285 C13.4715364,38.1129288 13.411291,37.9000911 13.244,37.801 C12.7285659,37.4903971 12.2489948,37.1238438 11.814,36.708 C12.684,31.893 9.974,27.819 9.974,27.819 C7.655,31.451 9.812,34.994 11.012,36.517 C9.825,35.322 6.956,33.025 1.43,31.59 C1.43,31.59 4.642,38.379 11.31,37.36\" id=\"Path\"></path><path d=\"M6.682,31.673 C7.022,32.259 7.424,32.825 7.67,33.158 C7.72835711,33.2364201 7.81646776,33.2873071 7.91355701,33.2986625 C8.01064627,33.310018 8.10812158,33.280837 8.183,33.218 C8.32550185,33.0988208 8.34886489,32.8885533 8.236,32.741 C7.89075009,32.2853033 7.5972778,31.7926052 7.361,31.272 C9.857,27.312 8.919,22.756 8.919,22.756 C5.563,25.16 6.202,29.053 6.719,30.822 C6.096,29.348 4.379,26.309 1.77635684e-15,23.102 C1.77635684e-15,23.102 0.41,30.239 6.682,31.673\" id=\"Path\"></path><path d=\"M4.497,24.727 C4.527,25.401 4.62,26.087 4.684,26.494 C4.716,26.694 4.912,26.827 5.112,26.781 C5.29382611,26.740498 5.41206812,26.5646734 5.381,26.381 C5.28630151,25.8189465 5.25477213,25.2480636 5.287,24.679 C9.345,22.298 10.631,17.825 10.631,17.825 C6.533,18.435 5.291,22.182 4.927,23.987 C5.059,22.396 4.948,18.917 2.551,14.077 C2.551,14.077 -0.404,20.602 4.497,24.727\" id=\"Path\"></path><path d=\"M5.482,19.188 C5.47586854,19.273601 5.5057299,19.3578784 5.56438802,19.420523 C5.62304614,19.4831676 5.70518116,19.5184979 5.791,19.5180052 C5.95469247,19.518341 6.09043953,19.3913518 6.101,19.228 C6.143,18.579 6.275,18.048 6.364,17.754 C10.317,16.514 12.318,12.94 12.318,12.94 C8.688,12.655 6.87,15.617 6.195,17.091 C6.629,15.754 7.235,12.755 6.157,8.142 C6.157,8.142 2.315,13.144 5.678,17.639 C5.568,18.222 5.51,18.827 5.482,19.189\" id=\"Path\"></path><path d=\"M7.927,12.565 C7.90886607,12.6453161 7.92512379,12.7295561 7.97184307,12.797356 C8.01856234,12.865156 8.09149118,12.9103453 8.173,12.922 C8.32858826,12.9450823 8.47545703,12.8436729 8.509,12.69 C8.61103274,12.2192922 8.76532259,11.7614539 8.969,11.325 C12.905,10.7 15.318,7.582 15.318,7.582 C11.908,6.802 9.756,9.365 8.904,10.672 C9.507,9.462 10.513,6.695 10.148,2.16 C10.148,2.16 5.78,6.377 8.335,11.12 C8.147,11.66 8.005,12.226 7.927,12.565\" id=\"Path\"></path><path d=\"M17.386,0.142 C17.386,0.142 11.178,1.412 10.953,7.03 C10.953,7.03 14.355,5.758 17.386,0.142\" id=\"Path\"></path></g></g></g></svg>\n",
    "        <div class=\"flex flex-col justify-center items-start bg-center bg-contain bg-no-repeat\">\n",
    "            <div class=\"font-ProxiRegular text-black50 text-sm leading-relaxed mx-auto\">Rated</div>\n",
    "            <p class=\"font-ProxiSemibold text-xl flex items-center mx-auto\">4.8 \n",
    "                <svg class=\"MuiSvgIcon-root jss638 text-black75\" focusable=\"false\" viewBox=\"0 0 24 24\" aria-hidden=\"true\" role=\"presentation\"><path d=\"M12 17.27L18.18 21l-1.64-7.03L22 9.24l-7.19-.61L12 2 9.19 8.63 2 9.24l5.46 4.73L5.82 21z\"></path><path fill=\"none\" d=\"M0 0h24v24H0z\"></path></svg></p></div>\n",
    "        <svg width=\"22px\" height=\"43px\" viewBox=\"0 0 22 43\"><title>Group</title><g id=\"Page-1\" stroke=\"none\" stroke-width=\"1\" fill=\"none\" fill-rule=\"evenodd\"><g id=\"Letter\" transform=\"translate(-207.000000, -437.000000)\" fill=\"#CCCCCC\"><g id=\"Group\" transform=\"translate(207.000000, 437.000000)\"><path d=\"M0.32,41.292 C0.955889207,41.1678099 1.57625736,40.9743221 2.17,40.715 C3.096,35.548 7.347,32.437 7.347,32.437 C8.323,36.942 4.827,39.721 3.048,40.815 C4.691,40.047 8.438,38.783 14.54,39.359 C14.54,39.359 8.766,45.019 2.433,41.556 C1.703,41.792 0.935,41.966 0.477,42.062 C0.369272345,42.0853136 0.25670128,42.0627918 0.166235362,41.999826 C0.0757694454,41.9368602 0.0155525172,41.8391187 0,41.73 C-0.0268148663,41.5221254 0.113811111,41.3296436 0.32,41.292\" id=\"Path\"></path><path d=\"M9.929,37.36 C9.367,37.799 8.753,38.196 8.382,38.425 C8.29481814,38.4788626 8.18927797,38.4943745 8.09028478,38.4678754 C7.9912916,38.4413763 7.90761467,38.3752135 7.859,38.285 C7.76846363,38.1129288 7.82870901,37.9000911 7.996,37.801 C8.51143409,37.4903971 8.99100521,37.1238438 9.426,36.708 C8.556,31.893 11.265,27.819 11.265,27.819 C13.585,31.451 11.428,34.994 10.228,36.517 C11.415,35.322 14.284,33.025 19.81,31.59 C19.81,31.59 16.598,38.379 9.929,37.36\" id=\"Path\"></path><path d=\"M14.558,31.673 C14.218,32.259 13.816,32.825 13.57,33.158 C13.5116355,33.2367283 13.4233213,33.2878266 13.3259793,33.2991895 C13.2286374,33.3105523 13.1309284,33.2811688 13.056,33.218 C12.9138163,33.0985325 12.8908976,32.8882974 13.004,32.741 C13.453,32.148 13.734,31.592 13.878,31.272 C11.383,27.312 12.321,22.756 12.321,22.756 C15.677,25.16 15.037,29.053 14.52,30.822 C15.143,29.348 16.86,26.309 21.24,23.102 C21.24,23.102 20.829,30.239 14.558,31.673\" id=\"Path\"></path><path d=\"M16.742,24.727 C16.712,25.401 16.619,26.087 16.555,26.494 C16.5392331,26.5901446 16.4844303,26.6754975 16.4035691,26.7298468 C16.322708,26.7841961 16.2229796,26.8027084 16.128,26.781 L16.127,26.781 C15.9455784,26.7400506 15.8278666,26.5643613 15.859,26.381 C15.982,25.651 15.974,25.029 15.953,24.679 C11.894,22.298 10.608,17.825 10.608,17.825 C14.707,18.435 15.949,22.182 16.313,23.987 C16.181,22.396 16.292,18.917 18.689,14.077 C18.689,14.077 21.644,20.602 16.742,24.727\" id=\"Path\"></path><path d=\"M15.757,19.188 C15.7631178,19.2734268 15.7333893,19.3575434 15.6749518,19.420155 C15.6165143,19.4827667 15.5346453,19.5182188 15.449,19.518001 C15.2853075,19.518341 15.1495605,19.3913518 15.139,19.228 C15.1065314,18.7284017 15.018317,18.2339985 14.876,17.754 C10.923,16.514 8.922,12.94 8.922,12.94 C12.552,12.655 14.37,15.617 15.045,17.091 C14.611,15.754 14.005,12.755 15.082,8.142 C15.082,8.142 18.925,13.144 15.562,17.639 C15.672,18.222 15.73,18.827 15.757,19.189\" id=\"Path\"></path><path d=\"M13.313,12.565 C13.3311339,12.6453161 13.3148762,12.7295561 13.2681569,12.797356 C13.2214377,12.865156 13.1485088,12.9103453 13.067,12.922 C12.9110584,12.9456569 12.763559,12.8441143 12.73,12.69 C12.6279673,12.2192922 12.4736774,11.7614539 12.27,11.325 C8.335,10.7 5.922,7.582 5.922,7.582 C9.332,6.802 11.483,9.365 12.336,10.672 C11.732,9.462 10.727,6.695 11.091,2.16 C11.091,2.16 15.46,6.377 12.905,11.12 C13.093,11.66 13.235,12.226 13.313,12.565\" id=\"Path\"></path><path d=\"M3.853,0.142 C3.853,0.142 10.061,1.412 10.286,7.03 C10.286,7.03 6.884,5.758 3.853,0.142\" id=\"Path\"></path></g></g></g></svg></div>\n",
    "\n",
    "    #3 Type\n",
    "    <div class=\"MuiGrid-root MuiGrid-item\">\n",
    "        <div class=\"flex flex-col justify-center items-start\">\n",
    "            <div class=\"font-ProxiRegular text-black50 text-sm leading-relaxed\">Type</div>\n",
    "            <div class=\"font-ProxiSemibold text-xl capitalize flex flex-row items-center\">\n",
    "                <svg width=\"24\" height=\"23\" viewBox=\"0 0 24 23\" class=\"h-5 w-5 mr-1 \">\n",
    "                    <g fill=\"#181818\" fill-rule=\"evenodd\">\n",
    "                        <path d=\"M10.87 10.574c0-.495-.405-.9-.9-.9a.9.9 0 0 0-.9.9v3.429a.6.6 0 1 1-1.2 0v-3.429a2.1 2.1 0 0 1 1.233-1.908l1.552-5.125A3.066 3.066 0 0 0 9.06 0L3.44 9.702 2.632 15.8.483 16.964a.5.5 0 0 0-.177.718l2.968 4.429a.5.5 0 0 0 .686.142l4.705-3.037a4.8 4.8 0 0 0 2.205-4.038v-4.603zM20.7 9.702L15.08 0a3.067 3.067 0 0 0-1.596 3.54l1.551 5.127a2.098 2.098 0 0 1 1.234 1.908v3.428a.6.6 0 0 1-1.2 0v-3.428a.9.9 0 0 0-1.799 0v4.602c0 1.634.83 3.155 2.204 4.04l4.704 3.036a.5.5 0 0 0 .687-.142l2.968-4.43a.5.5 0 0 0-.178-.717L21.508 15.8l-.809-6.099z\"></path>\n",
    "                    </g>\n",
    "                </svg>guided\n",
    "            </div>\n",
    "        </div>\n",
    "    </div>\n",
    "\n",
    "    #4 Activity\n",
    "    <div class=\"MuiGrid-root MuiGrid-item\">\n",
    "        <div class=\"flex flex-col justify-center items-start\">\n",
    "            <div class=\"font-ProxiRegular text-black50 text-sm leading-relaxed\">Activity</div>\n",
    "            <div class=\"font-ProxiSemibold text-xl\">Meditation</div></div></div>\n",
    "\n",
    "    #5 Suitable for\n",
    "    <div class=\"MuiGrid-root MuiGrid-item\">\n",
    "        <div class=\"flex flex-col justify-center items-start\">\n",
    "            <div class=\"font-ProxiRegular text-black50 text-sm leading-relaxed\">Suitable for</div>\n",
    "            <div class=\"font-ProxiSemibold text-xl\">Everyone</div></div></div>\n",
    "\n",
    "    #6 Plays\n",
    "    <div class=\"MuiGrid-root MuiGrid-item\">\n",
    "        <div class=\"flex flex-col justify-center items-start\">\n",
    "            <div class=\"font-ProxiRegular text-black50 text-sm leading-relaxed\">Plays</div>\n",
    "            <div class=\"font-ProxiSemibold text-xl\">365k</div></div></div>\n",
    "\n",
    "    #7 Description\n",
    "    <div class=\"MuiGrid-root MuiGrid-item MuiGrid-grid-md-12\">\n",
    "        <p class=\"text-base sm:text-lg tracking-wide leading-relaxed font-ProxiRegular\">It's no secret that collectively the world is going through a scary and uncertain time. This meditation was created for re-centering in times of fear, chaos, and uncertainty. We cannot always control what is going on outside of us, but we can always come back to our breath.</p></div>\n",
    "\n",
    "    #8 Topics  6 div class 'MuiGrid-root MuiGrid-item' each has a topic\n",
    "    <div class=\"MuiGrid-root MuiGrid-item MuiGrid-grid-xs-12\">\n",
    "        <div class=\"MuiGrid-root MuiGrid-container MuiGrid-spacing-xs-1\">\n",
    "            <div class=\"MuiGrid-root MuiGrid-item\"><a class=\"MuiButtonBase-root MuiButton-root MuiButton-text outline-none font-ProxiSemibold text-lg tracking-wide text-xdark_ bg-xlightgrey_ py-2 px-6 hover:bg-black14\" tabindex=\"0\" role=\"button\" aria-disabled=\"false\" href=\"/meditation-topics/anxiety\"><span class=\"MuiButton-label\"><span>Anxiety</span></span><span class=\"MuiTouchRipple-root\"></span></a></div>\n",
    "            <div class=\"MuiGrid-root MuiGrid-item\"><a class=\"MuiButtonBase-root MuiButton-root MuiButton-text outline-none font-ProxiSemibold text-lg tracking-wide text-xdark_ bg-xlightgrey_ py-2 px-6 hover:bg-black14\" tabindex=\"0\" role=\"button\" aria-disabled=\"false\" href=\"/meditation-topics/stressanxiety\"><span class=\"MuiButton-label\"><span>Stress &amp; Anxiety</span></span><span class=\"MuiTouchRipple-root\"></span></a></div>\n",
    "            <div class=\"MuiGrid-root MuiGrid-item\"><a class=\"MuiButtonBase-root MuiButton-root MuiButton-text outline-none font-ProxiSemibold text-lg tracking-wide text-xdark_ bg-xlightgrey_ py-2 px-6 hover:bg-black14\" tabindex=\"0\" role=\"button\" aria-disabled=\"false\" href=\"/meditation-topics/energybased\"><span class=\"MuiButton-label\"><span>Energy-Based</span></span><span class=\"MuiTouchRipple-root\"></span></a></div>\n",
    "            <div class=\"MuiGrid-root MuiGrid-item\"><a class=\"MuiButtonBase-root MuiButton-root MuiButton-text outline-none font-ProxiSemibold text-lg tracking-wide text-xdark_ bg-xlightgrey_ py-2 px-6 hover:bg-black14\" tabindex=\"0\" role=\"button\" aria-disabled=\"false\" href=\"/meditation-topics/concentration\"><span class=\"MuiButton-label\"><span>Concentration</span></span><span class=\"MuiTouchRipple-root\"></span></a></div>\n",
    "            <div class=\"MuiGrid-root MuiGrid-item\">\n",
    "                <a class=\"MuiButtonBase-root MuiButton-root MuiButton-text outline-none font-ProxiSemibold text-lg tracking-wide text-xdark_ bg-xlightgrey_ py-2 px-6 hover:bg-black14\" tabindex=\"0\" role=\"button\" aria-disabled=\"false\" href=\"/meditation-topics/parentspirituality\">\n",
    "                    <span class=\"MuiButton-label\"><span>Spirituality</span></span>\n",
    "                    <span class=\"MuiTouchRipple-root\"></span></a></div>\n",
    "            <div class=\"MuiGrid-root MuiGrid-item\">\n",
    "                <a class=\"MuiButtonBase-root MuiButton-root MuiButton-text outline-none font-ProxiSemibold text-lg tracking-wide text-xdark_ bg-xlightgrey_ py-2 px-6 hover:bg-black14\" tabindex=\"0\" role=\"button\" aria-disabled=\"false\" href=\"/meditation-topics/breathingmeditation\">\n",
    "                    <span class=\"MuiButton-label\"><span>Breathing Meditation</span></span>\n",
    "                    <span class=\"MuiTouchRipple-root\"></span></a></div></div></div>\n",
    "    #9\n",
    "    <div class=\"MuiGrid-root MuiGrid-item MuiGrid-grid-xs-12\"></div></div>"
   ]
  },
  {
   "cell_type": "code",
   "execution_count": null,
   "id": "f6fbad43",
   "metadata": {},
   "outputs": [],
   "source": [
    "\n",
    "<script type=\"application/ld+json\" data-react-helmet=\"true\">\n",
    "\n",
    "{\"@context\":\"http://schema.org\",\n",
    " \"@type\":\"WebPage\",\n",
    " \"@graph\":[{\"@type\":\"Product\",\n",
    "            \"name\":\"Misty Piano Lullaby @40Hz\",\n",
    "            \"image\":\"https://libraryitems.insighttimer.com/p4e2e9h3j5y1b0a7q9a3f6b2w6s6u8h7y2w4f0q8/pictures/tiny_rectangle_large.jpeg\",\n",
    "            \"description\":\"Experience the beautiful artistry of Grammy award winning pianist, Ruslan Sirota. Neuroscience research has established that neurons in our brains communicate at a frequency 40Hz and a lessening of this ability are noted in dementia and loss of clarity and focus. 40Hz brain entrainment has been shown to reduce beta amyloid in the auditory canal and hippocampus. Research has also shown 40Hz entrainment helps to reduce pain.\",\n",
    "            \"mpn\":\"p4e2e9h3j5y1b0a7q9a3f6b2w6s6u8h7y2w4f0q8\",\n",
    "            \"sku\":\"p4e2e9h3j5y1b0a7q9a3f6b2w6s6u8h7y2w4f0q8\",\n",
    "            \"category\":\"Guided Meditation\",\n",
    "            \"brand\":{\"@type\":\"Person\",\"name\":\"Yuval Ron\"},\n",
    "            \"aggregateRating\":{\"@type\":\"AggregateRating\",\n",
    "                               \"ratingValue\":4.89,\n",
    "                               \"reviewCount\":54,\n",
    "                               \"worstRating\":\"1\",\n",
    "                               \"bestRating\":\"5\"},\n",
    "            \"review\":[{\"@type\":\"Review\",\n",
    "                       \"author\":\"Ibu Lori\",\n",
    "                       \"datePublished\":\"2022-10-22\",\n",
    "                       \"description\":\"Beautiful memories float in with your soulful piano melodies. Thank you.\",\n",
    "                       \"reviewRating\":{\"@type\":\"Rating\",\n",
    "                                       \"bestRating\":\"5\",\n",
    "                                       \"ratingValue\":5,\n",
    "                                       \"worstRating\":\"1\"}},\n",
    "                      {\"@type\":\"Review\",\n",
    "                       \"author\":\"Orly Nitzan\",\n",
    "                       \"datePublished\":\"2022-10-22\",\n",
    "                       \"description\":\"כנ״ל💛💚💙\\nתודה יובל!\",\n",
    "                       \"reviewRating\":{\"@type\":\"Rating\",\n",
    "                                       \"bestRating\":\"5\",\n",
    "                                       \"ratingValue\":5,\n",
    "                                       \"worstRating\":\"1\"}}]},\n",
    "           {\"@type\":\"AudioObject\",\n",
    "            \"contentUrl\":\"https://libraryaudio.insighttimer.com/p4e2e9h3j5y1b0a7q9a3f6b2w6s6u8h7y2w4f0q8%2Faudio%2Fpreview.mp3?alt=media\",\n",
    "            \"description\":\"Experience the beautiful artistry of Grammy award winning pianist, Ruslan Sirota. Neuroscience research has established that neurons in our brains communicate at a frequency 40Hz and a lessening of this ability are noted in dementia and loss of clarity and focus. 40Hz brain entrainment has been shown to reduce beta amyloid in the auditory canal and hippocampus. Research has also shown 40Hz entrainment helps to reduce pain.\",\n",
    "            \"duration\":\"PT9M33S\",\n",
    "            \"encodingFormat\":\"audio/mpeg\",\n",
    "            \"name\":\"Misty Piano Lullaby @40Hz\"},\n",
    "           {\"@type\":\"VideoObject\",\n",
    "            \"name\":\"Misty Piano Lullaby @40Hz\",\n",
    "            \"description\":\"Experience the beautiful artistry of Grammy award winning pianist, Ruslan Sirota. Neuroscience research has established that neurons in our brains communicate at a frequency 40Hz and a lessening of this ability are noted in dementia and loss of clarity and focus. 40Hz brain entrainment has been shown to reduce beta amyloid in the auditory canal and hippocampus. Research has also shown 40Hz entrainment helps to reduce pain.\",\n",
    "            \"thumbnailUrl\":\"https://libraryitems.insighttimer.com/p4e2e9h3j5y1b0a7q9a3f6b2w6s6u8h7y2w4f0q8/pictures/tiny_rectangle_medium.jpeg\",\n",
    "            \"@id\":\"p4e2e9h3j5y1b0a7q9a3f6b2w6s6u8h7y2w4f0q8\",\n",
    "            \"contentUrl\":\"https://insighttimer.com/yuvalron/guided-meditations/misty-piano-lullaby-at-40hz\",\n",
    "            \"duration\":\"PT9M33S\",\n",
    "            \"uploadDate\":\"2022-10-14T21:04:59.000Z\",\n",
    "            \"author\":{\"@type\":\"Person\",\n",
    "                      \"name\":\"Yuval Ron\"},\n",
    "            \"interactionStatistic\":[{\"@type\":\"InteractionCounter\",\n",
    "                                     \"interactionType\":\"http://schema.org/WatchAction\",\n",
    "                                     \"userInteractionCount\":510}]}]}</script>"
   ]
  },
  {
   "cell_type": "code",
   "execution_count": null,
   "id": "565cdde2",
   "metadata": {},
   "outputs": [],
   "source": []
  }
 ],
 "metadata": {
  "kernelspec": {
   "display_name": "Python 3 (ipykernel)",
   "language": "python",
   "name": "python3"
  },
  "language_info": {
   "codemirror_mode": {
    "name": "ipython",
    "version": 3
   },
   "file_extension": ".py",
   "mimetype": "text/x-python",
   "name": "python",
   "nbconvert_exporter": "python",
   "pygments_lexer": "ipython3",
   "version": "3.9.13"
  }
 },
 "nbformat": 4,
 "nbformat_minor": 5
}
