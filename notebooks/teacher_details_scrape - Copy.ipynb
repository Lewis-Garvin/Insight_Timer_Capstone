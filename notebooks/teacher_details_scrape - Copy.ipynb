{
 "cells": [
  {
   "cell_type": "markdown",
   "id": "4247be46",
   "metadata": {},
   "source": [
    "# Teacher Details Scrape"
   ]
  },
  {
   "cell_type": "code",
   "execution_count": 1,
   "id": "0bd4b451",
   "metadata": {},
   "outputs": [],
   "source": [
    "from selenium import webdriver\n",
    "from bs4 import BeautifulSoup as BS\n",
    "import pandas as pd\n",
    "import string\n",
    "from datetime import date\n",
    "from datetime import datetime"
   ]
  },
  {
   "cell_type": "code",
   "execution_count": 2,
   "id": "34f52147",
   "metadata": {},
   "outputs": [],
   "source": [
    "# Insight Timer webpages use javascript, so need selenium and chrome driver.\n",
    "chrome_driver_path = '../../../../Tech/chrome_driver/chromedriver.exe'"
   ]
  },
  {
   "cell_type": "markdown",
   "id": "126fc437",
   "metadata": {},
   "source": [
    "### Function: Assign Batches"
   ]
  },
  {
   "cell_type": "markdown",
   "id": "fdbbad60",
   "metadata": {},
   "source": [
    "Assumptions/Requirements for function:\n",
    "- The Teachers List Scraping notebook has been run successfully, creating the teachers_list_df.csv file.\n",
    "- Teachers_list_df.csv has numeric sequential index values starting with 0.\n",
    "- The batch_size argument passed to the function is an integer value between 0 and the number of rows in teachers_list_df."
   ]
  },
  {
   "cell_type": "markdown",
   "id": "d4d1c0ef",
   "metadata": {},
   "source": [
    "***Note: Once you choose a batch size, you want to avoid reassigning batches with a different batch size. If you do reassign with a different batch size, you can redo it with the original batch size and it will be the same as it was before.***"
   ]
  },
  {
   "cell_type": "code",
   "execution_count": null,
   "id": "24c49598",
   "metadata": {},
   "outputs": [],
   "source": [
    "def assign_batches(batch_size):\n",
    "    teachers_list_df = pd.read_csv('../data/teachers_list_df.csv', index_col=0)\n",
    "    \n",
    "    num_rows = teachers_list_df.shape[0]    \n",
    "    \n",
    "    #Verify that the index values are as expected (0, 1, 2, etc.)\n",
    "    index_list = teachers_list_df.index.to_list()\n",
    "    for x in list(range(0,num_rows)):\n",
    "        assert index_list[x] == x\n",
    "\n",
    "    print(num_rows,'total rows')\n",
    "    print(batch_size,'rows per batch')\n",
    "    num_batches = ((num_rows - (num_rows % batch_size)) / batch_size) + min(1,num_rows % batch_size)\n",
    "    print(int(num_batches),'batches')\n",
    "\n",
    "    #perhaps incorporate divmod()\n",
    "    \n",
    "    for index, row in teachers_list_df.iterrows():\n",
    "        teachers_list_df.loc[index, 'batch_id'] = ((index - (index % batch_size)) / batch_size) + 1\n",
    "\n",
    "    teachers_list_df.batch_id = teachers_list_df.batch_id.astype('int')\n",
    "    \n",
    "    #Save batch results to data file\n",
    "    teachers_list_df.to_csv('../data/teachers_batch_list.csv')"
   ]
  },
  {
   "cell_type": "markdown",
   "id": "417f1bca",
   "metadata": {},
   "source": [
    "### Function: Scrape Teachers One Batch"
   ]
  },
  {
   "cell_type": "markdown",
   "id": "50ea37fe",
   "metadata": {},
   "source": [
    "Assumptions/Requirements for function:\n",
    "- The assign_batches function has been run to create the teachers_batch_list.csv file.\n",
    "- Dataframe teachers_batch_list has been created by reading in teachers_batch_list.csv file.\n",
    "- Teachers_batch_list has numeric sequential index values starting with 0.\n",
    "- The scrape_batch_id argument passed to the function is an integer that matches an index value for a row in teachers_batch_list."
   ]
  },
  {
   "cell_type": "code",
   "execution_count": 3,
   "id": "b2249847",
   "metadata": {},
   "outputs": [],
   "source": [
    "def scrape_teachers_one_batch(scrape_batch_id):\n",
    "    teachers_batch = teachers_batch_list.copy().loc[teachers_batch_list.batch_id == scrape_batch_id]\n",
    "    print(teachers_batch.shape[0],'rows in batch')\n",
    "    \n",
    "    #Batch Start\n",
    "    batch_start_time = datetime.now()\n",
    "    batch_row = 0\n",
    "\n",
    "    for index, row in teachers_batch.iterrows():\n",
    "        batch_row += 1\n",
    "        print('Batch row',batch_row,'of',teachers_batch.shape[0],': teacher_id =', row.teacher_id)\n",
    "\n",
    "        #Record scrape date (Rows will have scrape_date even if page not found.)\n",
    "        teachers_batch.loc[index, 'scrape_date'] = datetime.now()\n",
    "\n",
    "        teacher_url = 'https://insighttimer.com/' + row.teacher_id\n",
    "\n",
    "        driver = webdriver.Chrome(executable_path=chrome_driver_path)\n",
    "        driver.get(teacher_url)\n",
    "\n",
    "        #Wait for page to fully load\n",
    "        driver.implicitly_wait(2)  #Two seconds is usually but not always long enough.\n",
    "        \n",
    "        #Make soup\n",
    "        soup = BS(driver.page_source)\n",
    "    \n",
    "        h1_page_not_found_tag = soup.find('h1', attrs = {'class':'text-lg font-ProxiBold mb-6 leading-tight'})\n",
    "        if h1_page_not_found_tag is None:\n",
    "            page_found = True\n",
    "        elif h1_page_not_found_tag.text == \"The page you were looking for doesn't exist.\":\n",
    "            page_found = False\n",
    "        else:\n",
    "            page_found = True\n",
    "        \n",
    "        if page_found == False:\n",
    "            teachers_batch.loc[index, 'scrape_status'] = 'page not found'\n",
    "            print('PAGE NOT FOUND for teacher_id =',row.teacher_id)\n",
    "            driver.close() #Close driver (closes browser window)\n",
    "\n",
    "        else:\n",
    "            #Get teacher_name. If not found, wait longer, remake soup, and look again.\n",
    "            h2_name_tag = soup.find('h2', attrs = {'class':'chakra-text css-nagewt'})\n",
    "        \n",
    "            if h2_name_tag is None:\n",
    "                driver.implicitly_wait(5)\n",
    "                soup = BS(driver.page_source)\n",
    "                h2_name_tag = soup.find('h2', attrs = {'class':'chakra-text css-nagewt'})\n",
    "\n",
    "            driver.close() #Close driver (closes browser window)\n",
    "            \n",
    "            if h2_name_tag is None:\n",
    "                teachers_batch.loc[index, 'scrape_status'] = 'name not found'\n",
    "                print('Teacher name not found for teacher_id =',\n",
    "                      row.teacher_id, \n",
    "                      'in batch_id = ',\n",
    "                      scrape_batch_id)\n",
    "            else:\n",
    "                teachers_batch.loc[index, 'scrape_status'] = 'name found'\n",
    "                teachers_batch.loc[index, 'teacher_name'] = h2_name_tag.text\n",
    "                \n",
    "            #Get location\n",
    "            p_location_tag = soup.find('p', attrs = {'class':'chakra-text css-1n5ydt0'})\n",
    "            if p_location_tag is not None:    \n",
    "                teachers_batch.loc[index, 'location'] = p_location_tag.text\n",
    "\n",
    "            #Get followers\n",
    "            p_followers_tag = soup.find('p', attrs = {'class':'chakra-text css-brfdt9'})\n",
    "            if p_followers_tag is not None:\n",
    "                teachers_batch.loc[index, 'followers'] = p_followers_tag.text\n",
    "\n",
    "            #Get languages\n",
    "            p_languages_tag = soup.find('p', attrs = {'class':'chakra-text css-1gmivde'})\n",
    "            if p_languages_tag is not None:\n",
    "                teachers_batch.loc[index, 'languages'] = p_languages_tag.text\n",
    "\n",
    "            #Get date joined\n",
    "            p_date_joined_tag = soup.find('p', attrs = {'class':'chakra-text css-d0wkpr'})\n",
    "            if p_date_joined_tag is not None:\n",
    "                teachers_batch.loc[index, 'date_joined'] = p_date_joined_tag.text    \n",
    "\n",
    "            #Get about text\n",
    "            div_about_tag = soup.find('div', attrs = {'class':'css-17179af'})\n",
    "            if div_about_tag is not None:\n",
    "                teachers_batch.loc[index, 'about'] = div_about_tag.text   \n",
    "\n",
    "            #Get image url\n",
    "            img_image_tag = soup.find('img', attrs = {'class':'chakra-image css-1ssn357'})\n",
    "            if img_image_tag is not None:\n",
    "                teachers_batch.loc[index, 'image_url'] = img_image_tag.get('src', default = '/no src')\n",
    "\n",
    "    #Save batch results to data file\n",
    "    batch_id_string = str(scrape_batch_id).zfill(5)  \n",
    "    #zfill adds leading zeros which allows filenames to be sorted correctly alphabetically.\n",
    "    batch_filename = '../data/teacher_batch_files/teacher_batch_' + str(batch_id_string) + '.csv'\n",
    "    teachers_batch.to_csv(batch_filename)\n",
    "\n",
    "    #Batch End\n",
    "    batch_end_time = datetime.now()\n",
    "\n",
    "    #Print Runtime \n",
    "    batch_runtime = batch_end_time - batch_start_time\n",
    "    hours, remainder = divmod(batch_runtime.seconds, 3600)\n",
    "    minutes, seconds = divmod(remainder, 60)\n",
    "\n",
    "    print('Batch_id',scrape_batch_id,'completed')\n",
    "    print('Batch runtime:')\n",
    "\n",
    "    if hours > 0:\n",
    "        print(hours,'hours')\n",
    "    if minutes > 0:\n",
    "        print(minutes,'minutes')\n",
    "    print(seconds,'seconds')"
   ]
  },
  {
   "cell_type": "markdown",
   "id": "1a3d0c25",
   "metadata": {},
   "source": [
    "### Scrape Multiple Teacher Batches"
   ]
  },
  {
   "cell_type": "code",
   "execution_count": 4,
   "id": "e138b2df",
   "metadata": {},
   "outputs": [],
   "source": [
    "def scrape_teachers_multiple_batches(batch_id_range_or_list):\n",
    "    if type(batch_id_range_or_list) == type(range(0,2)):\n",
    "        batch_id_list = list(batch_id_range_or_list)\n",
    "    elif type(batch_id_range_or_list) == type([0, 1]):\n",
    "        batch_id_list = batch_id_range_or_list\n",
    "    else:\n",
    "        print('ERROR Wrote datatype')\n",
    "    \n",
    "    global teachers_batch_list\n",
    "    teachers_batch_list = pd.read_csv('../data/teachers_batch_list.csv', index_col=0)\n",
    "    \n",
    "    #Verify that the index values are as expected (0, 1, 2, etc.)\n",
    "    index_list = teachers_batch_list.index.to_list()\n",
    "    for x in list(range(0,teachers_batch_list.shape[0])):\n",
    "        assert index_list[x] == x\n",
    "        \n",
    "    #Add empty columns that will be filled by scraping teacher pages.\n",
    "    #Adding them here to set a standard order of columns.\n",
    "    \n",
    "    teachers_batch_list['scrape_date'] = None\n",
    "    teachers_batch_list['scrape_status'] = None\n",
    "    teachers_batch_list['teacher_name'] = None\n",
    "    teachers_batch_list['location'] = None\n",
    "    teachers_batch_list['followers'] = None\n",
    "    teachers_batch_list['languages'] = None\n",
    "    teachers_batch_list['date_joined'] = None\n",
    "    teachers_batch_list['about'] = None\n",
    "    teachers_batch_list['image_url'] = None\n",
    "    \n",
    "    #Start Batches\n",
    "    batches_start_time = datetime.now()\n",
    "    batch_num = 0\n",
    "    \n",
    "    for batch_id in batch_id_list:\n",
    "        batch_num += 1\n",
    "        print('Starting batch', \n",
    "              batch_num,\n",
    "              'out of',\n",
    "              len(batch_id_list),\n",
    "              ', batch_id =',\n",
    "              batch_id)\n",
    "        scrape_teachers_one_batch(batch_id)\n",
    "        print('Completed batch_id = ',batch_id)\n",
    "        print('')\n",
    "        \n",
    "    #End Batches\n",
    "    batches_end_time = datetime.now()\n",
    "\n",
    "    #Print Runtime \n",
    "    batches_runtime = batches_end_time - batches_start_time\n",
    "    hours, remainder = divmod(batches_runtime.seconds, 3600)\n",
    "    minutes, seconds = divmod(remainder, 60)\n",
    "\n",
    "    print(batch_num,'batches completed with runtime:')\n",
    "    if hours > 0:\n",
    "        print(hours,'hours')\n",
    "    if minutes > 0:\n",
    "        print(minutes,'minutes')\n",
    "    print(seconds,'seconds')"
   ]
  },
  {
   "cell_type": "markdown",
   "id": "ea6b6e7c",
   "metadata": {},
   "source": [
    "### Example use of assign_batches function"
   ]
  },
  {
   "cell_type": "code",
   "execution_count": null,
   "id": "b3a2aa21",
   "metadata": {
    "scrolled": true
   },
   "outputs": [],
   "source": [
    "batch_size = 100\n",
    "assign_batches(batch_size)"
   ]
  },
  {
   "cell_type": "code",
   "execution_count": null,
   "id": "051e4dee",
   "metadata": {},
   "outputs": [],
   "source": []
  },
  {
   "cell_type": "markdown",
   "id": "bb6a9826",
   "metadata": {},
   "source": [
    "### Example use of scrape_teachers_one_batch function"
   ]
  },
  {
   "cell_type": "code",
   "execution_count": null,
   "id": "3f248c02",
   "metadata": {},
   "outputs": [],
   "source": [
    "teachers_batch_list = pd.read_csv('../data/teachers_batch_list.csv', index_col=0)\n",
    "\n",
    "#Verify that the index values are as expected (0, 1, 2, etc.)\n",
    "index_list = teachers_batch_list.index.to_list()\n",
    "for x in list(range(0,teachers_batch_list.shape[0])):\n",
    "    assert index_list[x] == x"
   ]
  },
  {
   "cell_type": "code",
   "execution_count": null,
   "id": "eeb1c3f8",
   "metadata": {},
   "outputs": [],
   "source": [
    "scrape_batch_id = 85\n",
    "scrape_teachers_one_batch(scrape_batch_id)"
   ]
  },
  {
   "cell_type": "code",
   "execution_count": null,
   "id": "34c5e412",
   "metadata": {},
   "outputs": [],
   "source": [
    "fresh_batch = pd.read_csv('../data/teacher_batch_files/teacher_batch_00085.csv', index_col=0)\n",
    "fresh_batch.head()"
   ]
  },
  {
   "cell_type": "markdown",
   "id": "6c4dea57",
   "metadata": {},
   "source": [
    "### Real Use"
   ]
  },
  {
   "cell_type": "code",
   "execution_count": 5,
   "id": "3c032d0a",
   "metadata": {
    "scrolled": true
   },
   "outputs": [
    {
     "name": "stdout",
     "output_type": "stream",
     "text": [
      "Starting batch 1 out of 30 , batch_id = 40\n",
      "100 rows in batch\n",
      "Batch row 1 of 100 : teacher_id = birthdreams\n",
      "Batch row 2 of 100 : teacher_id = drtarasleepnd\n",
      "Batch row 3 of 100 : teacher_id = ayurvedawithdrew\n",
      "Batch row 4 of 100 : teacher_id = dianac\n",
      "Batch row 5 of 100 : teacher_id = deborahgreenmeditation\n",
      "Batch row 6 of 100 : teacher_id = femininefrequencyrising\n",
      "Batch row 7 of 100 : teacher_id = dorseystandish\n",
      "Batch row 8 of 100 : teacher_id = guidedfromtheinside\n",
      "Batch row 9 of 100 : teacher_id = soundtemple\n",
      "Batch row 10 of 100 : teacher_id = donaldpincott\n",
      "Batch row 11 of 100 : teacher_id = ganz.du.\n",
      "Batch row 12 of 100 : teacher_id = frei.sein.\n",
      "Batch row 13 of 100 : teacher_id = dillonsibilla\n",
      "Batch row 14 of 100 : teacher_id = bliss_tigress\n",
      "Batch row 15 of 100 : teacher_id = dennis\n",
      "Batch row 16 of 100 : teacher_id = drniikee\n",
      "Batch row 17 of 100 : teacher_id = dr.kim\n",
      "Batch row 18 of 100 : teacher_id = danielpatka\n",
      "Batch row 19 of 100 : teacher_id = doriskessel\n",
      "Batch row 20 of 100 : teacher_id = davonaleeona\n",
      "Batch row 21 of 100 : teacher_id = dieliebeundich\n",
      "Batch row 22 of 100 : teacher_id = doinita\n",
      "Batch row 23 of 100 : teacher_id = danamitchell\n",
      "Batch row 24 of 100 : teacher_id = dariatranova\n",
      "Batch row 25 of 100 : teacher_id = davidm\n",
      "Batch row 26 of 100 : teacher_id = solwithin\n",
      "Batch row 27 of 100 : teacher_id = danieljulien\n",
      "Batch row 28 of 100 : teacher_id = pranasanayogadorna\n",
      "Batch row 29 of 100 : teacher_id = dani.dees\n",
      "Batch row 30 of 100 : teacher_id = dr.martindc\n",
      "Batch row 31 of 100 : teacher_id = darcelhawkins\n",
      "Batch row 32 of 100 : teacher_id = dylanperese\n",
      "Batch row 33 of 100 : teacher_id = daniellebrunson\n",
      "Batch row 34 of 100 : teacher_id = dino.malito\n",
      "Batch row 35 of 100 : teacher_id = dougedmondmusic\n",
      "Batch row 36 of 100 : teacher_id = mindfulacting\n",
      "Batch row 37 of 100 : teacher_id = dina\n",
      "Batch row 38 of 100 : teacher_id = destinesia\n",
      "Batch row 39 of 100 : teacher_id = pub15161919\n",
      "Batch row 40 of 100 : teacher_id = debi1111\n",
      "Batch row 41 of 100 : teacher_id = dragana\n",
      "Batch row 42 of 100 : teacher_id = daphnelyon\n",
      "Batch row 43 of 100 : teacher_id = ericandnarek\n",
      "Batch row 44 of 100 : teacher_id = pub12616532\n",
      "Batch row 45 of 100 : teacher_id = danayvonne\n",
      "Batch row 46 of 100 : teacher_id = darrenlittlejohn\n",
      "Batch row 47 of 100 : teacher_id = debbie-lynn\n",
      "Batch row 48 of 100 : teacher_id = marlynnweimd\n",
      "Batch row 49 of 100 : teacher_id = selflovewoman\n",
      "Batch row 50 of 100 : teacher_id = dswehla\n",
      "Batch row 51 of 100 : teacher_id = dougandchrissyscavezze\n",
      "Batch row 52 of 100 : teacher_id = pub18174976\n",
      "Batch row 53 of 100 : teacher_id = dereklenis\n",
      "Batch row 54 of 100 : teacher_id = daniellavons\n",
      "Batch row 55 of 100 : teacher_id = debblum\n",
      "Batch row 56 of 100 : teacher_id = danirolim\n",
      "Batch row 57 of 100 : teacher_id = drjill\n",
      "Batch row 58 of 100 : teacher_id = karin.matko\n",
      "Batch row 59 of 100 : teacher_id = dave.eggar\n",
      "Batch row 60 of 100 : teacher_id = dorasilva\n",
      "Batch row 61 of 100 : teacher_id = indigo11\n",
      "Batch row 62 of 100 : teacher_id = dustineli\n",
      "Batch row 63 of 100 : teacher_id = dimitra\n",
      "Batch row 64 of 100 : teacher_id = droliviaaudrey\n",
      "Batch row 65 of 100 : teacher_id = leighbridges\n",
      "Batch row 66 of 100 : teacher_id = proyectobalance\n",
      "Batch row 67 of 100 : teacher_id = desireechristaricker\n",
      "Batch row 68 of 100 : teacher_id = yoganicca\n",
      "Batch row 69 of 100 : teacher_id = danaheller\n",
      "Batch row 70 of 100 : teacher_id = dinarodina\n",
      "Batch row 71 of 100 : teacher_id = drjanicebrowndac\n",
      "Batch row 72 of 100 : teacher_id = danieldosanjos\n",
      "Batch row 73 of 100 : teacher_id = dinabengio\n",
      "Batch row 74 of 100 : teacher_id = drinkfitclub\n",
      "Batch row 75 of 100 : teacher_id = liberamindfulness\n",
      "Batch row 76 of 100 : teacher_id = motherpeace\n",
      "Batch row 77 of 100 : teacher_id = descortinandose\n",
      "Batch row 78 of 100 : teacher_id = jcwondakid\n",
      "Batch row 79 of 100 : teacher_id = dominiqueantiglio\n",
      "Batch row 80 of 100 : teacher_id = danielamachi\n",
      "Batch row 81 of 100 : teacher_id = davidchatel\n",
      "Batch row 82 of 100 : teacher_id = dandala\n",
      "Batch row 83 of 100 : teacher_id = destinysophia\n",
      "Batch row 84 of 100 : teacher_id = dcwright8\n",
      "Batch row 85 of 100 : teacher_id = loveyogataupo\n",
      "Batch row 86 of 100 : teacher_id = drjaneguyn\n",
      "Batch row 87 of 100 : teacher_id = danimartineck\n",
      "Batch row 88 of 100 : teacher_id = daniellasiles\n",
      "Batch row 89 of 100 : teacher_id = dodeeji\n",
      "Batch row 90 of 100 : teacher_id = darrienminnie04\n",
      "Batch row 91 of 100 : teacher_id = drkarinasmith\n",
      "Batch row 92 of 100 : teacher_id = fimushkin\n",
      "Batch row 93 of 100 : teacher_id = pub15593234\n",
      "Batch row 94 of 100 : teacher_id = sacredroot\n",
      "Batch row 95 of 100 : teacher_id = drlaurawilliams\n",
      "Batch row 96 of 100 : teacher_id = deepbreathnetwork\n",
      "Batch row 97 of 100 : teacher_id = devon\n",
      "Batch row 98 of 100 : teacher_id = asanasntattoos\n",
      "Batch row 99 of 100 : teacher_id = dariasuchilina\n",
      "Batch row 100 of 100 : teacher_id = 4theloveofthefamily\n",
      "Batch_id 40 completed\n",
      "Batch runtime:\n",
      "22 minutes\n",
      "19 seconds\n",
      "Completed batch_id =  40\n",
      "\n",
      "Starting batch 2 out of 30 , batch_id = 41\n",
      "100 rows in batch\n",
      "Batch row 1 of 100 : teacher_id = dtas\n"
     ]
    },
    {
     "ename": "KeyboardInterrupt",
     "evalue": "",
     "output_type": "error",
     "traceback": [
      "\u001b[1;31m---------------------------------------------------------------------------\u001b[0m",
      "\u001b[1;31mKeyboardInterrupt\u001b[0m                         Traceback (most recent call last)",
      "\u001b[1;32m~\\AppData\\Local\\Temp\\ipykernel_32052\\1005530942.py\u001b[0m in \u001b[0;36m<module>\u001b[1;34m\u001b[0m\n\u001b[0;32m      1\u001b[0m \u001b[0mbatch_id_range\u001b[0m \u001b[1;33m=\u001b[0m \u001b[0mrange\u001b[0m\u001b[1;33m(\u001b[0m\u001b[1;36m40\u001b[0m\u001b[1;33m,\u001b[0m \u001b[1;36m70\u001b[0m\u001b[1;33m)\u001b[0m\u001b[1;33m\u001b[0m\u001b[1;33m\u001b[0m\u001b[0m\n\u001b[1;32m----> 2\u001b[1;33m \u001b[0mscrape_teachers_multiple_batches\u001b[0m\u001b[1;33m(\u001b[0m\u001b[0mbatch_id_range\u001b[0m\u001b[1;33m)\u001b[0m\u001b[1;33m\u001b[0m\u001b[1;33m\u001b[0m\u001b[0m\n\u001b[0m",
      "\u001b[1;32m~\\AppData\\Local\\Temp\\ipykernel_32052\\3746151064.py\u001b[0m in \u001b[0;36mscrape_teachers_multiple_batches\u001b[1;34m(batch_id_range_or_list)\u001b[0m\n\u001b[0;32m     40\u001b[0m               \u001b[1;34m', batch_id ='\u001b[0m\u001b[1;33m,\u001b[0m\u001b[1;33m\u001b[0m\u001b[1;33m\u001b[0m\u001b[0m\n\u001b[0;32m     41\u001b[0m               batch_id)\n\u001b[1;32m---> 42\u001b[1;33m         \u001b[0mscrape_teachers_one_batch\u001b[0m\u001b[1;33m(\u001b[0m\u001b[0mbatch_id\u001b[0m\u001b[1;33m)\u001b[0m\u001b[1;33m\u001b[0m\u001b[1;33m\u001b[0m\u001b[0m\n\u001b[0m\u001b[0;32m     43\u001b[0m         \u001b[0mprint\u001b[0m\u001b[1;33m(\u001b[0m\u001b[1;34m'Completed batch_id = '\u001b[0m\u001b[1;33m,\u001b[0m\u001b[0mbatch_id\u001b[0m\u001b[1;33m)\u001b[0m\u001b[1;33m\u001b[0m\u001b[1;33m\u001b[0m\u001b[0m\n\u001b[0;32m     44\u001b[0m         \u001b[0mprint\u001b[0m\u001b[1;33m(\u001b[0m\u001b[1;34m''\u001b[0m\u001b[1;33m)\u001b[0m\u001b[1;33m\u001b[0m\u001b[1;33m\u001b[0m\u001b[0m\n",
      "\u001b[1;32m~\\AppData\\Local\\Temp\\ipykernel_32052\\2194835040.py\u001b[0m in \u001b[0;36mscrape_teachers_one_batch\u001b[1;34m(scrape_batch_id)\u001b[0m\n\u001b[0;32m     47\u001b[0m                 \u001b[0mh2_name_tag\u001b[0m \u001b[1;33m=\u001b[0m \u001b[0msoup\u001b[0m\u001b[1;33m.\u001b[0m\u001b[0mfind\u001b[0m\u001b[1;33m(\u001b[0m\u001b[1;34m'h2'\u001b[0m\u001b[1;33m,\u001b[0m \u001b[0mattrs\u001b[0m \u001b[1;33m=\u001b[0m \u001b[1;33m{\u001b[0m\u001b[1;34m'class'\u001b[0m\u001b[1;33m:\u001b[0m\u001b[1;34m'chakra-text css-nagewt'\u001b[0m\u001b[1;33m}\u001b[0m\u001b[1;33m)\u001b[0m\u001b[1;33m\u001b[0m\u001b[1;33m\u001b[0m\u001b[0m\n\u001b[0;32m     48\u001b[0m \u001b[1;33m\u001b[0m\u001b[0m\n\u001b[1;32m---> 49\u001b[1;33m             \u001b[0mdriver\u001b[0m\u001b[1;33m.\u001b[0m\u001b[0mclose\u001b[0m\u001b[1;33m(\u001b[0m\u001b[1;33m)\u001b[0m \u001b[1;31m#Close driver (closes browser window)\u001b[0m\u001b[1;33m\u001b[0m\u001b[1;33m\u001b[0m\u001b[0m\n\u001b[0m\u001b[0;32m     50\u001b[0m \u001b[1;33m\u001b[0m\u001b[0m\n\u001b[0;32m     51\u001b[0m             \u001b[1;32mif\u001b[0m \u001b[0mh2_name_tag\u001b[0m \u001b[1;32mis\u001b[0m \u001b[1;32mNone\u001b[0m\u001b[1;33m:\u001b[0m\u001b[1;33m\u001b[0m\u001b[1;33m\u001b[0m\u001b[0m\n",
      "\u001b[1;32m~\\anaconda3\\lib\\site-packages\\selenium\\webdriver\\remote\\webdriver.py\u001b[0m in \u001b[0;36mclose\u001b[1;34m(self)\u001b[0m\n\u001b[0;32m    686\u001b[0m             \u001b[0mdriver\u001b[0m\u001b[1;33m.\u001b[0m\u001b[0mclose\u001b[0m\u001b[1;33m(\u001b[0m\u001b[1;33m)\u001b[0m\u001b[1;33m\u001b[0m\u001b[1;33m\u001b[0m\u001b[0m\n\u001b[0;32m    687\u001b[0m         \"\"\"\n\u001b[1;32m--> 688\u001b[1;33m         \u001b[0mself\u001b[0m\u001b[1;33m.\u001b[0m\u001b[0mexecute\u001b[0m\u001b[1;33m(\u001b[0m\u001b[0mCommand\u001b[0m\u001b[1;33m.\u001b[0m\u001b[0mCLOSE\u001b[0m\u001b[1;33m)\u001b[0m\u001b[1;33m\u001b[0m\u001b[1;33m\u001b[0m\u001b[0m\n\u001b[0m\u001b[0;32m    689\u001b[0m \u001b[1;33m\u001b[0m\u001b[0m\n\u001b[0;32m    690\u001b[0m     \u001b[1;32mdef\u001b[0m \u001b[0mquit\u001b[0m\u001b[1;33m(\u001b[0m\u001b[0mself\u001b[0m\u001b[1;33m)\u001b[0m\u001b[1;33m:\u001b[0m\u001b[1;33m\u001b[0m\u001b[1;33m\u001b[0m\u001b[0m\n",
      "\u001b[1;32m~\\anaconda3\\lib\\site-packages\\selenium\\webdriver\\remote\\webdriver.py\u001b[0m in \u001b[0;36mexecute\u001b[1;34m(self, driver_command, params)\u001b[0m\n\u001b[0;32m    317\u001b[0m \u001b[1;33m\u001b[0m\u001b[0m\n\u001b[0;32m    318\u001b[0m         \u001b[0mparams\u001b[0m \u001b[1;33m=\u001b[0m \u001b[0mself\u001b[0m\u001b[1;33m.\u001b[0m\u001b[0m_wrap_value\u001b[0m\u001b[1;33m(\u001b[0m\u001b[0mparams\u001b[0m\u001b[1;33m)\u001b[0m\u001b[1;33m\u001b[0m\u001b[1;33m\u001b[0m\u001b[0m\n\u001b[1;32m--> 319\u001b[1;33m         \u001b[0mresponse\u001b[0m \u001b[1;33m=\u001b[0m \u001b[0mself\u001b[0m\u001b[1;33m.\u001b[0m\u001b[0mcommand_executor\u001b[0m\u001b[1;33m.\u001b[0m\u001b[0mexecute\u001b[0m\u001b[1;33m(\u001b[0m\u001b[0mdriver_command\u001b[0m\u001b[1;33m,\u001b[0m \u001b[0mparams\u001b[0m\u001b[1;33m)\u001b[0m\u001b[1;33m\u001b[0m\u001b[1;33m\u001b[0m\u001b[0m\n\u001b[0m\u001b[0;32m    320\u001b[0m         \u001b[1;32mif\u001b[0m \u001b[0mresponse\u001b[0m\u001b[1;33m:\u001b[0m\u001b[1;33m\u001b[0m\u001b[1;33m\u001b[0m\u001b[0m\n\u001b[0;32m    321\u001b[0m             \u001b[0mself\u001b[0m\u001b[1;33m.\u001b[0m\u001b[0merror_handler\u001b[0m\u001b[1;33m.\u001b[0m\u001b[0mcheck_response\u001b[0m\u001b[1;33m(\u001b[0m\u001b[0mresponse\u001b[0m\u001b[1;33m)\u001b[0m\u001b[1;33m\u001b[0m\u001b[1;33m\u001b[0m\u001b[0m\n",
      "\u001b[1;32m~\\anaconda3\\lib\\site-packages\\selenium\\webdriver\\remote\\remote_connection.py\u001b[0m in \u001b[0;36mexecute\u001b[1;34m(self, command, params)\u001b[0m\n\u001b[0;32m    372\u001b[0m         \u001b[0mdata\u001b[0m \u001b[1;33m=\u001b[0m \u001b[0mutils\u001b[0m\u001b[1;33m.\u001b[0m\u001b[0mdump_json\u001b[0m\u001b[1;33m(\u001b[0m\u001b[0mparams\u001b[0m\u001b[1;33m)\u001b[0m\u001b[1;33m\u001b[0m\u001b[1;33m\u001b[0m\u001b[0m\n\u001b[0;32m    373\u001b[0m         \u001b[0murl\u001b[0m \u001b[1;33m=\u001b[0m \u001b[1;34m'%s%s'\u001b[0m \u001b[1;33m%\u001b[0m \u001b[1;33m(\u001b[0m\u001b[0mself\u001b[0m\u001b[1;33m.\u001b[0m\u001b[0m_url\u001b[0m\u001b[1;33m,\u001b[0m \u001b[0mpath\u001b[0m\u001b[1;33m)\u001b[0m\u001b[1;33m\u001b[0m\u001b[1;33m\u001b[0m\u001b[0m\n\u001b[1;32m--> 374\u001b[1;33m         \u001b[1;32mreturn\u001b[0m \u001b[0mself\u001b[0m\u001b[1;33m.\u001b[0m\u001b[0m_request\u001b[0m\u001b[1;33m(\u001b[0m\u001b[0mcommand_info\u001b[0m\u001b[1;33m[\u001b[0m\u001b[1;36m0\u001b[0m\u001b[1;33m]\u001b[0m\u001b[1;33m,\u001b[0m \u001b[0murl\u001b[0m\u001b[1;33m,\u001b[0m \u001b[0mbody\u001b[0m\u001b[1;33m=\u001b[0m\u001b[0mdata\u001b[0m\u001b[1;33m)\u001b[0m\u001b[1;33m\u001b[0m\u001b[1;33m\u001b[0m\u001b[0m\n\u001b[0m\u001b[0;32m    375\u001b[0m \u001b[1;33m\u001b[0m\u001b[0m\n\u001b[0;32m    376\u001b[0m     \u001b[1;32mdef\u001b[0m \u001b[0m_request\u001b[0m\u001b[1;33m(\u001b[0m\u001b[0mself\u001b[0m\u001b[1;33m,\u001b[0m \u001b[0mmethod\u001b[0m\u001b[1;33m,\u001b[0m \u001b[0murl\u001b[0m\u001b[1;33m,\u001b[0m \u001b[0mbody\u001b[0m\u001b[1;33m=\u001b[0m\u001b[1;32mNone\u001b[0m\u001b[1;33m)\u001b[0m\u001b[1;33m:\u001b[0m\u001b[1;33m\u001b[0m\u001b[1;33m\u001b[0m\u001b[0m\n",
      "\u001b[1;32m~\\anaconda3\\lib\\site-packages\\selenium\\webdriver\\remote\\remote_connection.py\u001b[0m in \u001b[0;36m_request\u001b[1;34m(self, method, url, body)\u001b[0m\n\u001b[0;32m    395\u001b[0m \u001b[1;33m\u001b[0m\u001b[0m\n\u001b[0;32m    396\u001b[0m         \u001b[1;32mif\u001b[0m \u001b[0mself\u001b[0m\u001b[1;33m.\u001b[0m\u001b[0mkeep_alive\u001b[0m\u001b[1;33m:\u001b[0m\u001b[1;33m\u001b[0m\u001b[1;33m\u001b[0m\u001b[0m\n\u001b[1;32m--> 397\u001b[1;33m             \u001b[0mresp\u001b[0m \u001b[1;33m=\u001b[0m \u001b[0mself\u001b[0m\u001b[1;33m.\u001b[0m\u001b[0m_conn\u001b[0m\u001b[1;33m.\u001b[0m\u001b[0mrequest\u001b[0m\u001b[1;33m(\u001b[0m\u001b[0mmethod\u001b[0m\u001b[1;33m,\u001b[0m \u001b[0murl\u001b[0m\u001b[1;33m,\u001b[0m \u001b[0mbody\u001b[0m\u001b[1;33m=\u001b[0m\u001b[0mbody\u001b[0m\u001b[1;33m,\u001b[0m \u001b[0mheaders\u001b[0m\u001b[1;33m=\u001b[0m\u001b[0mheaders\u001b[0m\u001b[1;33m)\u001b[0m\u001b[1;33m\u001b[0m\u001b[1;33m\u001b[0m\u001b[0m\n\u001b[0m\u001b[0;32m    398\u001b[0m \u001b[1;33m\u001b[0m\u001b[0m\n\u001b[0;32m    399\u001b[0m             \u001b[0mstatuscode\u001b[0m \u001b[1;33m=\u001b[0m \u001b[0mresp\u001b[0m\u001b[1;33m.\u001b[0m\u001b[0mstatus\u001b[0m\u001b[1;33m\u001b[0m\u001b[1;33m\u001b[0m\u001b[0m\n",
      "\u001b[1;32m~\\anaconda3\\lib\\site-packages\\urllib3\\request.py\u001b[0m in \u001b[0;36mrequest\u001b[1;34m(self, method, url, fields, headers, **urlopen_kw)\u001b[0m\n\u001b[0;32m     72\u001b[0m \u001b[1;33m\u001b[0m\u001b[0m\n\u001b[0;32m     73\u001b[0m         \u001b[1;32mif\u001b[0m \u001b[0mmethod\u001b[0m \u001b[1;32min\u001b[0m \u001b[0mself\u001b[0m\u001b[1;33m.\u001b[0m\u001b[0m_encode_url_methods\u001b[0m\u001b[1;33m:\u001b[0m\u001b[1;33m\u001b[0m\u001b[1;33m\u001b[0m\u001b[0m\n\u001b[1;32m---> 74\u001b[1;33m             return self.request_encode_url(\n\u001b[0m\u001b[0;32m     75\u001b[0m                 \u001b[0mmethod\u001b[0m\u001b[1;33m,\u001b[0m \u001b[0murl\u001b[0m\u001b[1;33m,\u001b[0m \u001b[0mfields\u001b[0m\u001b[1;33m=\u001b[0m\u001b[0mfields\u001b[0m\u001b[1;33m,\u001b[0m \u001b[0mheaders\u001b[0m\u001b[1;33m=\u001b[0m\u001b[0mheaders\u001b[0m\u001b[1;33m,\u001b[0m \u001b[1;33m**\u001b[0m\u001b[0murlopen_kw\u001b[0m\u001b[1;33m\u001b[0m\u001b[1;33m\u001b[0m\u001b[0m\n\u001b[0;32m     76\u001b[0m             )\n",
      "\u001b[1;32m~\\anaconda3\\lib\\site-packages\\urllib3\\request.py\u001b[0m in \u001b[0;36mrequest_encode_url\u001b[1;34m(self, method, url, fields, headers, **urlopen_kw)\u001b[0m\n\u001b[0;32m     94\u001b[0m             \u001b[0murl\u001b[0m \u001b[1;33m+=\u001b[0m \u001b[1;34m\"?\"\u001b[0m \u001b[1;33m+\u001b[0m \u001b[0murlencode\u001b[0m\u001b[1;33m(\u001b[0m\u001b[0mfields\u001b[0m\u001b[1;33m)\u001b[0m\u001b[1;33m\u001b[0m\u001b[1;33m\u001b[0m\u001b[0m\n\u001b[0;32m     95\u001b[0m \u001b[1;33m\u001b[0m\u001b[0m\n\u001b[1;32m---> 96\u001b[1;33m         \u001b[1;32mreturn\u001b[0m \u001b[0mself\u001b[0m\u001b[1;33m.\u001b[0m\u001b[0murlopen\u001b[0m\u001b[1;33m(\u001b[0m\u001b[0mmethod\u001b[0m\u001b[1;33m,\u001b[0m \u001b[0murl\u001b[0m\u001b[1;33m,\u001b[0m \u001b[1;33m**\u001b[0m\u001b[0mextra_kw\u001b[0m\u001b[1;33m)\u001b[0m\u001b[1;33m\u001b[0m\u001b[1;33m\u001b[0m\u001b[0m\n\u001b[0m\u001b[0;32m     97\u001b[0m \u001b[1;33m\u001b[0m\u001b[0m\n\u001b[0;32m     98\u001b[0m     def request_encode_body(\n",
      "\u001b[1;32m~\\anaconda3\\lib\\site-packages\\urllib3\\poolmanager.py\u001b[0m in \u001b[0;36murlopen\u001b[1;34m(self, method, url, redirect, **kw)\u001b[0m\n\u001b[0;32m    374\u001b[0m             \u001b[0mresponse\u001b[0m \u001b[1;33m=\u001b[0m \u001b[0mconn\u001b[0m\u001b[1;33m.\u001b[0m\u001b[0murlopen\u001b[0m\u001b[1;33m(\u001b[0m\u001b[0mmethod\u001b[0m\u001b[1;33m,\u001b[0m \u001b[0murl\u001b[0m\u001b[1;33m,\u001b[0m \u001b[1;33m**\u001b[0m\u001b[0mkw\u001b[0m\u001b[1;33m)\u001b[0m\u001b[1;33m\u001b[0m\u001b[1;33m\u001b[0m\u001b[0m\n\u001b[0;32m    375\u001b[0m         \u001b[1;32melse\u001b[0m\u001b[1;33m:\u001b[0m\u001b[1;33m\u001b[0m\u001b[1;33m\u001b[0m\u001b[0m\n\u001b[1;32m--> 376\u001b[1;33m             \u001b[0mresponse\u001b[0m \u001b[1;33m=\u001b[0m \u001b[0mconn\u001b[0m\u001b[1;33m.\u001b[0m\u001b[0murlopen\u001b[0m\u001b[1;33m(\u001b[0m\u001b[0mmethod\u001b[0m\u001b[1;33m,\u001b[0m \u001b[0mu\u001b[0m\u001b[1;33m.\u001b[0m\u001b[0mrequest_uri\u001b[0m\u001b[1;33m,\u001b[0m \u001b[1;33m**\u001b[0m\u001b[0mkw\u001b[0m\u001b[1;33m)\u001b[0m\u001b[1;33m\u001b[0m\u001b[1;33m\u001b[0m\u001b[0m\n\u001b[0m\u001b[0;32m    377\u001b[0m \u001b[1;33m\u001b[0m\u001b[0m\n\u001b[0;32m    378\u001b[0m         \u001b[0mredirect_location\u001b[0m \u001b[1;33m=\u001b[0m \u001b[0mredirect\u001b[0m \u001b[1;32mand\u001b[0m \u001b[0mresponse\u001b[0m\u001b[1;33m.\u001b[0m\u001b[0mget_redirect_location\u001b[0m\u001b[1;33m(\u001b[0m\u001b[1;33m)\u001b[0m\u001b[1;33m\u001b[0m\u001b[1;33m\u001b[0m\u001b[0m\n",
      "\u001b[1;32m~\\anaconda3\\lib\\site-packages\\urllib3\\connectionpool.py\u001b[0m in \u001b[0;36murlopen\u001b[1;34m(self, method, url, body, headers, retries, redirect, assert_same_host, timeout, pool_timeout, release_conn, chunked, body_pos, **response_kw)\u001b[0m\n\u001b[0;32m    701\u001b[0m \u001b[1;33m\u001b[0m\u001b[0m\n\u001b[0;32m    702\u001b[0m             \u001b[1;31m# Make the request on the httplib connection object.\u001b[0m\u001b[1;33m\u001b[0m\u001b[1;33m\u001b[0m\u001b[0m\n\u001b[1;32m--> 703\u001b[1;33m             httplib_response = self._make_request(\n\u001b[0m\u001b[0;32m    704\u001b[0m                 \u001b[0mconn\u001b[0m\u001b[1;33m,\u001b[0m\u001b[1;33m\u001b[0m\u001b[1;33m\u001b[0m\u001b[0m\n\u001b[0;32m    705\u001b[0m                 \u001b[0mmethod\u001b[0m\u001b[1;33m,\u001b[0m\u001b[1;33m\u001b[0m\u001b[1;33m\u001b[0m\u001b[0m\n",
      "\u001b[1;32m~\\anaconda3\\lib\\site-packages\\urllib3\\connectionpool.py\u001b[0m in \u001b[0;36m_make_request\u001b[1;34m(self, conn, method, url, timeout, chunked, **httplib_request_kw)\u001b[0m\n\u001b[0;32m    447\u001b[0m                     \u001b[1;31m# Python 3 (including for exceptions like SystemExit).\u001b[0m\u001b[1;33m\u001b[0m\u001b[1;33m\u001b[0m\u001b[0m\n\u001b[0;32m    448\u001b[0m                     \u001b[1;31m# Otherwise it looks like a bug in the code.\u001b[0m\u001b[1;33m\u001b[0m\u001b[1;33m\u001b[0m\u001b[0m\n\u001b[1;32m--> 449\u001b[1;33m                     \u001b[0msix\u001b[0m\u001b[1;33m.\u001b[0m\u001b[0mraise_from\u001b[0m\u001b[1;33m(\u001b[0m\u001b[0me\u001b[0m\u001b[1;33m,\u001b[0m \u001b[1;32mNone\u001b[0m\u001b[1;33m)\u001b[0m\u001b[1;33m\u001b[0m\u001b[1;33m\u001b[0m\u001b[0m\n\u001b[0m\u001b[0;32m    450\u001b[0m         \u001b[1;32mexcept\u001b[0m \u001b[1;33m(\u001b[0m\u001b[0mSocketTimeout\u001b[0m\u001b[1;33m,\u001b[0m \u001b[0mBaseSSLError\u001b[0m\u001b[1;33m,\u001b[0m \u001b[0mSocketError\u001b[0m\u001b[1;33m)\u001b[0m \u001b[1;32mas\u001b[0m \u001b[0me\u001b[0m\u001b[1;33m:\u001b[0m\u001b[1;33m\u001b[0m\u001b[1;33m\u001b[0m\u001b[0m\n\u001b[0;32m    451\u001b[0m             \u001b[0mself\u001b[0m\u001b[1;33m.\u001b[0m\u001b[0m_raise_timeout\u001b[0m\u001b[1;33m(\u001b[0m\u001b[0merr\u001b[0m\u001b[1;33m=\u001b[0m\u001b[0me\u001b[0m\u001b[1;33m,\u001b[0m \u001b[0murl\u001b[0m\u001b[1;33m=\u001b[0m\u001b[0murl\u001b[0m\u001b[1;33m,\u001b[0m \u001b[0mtimeout_value\u001b[0m\u001b[1;33m=\u001b[0m\u001b[0mread_timeout\u001b[0m\u001b[1;33m)\u001b[0m\u001b[1;33m\u001b[0m\u001b[1;33m\u001b[0m\u001b[0m\n",
      "\u001b[1;32m~\\anaconda3\\lib\\site-packages\\urllib3\\packages\\six.py\u001b[0m in \u001b[0;36mraise_from\u001b[1;34m(value, from_value)\u001b[0m\n",
      "\u001b[1;32m~\\anaconda3\\lib\\site-packages\\urllib3\\connectionpool.py\u001b[0m in \u001b[0;36m_make_request\u001b[1;34m(self, conn, method, url, timeout, chunked, **httplib_request_kw)\u001b[0m\n\u001b[0;32m    442\u001b[0m                 \u001b[1;31m# Python 3\u001b[0m\u001b[1;33m\u001b[0m\u001b[1;33m\u001b[0m\u001b[0m\n\u001b[0;32m    443\u001b[0m                 \u001b[1;32mtry\u001b[0m\u001b[1;33m:\u001b[0m\u001b[1;33m\u001b[0m\u001b[1;33m\u001b[0m\u001b[0m\n\u001b[1;32m--> 444\u001b[1;33m                     \u001b[0mhttplib_response\u001b[0m \u001b[1;33m=\u001b[0m \u001b[0mconn\u001b[0m\u001b[1;33m.\u001b[0m\u001b[0mgetresponse\u001b[0m\u001b[1;33m(\u001b[0m\u001b[1;33m)\u001b[0m\u001b[1;33m\u001b[0m\u001b[1;33m\u001b[0m\u001b[0m\n\u001b[0m\u001b[0;32m    445\u001b[0m                 \u001b[1;32mexcept\u001b[0m \u001b[0mBaseException\u001b[0m \u001b[1;32mas\u001b[0m \u001b[0me\u001b[0m\u001b[1;33m:\u001b[0m\u001b[1;33m\u001b[0m\u001b[1;33m\u001b[0m\u001b[0m\n\u001b[0;32m    446\u001b[0m                     \u001b[1;31m# Remove the TypeError from the exception chain in\u001b[0m\u001b[1;33m\u001b[0m\u001b[1;33m\u001b[0m\u001b[0m\n",
      "\u001b[1;32m~\\anaconda3\\lib\\http\\client.py\u001b[0m in \u001b[0;36mgetresponse\u001b[1;34m(self)\u001b[0m\n\u001b[0;32m   1375\u001b[0m         \u001b[1;32mtry\u001b[0m\u001b[1;33m:\u001b[0m\u001b[1;33m\u001b[0m\u001b[1;33m\u001b[0m\u001b[0m\n\u001b[0;32m   1376\u001b[0m             \u001b[1;32mtry\u001b[0m\u001b[1;33m:\u001b[0m\u001b[1;33m\u001b[0m\u001b[1;33m\u001b[0m\u001b[0m\n\u001b[1;32m-> 1377\u001b[1;33m                 \u001b[0mresponse\u001b[0m\u001b[1;33m.\u001b[0m\u001b[0mbegin\u001b[0m\u001b[1;33m(\u001b[0m\u001b[1;33m)\u001b[0m\u001b[1;33m\u001b[0m\u001b[1;33m\u001b[0m\u001b[0m\n\u001b[0m\u001b[0;32m   1378\u001b[0m             \u001b[1;32mexcept\u001b[0m \u001b[0mConnectionError\u001b[0m\u001b[1;33m:\u001b[0m\u001b[1;33m\u001b[0m\u001b[1;33m\u001b[0m\u001b[0m\n\u001b[0;32m   1379\u001b[0m                 \u001b[0mself\u001b[0m\u001b[1;33m.\u001b[0m\u001b[0mclose\u001b[0m\u001b[1;33m(\u001b[0m\u001b[1;33m)\u001b[0m\u001b[1;33m\u001b[0m\u001b[1;33m\u001b[0m\u001b[0m\n",
      "\u001b[1;32m~\\anaconda3\\lib\\http\\client.py\u001b[0m in \u001b[0;36mbegin\u001b[1;34m(self)\u001b[0m\n\u001b[0;32m    318\u001b[0m         \u001b[1;31m# read until we get a non-100 response\u001b[0m\u001b[1;33m\u001b[0m\u001b[1;33m\u001b[0m\u001b[0m\n\u001b[0;32m    319\u001b[0m         \u001b[1;32mwhile\u001b[0m \u001b[1;32mTrue\u001b[0m\u001b[1;33m:\u001b[0m\u001b[1;33m\u001b[0m\u001b[1;33m\u001b[0m\u001b[0m\n\u001b[1;32m--> 320\u001b[1;33m             \u001b[0mversion\u001b[0m\u001b[1;33m,\u001b[0m \u001b[0mstatus\u001b[0m\u001b[1;33m,\u001b[0m \u001b[0mreason\u001b[0m \u001b[1;33m=\u001b[0m \u001b[0mself\u001b[0m\u001b[1;33m.\u001b[0m\u001b[0m_read_status\u001b[0m\u001b[1;33m(\u001b[0m\u001b[1;33m)\u001b[0m\u001b[1;33m\u001b[0m\u001b[1;33m\u001b[0m\u001b[0m\n\u001b[0m\u001b[0;32m    321\u001b[0m             \u001b[1;32mif\u001b[0m \u001b[0mstatus\u001b[0m \u001b[1;33m!=\u001b[0m \u001b[0mCONTINUE\u001b[0m\u001b[1;33m:\u001b[0m\u001b[1;33m\u001b[0m\u001b[1;33m\u001b[0m\u001b[0m\n\u001b[0;32m    322\u001b[0m                 \u001b[1;32mbreak\u001b[0m\u001b[1;33m\u001b[0m\u001b[1;33m\u001b[0m\u001b[0m\n",
      "\u001b[1;32m~\\anaconda3\\lib\\http\\client.py\u001b[0m in \u001b[0;36m_read_status\u001b[1;34m(self)\u001b[0m\n\u001b[0;32m    279\u001b[0m \u001b[1;33m\u001b[0m\u001b[0m\n\u001b[0;32m    280\u001b[0m     \u001b[1;32mdef\u001b[0m \u001b[0m_read_status\u001b[0m\u001b[1;33m(\u001b[0m\u001b[0mself\u001b[0m\u001b[1;33m)\u001b[0m\u001b[1;33m:\u001b[0m\u001b[1;33m\u001b[0m\u001b[1;33m\u001b[0m\u001b[0m\n\u001b[1;32m--> 281\u001b[1;33m         \u001b[0mline\u001b[0m \u001b[1;33m=\u001b[0m \u001b[0mstr\u001b[0m\u001b[1;33m(\u001b[0m\u001b[0mself\u001b[0m\u001b[1;33m.\u001b[0m\u001b[0mfp\u001b[0m\u001b[1;33m.\u001b[0m\u001b[0mreadline\u001b[0m\u001b[1;33m(\u001b[0m\u001b[0m_MAXLINE\u001b[0m \u001b[1;33m+\u001b[0m \u001b[1;36m1\u001b[0m\u001b[1;33m)\u001b[0m\u001b[1;33m,\u001b[0m \u001b[1;34m\"iso-8859-1\"\u001b[0m\u001b[1;33m)\u001b[0m\u001b[1;33m\u001b[0m\u001b[1;33m\u001b[0m\u001b[0m\n\u001b[0m\u001b[0;32m    282\u001b[0m         \u001b[1;32mif\u001b[0m \u001b[0mlen\u001b[0m\u001b[1;33m(\u001b[0m\u001b[0mline\u001b[0m\u001b[1;33m)\u001b[0m \u001b[1;33m>\u001b[0m \u001b[0m_MAXLINE\u001b[0m\u001b[1;33m:\u001b[0m\u001b[1;33m\u001b[0m\u001b[1;33m\u001b[0m\u001b[0m\n\u001b[0;32m    283\u001b[0m             \u001b[1;32mraise\u001b[0m \u001b[0mLineTooLong\u001b[0m\u001b[1;33m(\u001b[0m\u001b[1;34m\"status line\"\u001b[0m\u001b[1;33m)\u001b[0m\u001b[1;33m\u001b[0m\u001b[1;33m\u001b[0m\u001b[0m\n",
      "\u001b[1;32m~\\anaconda3\\lib\\socket.py\u001b[0m in \u001b[0;36mreadinto\u001b[1;34m(self, b)\u001b[0m\n\u001b[0;32m    702\u001b[0m         \u001b[1;32mwhile\u001b[0m \u001b[1;32mTrue\u001b[0m\u001b[1;33m:\u001b[0m\u001b[1;33m\u001b[0m\u001b[1;33m\u001b[0m\u001b[0m\n\u001b[0;32m    703\u001b[0m             \u001b[1;32mtry\u001b[0m\u001b[1;33m:\u001b[0m\u001b[1;33m\u001b[0m\u001b[1;33m\u001b[0m\u001b[0m\n\u001b[1;32m--> 704\u001b[1;33m                 \u001b[1;32mreturn\u001b[0m \u001b[0mself\u001b[0m\u001b[1;33m.\u001b[0m\u001b[0m_sock\u001b[0m\u001b[1;33m.\u001b[0m\u001b[0mrecv_into\u001b[0m\u001b[1;33m(\u001b[0m\u001b[0mb\u001b[0m\u001b[1;33m)\u001b[0m\u001b[1;33m\u001b[0m\u001b[1;33m\u001b[0m\u001b[0m\n\u001b[0m\u001b[0;32m    705\u001b[0m             \u001b[1;32mexcept\u001b[0m \u001b[0mtimeout\u001b[0m\u001b[1;33m:\u001b[0m\u001b[1;33m\u001b[0m\u001b[1;33m\u001b[0m\u001b[0m\n\u001b[0;32m    706\u001b[0m                 \u001b[0mself\u001b[0m\u001b[1;33m.\u001b[0m\u001b[0m_timeout_occurred\u001b[0m \u001b[1;33m=\u001b[0m \u001b[1;32mTrue\u001b[0m\u001b[1;33m\u001b[0m\u001b[1;33m\u001b[0m\u001b[0m\n",
      "\u001b[1;31mKeyboardInterrupt\u001b[0m: "
     ]
    }
   ],
   "source": [
    "batch_id_range = range(40, 70)\n",
    "scrape_teachers_multiple_batches(batch_id_range)"
   ]
  },
  {
   "cell_type": "markdown",
   "id": "0aa97c67",
   "metadata": {},
   "source": [
    "### Example Use of scrape_teachers_multiple_batches"
   ]
  },
  {
   "cell_type": "code",
   "execution_count": null,
   "id": "562bc4ba",
   "metadata": {
    "scrolled": true
   },
   "outputs": [],
   "source": [
    "batch_id_range = range(104, 107)\n",
    "scrape_teachers_multiple_batches(batch_id_range)"
   ]
  },
  {
   "cell_type": "code",
   "execution_count": null,
   "id": "6d0928c8",
   "metadata": {},
   "outputs": [],
   "source": [
    "batch104 = pd.read_csv('../data/teacher_batch_files/teacher_batch_00104.csv', index_col=0)\n",
    "batch105 = pd.read_csv('../data/teacher_batch_files/teacher_batch_00105.csv', index_col=0)\n",
    "batch106 = pd.read_csv('../data/teacher_batch_files/teacher_batch_00106.csv', index_col=0)\n",
    "\n",
    "batch_df_list = [batch104, batch105, batch106]\n",
    "batches_range_result = pd.concat(batch_df_list)\n",
    "batches_range_result.head(50)"
   ]
  },
  {
   "cell_type": "code",
   "execution_count": null,
   "id": "39708ce4",
   "metadata": {
    "scrolled": true
   },
   "outputs": [],
   "source": [
    "### Example Use of scrape_teachers_multiple_batches\n",
    "batch_id_list = [101, 102, 40]\n",
    "scrape_teachers_multiple_batches(batch_id_list)"
   ]
  },
  {
   "cell_type": "code",
   "execution_count": null,
   "id": "0ece1d21",
   "metadata": {},
   "outputs": [],
   "source": [
    "batch101 = pd.read_csv('../data/teacher_batch_files/teacher_batch_00101.csv', index_col=0)\n",
    "batch102 = pd.read_csv('../data/teacher_batch_files/teacher_batch_00102.csv', index_col=0)\n",
    "batch40 = pd.read_csv('../data/teacher_batch_files/teacher_batch_00040.csv', index_col=0)\n",
    "\n",
    "batch_df_list = [batch101, batch102, batch40]\n",
    "batches_list_result = pd.concat(batch_df_list)\n",
    "batches_list_result.head(50)"
   ]
  },
  {
   "cell_type": "code",
   "execution_count": null,
   "id": "094f5d78",
   "metadata": {},
   "outputs": [],
   "source": [
    "teachers_batch_list = pd.read_csv('../data/teachers_batch_list.csv', index_col=0)"
   ]
  },
  {
   "cell_type": "code",
   "execution_count": null,
   "id": "b15234fc",
   "metadata": {},
   "outputs": [],
   "source": [
    "teachers_batch_list"
   ]
  },
  {
   "cell_type": "code",
   "execution_count": null,
   "id": "b3dabdc1",
   "metadata": {},
   "outputs": [],
   "source": [
    "teachers_batch_list['scrape_date'] = None"
   ]
  },
  {
   "cell_type": "code",
   "execution_count": null,
   "id": "a08d74b8",
   "metadata": {},
   "outputs": [],
   "source": [
    "datetime.now()"
   ]
  },
  {
   "cell_type": "code",
   "execution_count": null,
   "id": "ca21954f",
   "metadata": {},
   "outputs": [],
   "source": []
  }
 ],
 "metadata": {
  "kernelspec": {
   "display_name": "Python 3 (ipykernel)",
   "language": "python",
   "name": "python3"
  },
  "language_info": {
   "codemirror_mode": {
    "name": "ipython",
    "version": 3
   },
   "file_extension": ".py",
   "mimetype": "text/x-python",
   "name": "python",
   "nbconvert_exporter": "python",
   "pygments_lexer": "ipython3",
   "version": "3.9.13"
  }
 },
 "nbformat": 4,
 "nbformat_minor": 5
}
