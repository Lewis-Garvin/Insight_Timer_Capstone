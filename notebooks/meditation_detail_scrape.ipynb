{
 "cells": [
  {
   "cell_type": "markdown",
   "id": "587d10bf",
   "metadata": {},
   "source": [
    "# Meditation Detail Scrape"
   ]
  },
  {
   "cell_type": "code",
   "execution_count": 1,
   "id": "e106ce86",
   "metadata": {},
   "outputs": [],
   "source": [
    "from selenium import webdriver\n",
    "#import requests\n",
    "from bs4 import BeautifulSoup as BS\n",
    "import pandas as pd\n",
    "import string"
   ]
  },
  {
   "cell_type": "code",
   "execution_count": 2,
   "id": "b091692d",
   "metadata": {},
   "outputs": [],
   "source": [
    "# Insight Timer webpages use javascript, so need selenium and chrome driver.\n",
    "chrome_driver_path = '../../../../Tech/chrome_driver/chromedriver.exe'"
   ]
  },
  {
   "cell_type": "code",
   "execution_count": 3,
   "id": "ed31130a",
   "metadata": {},
   "outputs": [],
   "source": [
    "#meditation_url = ''\n",
    "meditation_url = 'https://insighttimer.com/malhuxter/guided-meditations/the-meditation-hindrance-of-paralysing-doubt'\n",
    "#meditation_url = ''"
   ]
  },
  {
   "cell_type": "code",
   "execution_count": 4,
   "id": "1d79e2ad",
   "metadata": {},
   "outputs": [],
   "source": [
    "driver = webdriver.Chrome(executable_path=chrome_driver_path)\n",
    "driver.get(meditation_url)\n",
    "\n",
    "#Wait for page to fully load\n",
    "driver.implicitly_wait(2)\n",
    "\n",
    "#Make soup and close driver\n",
    "soup = BS(driver.page_source)\n",
    "driver.close()"
   ]
  },
  {
   "cell_type": "code",
   "execution_count": 5,
   "id": "83b1e1ad",
   "metadata": {},
   "outputs": [
    {
     "data": {
      "text/plain": [
       "'The Meditation Hindrance Of Paralysing Doubt  '"
      ]
     },
     "execution_count": 5,
     "metadata": {},
     "output_type": "execute_result"
    }
   ],
   "source": [
    "#Get meditation name -- Will check for matches with name scraped for list\n",
    "h1_meditation_name_tag = soup.find('h1', attrs = {'class':'font-ProxiBold sm:text-3xl2 text-2xl2 w-full leading-tight mb-2'})\n",
    "meditation_name = h1_meditation_name_tag.text\n",
    "meditation_name"
   ]
  },
  {
   "cell_type": "code",
   "execution_count": 6,
   "id": "472f1cb2",
   "metadata": {},
   "outputs": [
    {
     "ename": "SyntaxError",
     "evalue": "invalid syntax (2429013742.py, line 6)",
     "output_type": "error",
     "traceback": [
      "\u001b[1;36m  File \u001b[1;32m\"C:\\Users\\lewis\\AppData\\Local\\Temp\\ipykernel_29644\\2429013742.py\"\u001b[1;36m, line \u001b[1;32m6\u001b[0m\n\u001b[1;33m    <h3 class=\"font-ProxiBold text-2xl4 w-full hover:opacity-75 break-words pre-wrap\">Malcolm Huxter</h3>\u001b[0m\n\u001b[1;37m    ^\u001b[0m\n\u001b[1;31mSyntaxError\u001b[0m\u001b[1;31m:\u001b[0m invalid syntax\n"
     ]
    }
   ],
   "source": [
    "#Get teacher\n",
    "h3_teacher_tag = soup.find('h1', attrs = {'class':'font-ProxiBold text-2xl4 w-full hover:opacity-75 break-words pre-wrap'})\n",
    "meditation_name = h1_meditation_name_tag.text\n",
    "meditation_name\n",
    "\n",
    "<h3 class=\"font-ProxiBold text-2xl4 w-full hover:opacity-75 break-words pre-wrap\">Malcolm Huxter</h3>\n",
    "\n",
    "<a href=\"/malhuxter\" aria-current=\"page\" class=\"active\"> Malcolm Huxter </a>"
   ]
  },
  {
   "cell_type": "code",
   "execution_count": null,
   "id": "a0e6b201",
   "metadata": {},
   "outputs": [],
   "source": [
    "#Get rating\n",
    "p_rating_tag = soup.find('h1', attrs = {'class':'font-ProxiSemibold text-x1 flex items-center mx-auto'})\n",
    "rating = p_rating_tag.text\n",
    "rating"
   ]
  },
  {
   "cell_type": "code",
   "execution_count": null,
   "id": "6b434833",
   "metadata": {},
   "outputs": [],
   "source": [
    "#get type\n",
    "\n",
    "<svg width=\"10\" height=\"14\" viewBox=\"0 0 10 14\" class=\"h-5 w-5 mr-1 \"><path d=\"M9.593 6v1a4.34 4.34 0 0 1-1.152 3.004c-.769.851-1.718 1.34-2.848 1.465V12.5h2a.48.48 0 0 1 .352.148.48.48 0 0 1 .148.352.48.48 0 0 1-.148.352.48.48 0 0 1-.352.148h-5a.48.48 0 0 1-.352-.148.48.48 0 0 1-.148-.352.48.48 0 0 1 .148-.352.48.48 0 0 1 .352-.148h2v-1.031c-1.13-.125-2.08-.614-2.848-1.465A4.34 4.34 0 0 1 .593 7V6a.48.48 0 0 1 .148-.352.48.48 0 0 1 .352-.148.48.48 0 0 1 .352.148.48.48 0 0 1 .148.352v1A3.37 3.37 0 0 0 2.62 9.473 3.37 3.37 0 0 0 5.093 10.5a3.37 3.37 0 0 0 2.473-1.027A3.37 3.37 0 0 0 8.593 7V6a.48.48 0 0 1 .148-.352.48.48 0 0 1 .352-.148.48.48 0 0 1 .352.148.48.48 0 0 1 .148.352zm-2-3v4c0 .688-.245 1.276-.734 1.766-.49.49-1.078.734-1.766.734a2.407 2.407 0 0 1-1.766-.734A2.407 2.407 0 0 1 2.593 7V3c0-.688.245-1.276.734-1.766A2.407 2.407 0 0 1 5.093.5c.688 0 1.276.245 1.766.734.49.49.734 1.079.734 1.766z\"></path></svg>\n"
   ]
  },
  {
   "cell_type": "code",
   "execution_count": null,
   "id": "ad004c3d",
   "metadata": {},
   "outputs": [],
   "source": [
    "#get activity\n",
    "\n",
    "<div class=\"font-ProxiSemibold text-xl\">Meditation</div>"
   ]
  },
  {
   "cell_type": "code",
   "execution_count": null,
   "id": "9ba5d1cd",
   "metadata": {},
   "outputs": [],
   "source": [
    "#Get suitable for\n",
    "\n",
    "<div class=\"font-ProxiSemibold text-xl\">Experienced</div>"
   ]
  },
  {
   "cell_type": "code",
   "execution_count": null,
   "id": "189cd9b2",
   "metadata": {},
   "outputs": [],
   "source": [
    "#Get length\n",
    "\n",
    "<h2 class=\"font-ProxiRegular text-5xl text-white tracking-wider relative z-10\">07:30</h2>"
   ]
  },
  {
   "cell_type": "code",
   "execution_count": null,
   "id": "0fa9c33f",
   "metadata": {},
   "outputs": [],
   "source": [
    "#get plays\n",
    "\n",
    "<div class=\"font-ProxiSemibold text-xl\">68</div>"
   ]
  },
  {
   "cell_type": "code",
   "execution_count": null,
   "id": "3e4f114e",
   "metadata": {},
   "outputs": [],
   "source": [
    "#get tags\n",
    "\n",
    "<div class=\"MuiGrid-root MuiGrid-container MuiGrid-spacing-xs-1\"><div class=\"MuiGrid-root MuiGrid-item\"><a class=\"MuiButtonBase-root MuiButton-root MuiButton-text outline-none font-ProxiSemibold text-lg tracking-wide text-xdark_ bg-xlightgrey_ py-2 px-6 hover:bg-black14\" tabindex=\"0\" role=\"button\" aria-disabled=\"false\" href=\"/meditation-topics/lectures\"><span class=\"MuiButton-label\"><span>Lectures</span></span><span class=\"MuiTouchRipple-root\"></span></a></div><div class=\"MuiGrid-root MuiGrid-item\"><a class=\"MuiButtonBase-root MuiButton-root MuiButton-text outline-none font-ProxiSemibold text-lg tracking-wide text-xdark_ bg-xlightgrey_ py-2 px-6 hover:bg-black14\" tabindex=\"0\" role=\"button\" aria-disabled=\"false\" href=\"/meditation-topics/spiritual\"><span class=\"MuiButton-label\"><span>Spiritual</span></span><span class=\"MuiTouchRipple-root\"></span></a></div><div class=\"MuiGrid-root MuiGrid-item\"><a class=\"MuiButtonBase-root MuiButton-root MuiButton-text outline-none font-ProxiSemibold text-lg tracking-wide text-xdark_ bg-xlightgrey_ py-2 px-6 hover:bg-black14\" tabindex=\"0\" role=\"button\" aria-disabled=\"false\" href=\"/meditation-topics/freedomfromsuffering\"><span class=\"MuiButton-label\"><span>Freedom from Suffering</span></span><span class=\"MuiTouchRipple-root\"></span></a></div><div class=\"MuiGrid-root MuiGrid-item\"><a class=\"MuiButtonBase-root MuiButton-root MuiButton-text outline-none font-ProxiSemibold text-lg tracking-wide text-xdark_ bg-xlightgrey_ py-2 px-6 hover:bg-black14\" tabindex=\"0\" role=\"button\" aria-disabled=\"false\" href=\"/meditation-topics/buddhism\"><span class=\"MuiButton-label\"><span>Buddhism</span></span><span class=\"MuiTouchRipple-root\"></span></a></div><div class=\"MuiGrid-root MuiGrid-item\"><a class=\"MuiButtonBase-root MuiButton-root MuiButton-text outline-none font-ProxiSemibold text-lg tracking-wide text-xdark_ bg-xlightgrey_ py-2 px-6 hover:bg-black14\" tabindex=\"0\" role=\"button\" aria-disabled=\"false\" href=\"/meditation-topics/contemporarybuddhism\"><span class=\"MuiButton-label\"><span>Contemporary Buddhism</span></span><span class=\"MuiTouchRipple-root\"></span></a></div><div class=\"MuiGrid-root MuiGrid-item\"><a class=\"MuiButtonBase-root MuiButton-root MuiButton-text outline-none font-ProxiSemibold text-lg tracking-wide text-xdark_ bg-xlightgrey_ py-2 px-6 hover:bg-black14\" tabindex=\"0\" role=\"button\" aria-disabled=\"false\" href=\"/meditation-topics/parentspirituality\"><span class=\"MuiButton-label\"><span>Spirituality</span></span><span class=\"MuiTouchRipple-root\"></span></a></div></div>"
   ]
  },
  {
   "cell_type": "code",
   "execution_count": null,
   "id": "571880da",
   "metadata": {},
   "outputs": [],
   "source": []
  }
 ],
 "metadata": {
  "kernelspec": {
   "display_name": "Python 3 (ipykernel)",
   "language": "python",
   "name": "python3"
  },
  "language_info": {
   "codemirror_mode": {
    "name": "ipython",
    "version": 3
   },
   "file_extension": ".py",
   "mimetype": "text/x-python",
   "name": "python",
   "nbconvert_exporter": "python",
   "pygments_lexer": "ipython3",
   "version": "3.9.13"
  }
 },
 "nbformat": 4,
 "nbformat_minor": 5
}
