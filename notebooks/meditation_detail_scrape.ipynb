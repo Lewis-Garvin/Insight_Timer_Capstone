{
 "cells": [
  {
   "cell_type": "markdown",
   "id": "587d10bf",
   "metadata": {},
   "source": [
    "# Meditation Detail Scrape"
   ]
  },
  {
   "cell_type": "code",
   "execution_count": null,
   "id": "e106ce86",
   "metadata": {},
   "outputs": [],
   "source": [
    "import os\n",
    "from selenium import webdriver\n",
    "from bs4 import BeautifulSoup as BS\n",
    "import pandas as pd\n",
    "import string"
   ]
  },
  {
   "cell_type": "code",
   "execution_count": null,
   "id": "b091692d",
   "metadata": {},
   "outputs": [],
   "source": [
    "# Insight Timer webpages use javascript, so need selenium and chrome driver.\n",
    "chrome_driver_path = '../../../../Tech/chrome_driver/chromedriver.exe'"
   ]
  },
  {
   "cell_type": "markdown",
   "id": "0fe54071",
   "metadata": {},
   "source": [
    "### Consolidate Batch Rows"
   ]
  },
  {
   "cell_type": "code",
   "execution_count": null,
   "id": "c07d538e",
   "metadata": {},
   "outputs": [],
   "source": [
    "expected_columns = ['teacher_id',\n",
    "                    'meditation_id',\n",
    "                    'med_list_batch_id',\n",
    "                    'med_list_scrape_date',\n",
    "                    'med_list_scrape_status'\n",
    "                    ]"
   ]
  },
  {
   "cell_type": "code",
   "execution_count": null,
   "id": "9c71a0c6",
   "metadata": {},
   "outputs": [],
   "source": [
    "#For each batch data file in the teacher_batch_files subdirectory\n",
    "batch_files_list = os.listdir('../data/med_list_batch_files/')\n",
    "\n",
    "batch_df_list = []\n",
    "\n",
    "for batch_file in batch_files_list:\n",
    "#    batch_df = pd.read_csv('../data/teacher_batch_files/' + batch_file, dtype = teacher_datatypes, index_col = 0)\n",
    "    batch_df = pd.read_csv('../data/med_list_batch_files/' + batch_file, index_col = 0)    \n",
    "\n",
    "    #Verify the batch has the correct columns in the correct order.\n",
    "    correct_columns = True\n",
    "\n",
    "    batch_columns = list(batch_df.columns)\n",
    "    if len(batch_columns) == len(expected_columns):\n",
    "        for col_position in range(0,len(batch_columns)):\n",
    "            if batch_columns[col_position] != expected_columns[col_position]:\n",
    "                correct_columns = False\n",
    "    else:\n",
    "        correct_columns = False\n",
    "        \n",
    "#    batch_df_list = batch_df_list.append(batch_df)\n",
    "    if correct_columns:\n",
    "        batch_df_list = batch_df_list + [batch_df]\n",
    "    else:\n",
    "        print('ERROR COLUMNS NOT AS EXPECTED',batch_file)\n",
    "\n",
    "meditations_df = pd.concat(batch_df_list)"
   ]
  },
  {
   "cell_type": "code",
   "execution_count": null,
   "id": "aa6621b9",
   "metadata": {},
   "outputs": [],
   "source": [
    "meditations_df.head()"
   ]
  },
  {
   "cell_type": "code",
   "execution_count": null,
   "id": "3aa4ac4e",
   "metadata": {},
   "outputs": [],
   "source": [
    "meditations_df.to_csv('../data/med_detail_batch.csv')"
   ]
  },
  {
   "cell_type": "code",
   "execution_count": null,
   "id": "8e9326aa",
   "metadata": {},
   "outputs": [],
   "source": [
    "meditations_df[['teacher_id','meditation_id']].groupby(by=['teacher_id']).agg('count')"
   ]
  },
  {
   "cell_type": "markdown",
   "id": "246f96c7",
   "metadata": {},
   "source": [
    "# OLD DRAFT"
   ]
  },
  {
   "cell_type": "code",
   "execution_count": null,
   "id": "ed31130a",
   "metadata": {},
   "outputs": [],
   "source": [
    "#meditation_url = ''\n",
    "meditation_url = 'https://insighttimer.com/malhuxter/guided-meditations/the-meditation-hindrance-of-paralysing-doubt'\n",
    "#meditation_url = ''"
   ]
  },
  {
   "cell_type": "code",
   "execution_count": null,
   "id": "1d79e2ad",
   "metadata": {},
   "outputs": [],
   "source": [
    "driver = webdriver.Chrome(executable_path=chrome_driver_path)\n",
    "driver.get(meditation_url)\n",
    "\n",
    "#Wait for page to fully load\n",
    "driver.implicitly_wait(2)\n",
    "\n",
    "#Make soup and close driver\n",
    "soup = BS(driver.page_source)\n",
    "driver.close()"
   ]
  },
  {
   "cell_type": "code",
   "execution_count": null,
   "id": "83b1e1ad",
   "metadata": {},
   "outputs": [],
   "source": [
    "#Get meditation name -- Will check for matches with name scraped for list\n",
    "h1_meditation_name_tag = soup.find('h1', attrs = {'class':'font-ProxiBold sm:text-3xl2 text-2xl2 w-full leading-tight mb-2'})\n",
    "meditation_name = h1_meditation_name_tag.text\n",
    "meditation_name"
   ]
  },
  {
   "cell_type": "code",
   "execution_count": null,
   "id": "472f1cb2",
   "metadata": {},
   "outputs": [],
   "source": [
    "#Get teacher\n",
    "h3_teacher_tag = soup.find('h1', attrs = {'class':'font-ProxiBold text-2xl4 w-full hover:opacity-75 break-words pre-wrap'})\n",
    "meditation_name = h1_meditation_name_tag.text\n",
    "meditation_name\n",
    "\n",
    "<h3 class=\"font-ProxiBold text-2xl4 w-full hover:opacity-75 break-words pre-wrap\">Malcolm Huxter</h3>\n",
    "\n",
    "<a href=\"/malhuxter\" aria-current=\"page\" class=\"active\"> Malcolm Huxter </a>"
   ]
  },
  {
   "cell_type": "code",
   "execution_count": null,
   "id": "a0e6b201",
   "metadata": {},
   "outputs": [],
   "source": [
    "#Get rating\n",
    "p_rating_tag = soup.find('h1', attrs = {'class':'font-ProxiSemibold text-x1 flex items-center mx-auto'})\n",
    "rating = p_rating_tag.text\n",
    "rating"
   ]
  },
  {
   "cell_type": "code",
   "execution_count": null,
   "id": "6b434833",
   "metadata": {},
   "outputs": [],
   "source": [
    "#get type\n",
    "\n",
    "<svg width=\"10\" height=\"14\" viewBox=\"0 0 10 14\" class=\"h-5 w-5 mr-1 \"><path d=\"M9.593 6v1a4.34 4.34 0 0 1-1.152 3.004c-.769.851-1.718 1.34-2.848 1.465V12.5h2a.48.48 0 0 1 .352.148.48.48 0 0 1 .148.352.48.48 0 0 1-.148.352.48.48 0 0 1-.352.148h-5a.48.48 0 0 1-.352-.148.48.48 0 0 1-.148-.352.48.48 0 0 1 .148-.352.48.48 0 0 1 .352-.148h2v-1.031c-1.13-.125-2.08-.614-2.848-1.465A4.34 4.34 0 0 1 .593 7V6a.48.48 0 0 1 .148-.352.48.48 0 0 1 .352-.148.48.48 0 0 1 .352.148.48.48 0 0 1 .148.352v1A3.37 3.37 0 0 0 2.62 9.473 3.37 3.37 0 0 0 5.093 10.5a3.37 3.37 0 0 0 2.473-1.027A3.37 3.37 0 0 0 8.593 7V6a.48.48 0 0 1 .148-.352.48.48 0 0 1 .352-.148.48.48 0 0 1 .352.148.48.48 0 0 1 .148.352zm-2-3v4c0 .688-.245 1.276-.734 1.766-.49.49-1.078.734-1.766.734a2.407 2.407 0 0 1-1.766-.734A2.407 2.407 0 0 1 2.593 7V3c0-.688.245-1.276.734-1.766A2.407 2.407 0 0 1 5.093.5c.688 0 1.276.245 1.766.734.49.49.734 1.079.734 1.766z\"></path></svg>\n"
   ]
  },
  {
   "cell_type": "code",
   "execution_count": null,
   "id": "ad004c3d",
   "metadata": {},
   "outputs": [],
   "source": [
    "#get activity\n",
    "\n",
    "<div class=\"font-ProxiSemibold text-xl\">Meditation</div>"
   ]
  },
  {
   "cell_type": "code",
   "execution_count": null,
   "id": "9ba5d1cd",
   "metadata": {},
   "outputs": [],
   "source": [
    "#Get suitable for\n",
    "\n",
    "<div class=\"font-ProxiSemibold text-xl\">Experienced</div>"
   ]
  },
  {
   "cell_type": "code",
   "execution_count": null,
   "id": "189cd9b2",
   "metadata": {},
   "outputs": [],
   "source": [
    "#Get length\n",
    "\n",
    "<h2 class=\"font-ProxiRegular text-5xl text-white tracking-wider relative z-10\">07:30</h2>"
   ]
  },
  {
   "cell_type": "code",
   "execution_count": null,
   "id": "0fa9c33f",
   "metadata": {},
   "outputs": [],
   "source": [
    "#get plays\n",
    "\n",
    "<div class=\"font-ProxiSemibold text-xl\">68</div>"
   ]
  },
  {
   "cell_type": "code",
   "execution_count": null,
   "id": "3e4f114e",
   "metadata": {},
   "outputs": [],
   "source": [
    "#get tags\n",
    "\n",
    "<div class=\"MuiGrid-root MuiGrid-container MuiGrid-spacing-xs-1\"><div class=\"MuiGrid-root MuiGrid-item\"><a class=\"MuiButtonBase-root MuiButton-root MuiButton-text outline-none font-ProxiSemibold text-lg tracking-wide text-xdark_ bg-xlightgrey_ py-2 px-6 hover:bg-black14\" tabindex=\"0\" role=\"button\" aria-disabled=\"false\" href=\"/meditation-topics/lectures\"><span class=\"MuiButton-label\"><span>Lectures</span></span><span class=\"MuiTouchRipple-root\"></span></a></div><div class=\"MuiGrid-root MuiGrid-item\"><a class=\"MuiButtonBase-root MuiButton-root MuiButton-text outline-none font-ProxiSemibold text-lg tracking-wide text-xdark_ bg-xlightgrey_ py-2 px-6 hover:bg-black14\" tabindex=\"0\" role=\"button\" aria-disabled=\"false\" href=\"/meditation-topics/spiritual\"><span class=\"MuiButton-label\"><span>Spiritual</span></span><span class=\"MuiTouchRipple-root\"></span></a></div><div class=\"MuiGrid-root MuiGrid-item\"><a class=\"MuiButtonBase-root MuiButton-root MuiButton-text outline-none font-ProxiSemibold text-lg tracking-wide text-xdark_ bg-xlightgrey_ py-2 px-6 hover:bg-black14\" tabindex=\"0\" role=\"button\" aria-disabled=\"false\" href=\"/meditation-topics/freedomfromsuffering\"><span class=\"MuiButton-label\"><span>Freedom from Suffering</span></span><span class=\"MuiTouchRipple-root\"></span></a></div><div class=\"MuiGrid-root MuiGrid-item\"><a class=\"MuiButtonBase-root MuiButton-root MuiButton-text outline-none font-ProxiSemibold text-lg tracking-wide text-xdark_ bg-xlightgrey_ py-2 px-6 hover:bg-black14\" tabindex=\"0\" role=\"button\" aria-disabled=\"false\" href=\"/meditation-topics/buddhism\"><span class=\"MuiButton-label\"><span>Buddhism</span></span><span class=\"MuiTouchRipple-root\"></span></a></div><div class=\"MuiGrid-root MuiGrid-item\"><a class=\"MuiButtonBase-root MuiButton-root MuiButton-text outline-none font-ProxiSemibold text-lg tracking-wide text-xdark_ bg-xlightgrey_ py-2 px-6 hover:bg-black14\" tabindex=\"0\" role=\"button\" aria-disabled=\"false\" href=\"/meditation-topics/contemporarybuddhism\"><span class=\"MuiButton-label\"><span>Contemporary Buddhism</span></span><span class=\"MuiTouchRipple-root\"></span></a></div><div class=\"MuiGrid-root MuiGrid-item\"><a class=\"MuiButtonBase-root MuiButton-root MuiButton-text outline-none font-ProxiSemibold text-lg tracking-wide text-xdark_ bg-xlightgrey_ py-2 px-6 hover:bg-black14\" tabindex=\"0\" role=\"button\" aria-disabled=\"false\" href=\"/meditation-topics/parentspirituality\"><span class=\"MuiButton-label\"><span>Spirituality</span></span><span class=\"MuiTouchRipple-root\"></span></a></div></div>"
   ]
  },
  {
   "cell_type": "code",
   "execution_count": null,
   "id": "571880da",
   "metadata": {},
   "outputs": [],
   "source": []
  }
 ],
 "metadata": {
  "kernelspec": {
   "display_name": "Python 3 (ipykernel)",
   "language": "python",
   "name": "python3"
  },
  "language_info": {
   "codemirror_mode": {
    "name": "ipython",
    "version": 3
   },
   "file_extension": ".py",
   "mimetype": "text/x-python",
   "name": "python",
   "nbconvert_exporter": "python",
   "pygments_lexer": "ipython3",
   "version": "3.9.13"
  }
 },
 "nbformat": 4,
 "nbformat_minor": 5
}
