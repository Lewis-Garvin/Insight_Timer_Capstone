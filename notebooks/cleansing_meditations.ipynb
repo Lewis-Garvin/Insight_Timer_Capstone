{
 "cells": [
  {
   "cell_type": "markdown",
   "id": "c66aae16",
   "metadata": {},
   "source": [
    "# Cleansing Meditations"
   ]
  },
  {
   "cell_type": "code",
   "execution_count": null,
   "id": "829080c3",
   "metadata": {},
   "outputs": [],
   "source": [
    "import os\n",
    "import pandas as pd\n",
    "import re\n",
    "from datetime import timedelta"
   ]
  },
  {
   "cell_type": "code",
   "execution_count": null,
   "id": "73d0c3d9",
   "metadata": {},
   "outputs": [],
   "source": [
    "expected_columns = ['teacher_id',\n",
    "                    'meditation_id',\n",
    "                    'med_list_batch_id',\n",
    "                    'med_list_scrape_date',\n",
    "                    'med_list_scrape_status',\n",
    "                    'med_detail_batch_id',\n",
    "                    'med_detail_scrape_date',\n",
    "                    'med_detail_scrape_status',\n",
    "                    'title',\n",
    "                    'upload_date',\n",
    "                    'duration',\n",
    "                    'plays',\n",
    "                    'rating',\n",
    "                    'reviews',\n",
    "                    'track_type',\n",
    "                    'activity',\n",
    "                    'suitable_for',\n",
    "                    'topics',\n",
    "                    'description',\n",
    "                    'meditation_url',\n",
    "                    'image_url' #need to distinguish between teacher and meditation images\n",
    "                    ]"
   ]
  },
  {
   "cell_type": "code",
   "execution_count": null,
   "id": "d78dfc46",
   "metadata": {},
   "outputs": [],
   "source": [
    "#For each batch data file in the teacher_batch_files subdirectory\n",
    "batch_files_list = os.listdir('../data/med_detail_batch_files')\n",
    "\n",
    "batch_df_list = []\n",
    "\n",
    "for batch_file in batch_files_list:\n",
    "    batch_df = pd.read_csv('../data/med_detail_batch_files/' + batch_file, index_col = 0)    \n",
    "\n",
    "    #Verify the batch has the correct columns in the correct order.\n",
    "    correct_columns = True\n",
    "\n",
    "    batch_columns = list(batch_df.columns)\n",
    "    if len(batch_columns) == len(expected_columns):\n",
    "        for col_position in range(0,len(batch_columns)):\n",
    "            if batch_columns[col_position] != expected_columns[col_position]:\n",
    "                correct_columns = False\n",
    "    else:\n",
    "        correct_columns = False\n",
    "        \n",
    "#    batch_df_list = batch_df_list.append(batch_df)\n",
    "    if correct_columns:\n",
    "        batch_df_list = batch_df_list + [batch_df]\n",
    "    else:\n",
    "        print('ERROR COLUMNS NOT AS EXPECTED',batch_file)\n",
    "\n",
    "meditations_df = pd.concat(batch_df_list)"
   ]
  },
  {
   "cell_type": "code",
   "execution_count": null,
   "id": "4c8b49d4",
   "metadata": {},
   "outputs": [],
   "source": [
    "meditations_df.shape"
   ]
  },
  {
   "cell_type": "markdown",
   "id": "0a09abaa",
   "metadata": {},
   "source": [
    "## Identify bad batches"
   ]
  },
  {
   "cell_type": "code",
   "execution_count": null,
   "id": "e32c0120",
   "metadata": {},
   "outputs": [],
   "source": [
    "errors_by_batch = meditations_df.loc[meditations_df.med_detail_scrape_status != 'title found']\n",
    "errors_by_batch = errors_by_batch[['med_detail_batch_id','med_detail_scrape_status']]\n",
    "errors_by_batch = errors_by_batch.groupby(by=['med_detail_batch_id']).agg('count')\n",
    "errors_by_batch = errors_by_batch.rename(columns={'med_detail_scrape_status':'rows_with_med_or_title_not_found'})\n",
    "errors_by_batch = errors_by_batch.reset_index()\n",
    "errors_by_batch = errors_by_batch.sort_values(by=['rows_with_med_or_title_not_found'],ascending=False)\n",
    "errors_by_batch.head(20)"
   ]
  },
  {
   "cell_type": "markdown",
   "id": "352d1c7d",
   "metadata": {},
   "source": [
    "## Cleansing Rows\n",
    "- Remove duplicates\n",
    "- Remove page not found\n",
    "- Remove title not found"
   ]
  },
  {
   "cell_type": "markdown",
   "id": "8123ebca",
   "metadata": {},
   "source": [
    "### Page not found"
   ]
  },
  {
   "cell_type": "code",
   "execution_count": null,
   "id": "81750943",
   "metadata": {},
   "outputs": [],
   "source": [
    "#Show meditations whose page could not be found.\n",
    "page_not_found_rows= meditations_df.loc[meditations_df.med_detail_scrape_status == 'page not found'].copy()\n",
    "page_not_found_rows"
   ]
  },
  {
   "cell_type": "code",
   "execution_count": null,
   "id": "44256744",
   "metadata": {},
   "outputs": [],
   "source": [
    "#Remove teachers whose page could not be found.\n",
    "meditations_df = meditations_df.loc[meditations_df.med_detail_scrape_status != 'page not found']\n",
    "meditations_df.shape"
   ]
  },
  {
   "cell_type": "markdown",
   "id": "1ec89e8d",
   "metadata": {},
   "source": [
    "### Title not found"
   ]
  },
  {
   "cell_type": "code",
   "execution_count": null,
   "id": "233ab0e8",
   "metadata": {},
   "outputs": [],
   "source": [
    "#Show teachers whose name could not be found. Try rerunning their batches to try to get their info again.\n",
    "title_not_found_rows = meditations_df.loc[meditations_df.med_detail_scrape_status == 'title not found'].copy()\n",
    "title_not_found_rows"
   ]
  },
  {
   "cell_type": "code",
   "execution_count": null,
   "id": "337db893",
   "metadata": {},
   "outputs": [],
   "source": [
    "#Remove teachers whose name could not be found.\n",
    "meditations_df = meditations_df.loc[meditations_df.med_detail_scrape_status != 'title not found']\n",
    "meditations_df.shape"
   ]
  },
  {
   "cell_type": "markdown",
   "id": "f6652718",
   "metadata": {},
   "source": [
    "### Duplicates"
   ]
  },
  {
   "cell_type": "code",
   "execution_count": null,
   "id": "5fa79d29",
   "metadata": {
    "scrolled": true
   },
   "outputs": [],
   "source": [
    "meditations_df = meditations_df.sort_values(by='meditation_id')\n",
    "meditations_df.loc[meditations_df[['meditation_id']].duplicated()]"
   ]
  },
  {
   "cell_type": "code",
   "execution_count": null,
   "id": "0740c75b",
   "metadata": {},
   "outputs": [],
   "source": [
    "meditations_df = meditations_df.loc[~meditations_df[['meditation_id']].duplicated()]\n",
    "meditations_df.shape"
   ]
  },
  {
   "cell_type": "markdown",
   "id": "867113d7",
   "metadata": {},
   "source": [
    "## Cleansing Columns"
   ]
  },
  {
   "cell_type": "markdown",
   "id": "cd14ec86",
   "metadata": {},
   "source": [
    "### Take subset of columns"
   ]
  },
  {
   "cell_type": "code",
   "execution_count": null,
   "id": "c52273e2",
   "metadata": {},
   "outputs": [],
   "source": [
    "meditations_df = meditations_df[['teacher_id',\n",
    "                                 'meditation_id',\n",
    "                                #'med_list_batch_id',        Removing this column\n",
    "                                #'med_list_scrape_date',     Removing this column\n",
    "                                #'med_list_scrape_status',   Removing this column\n",
    "                                 'med_detail_batch_id',      \n",
    "                                 'med_detail_scrape_date',\n",
    "                                #'med_detail_scrape_status', Removing this column\n",
    "                                 'title',\n",
    "                                 'upload_date',\n",
    "                                 'duration',\n",
    "                                 'plays',\n",
    "                                 'rating',\n",
    "                                 'reviews',\n",
    "                                 'track_type',\n",
    "                                 'activity',\n",
    "                                 'suitable_for',\n",
    "                                 'topics',\n",
    "                                 'description',\n",
    "                                 'meditation_url',\n",
    "                                 'image_url']]"
   ]
  },
  {
   "cell_type": "code",
   "execution_count": null,
   "id": "c795735c",
   "metadata": {
    "scrolled": true
   },
   "outputs": [],
   "source": [
    "for index, row in meditations_df.iterrows():\n",
    "    \n",
    "    #teacher_id -- no changes\n",
    "    \n",
    "    #meditation_id -- remove prefix\n",
    "    if row.meditation_id[:20] == '/guided-meditations/':\n",
    "        meditations_df.loc[index, 'meditation_id'] = row.meditation_id[20:]\n",
    "    \n",
    "    #med_detail_scrape_date   -- no changes\n",
    "    #title                    -- no changes\n",
    "    #upload_date              -- no changes\n",
    "    \n",
    "    #duration -- Example values: PT41M2S, PT6M28S, PT1H3S, PT1H, PT54S, PT11M\n",
    "    if pd.notna(row.duration):\n",
    "        med_hours = re.search(\"\\d+H\", row.duration)\n",
    "        if med_hours is None:\n",
    "            med_hours = int(0)\n",
    "        else:\n",
    "            med_hours = int(med_hours.group()[:-1])\n",
    "        med_minutes = re.search(\"\\d+M\", row.duration)\n",
    "        if med_minutes is None:\n",
    "            med_minutes = int(0)\n",
    "        else:\n",
    "            med_minutes = int(med_minutes.group()[:-1])\n",
    "        med_seconds = re.search(\"\\d+S\", row.duration)\n",
    "        if med_seconds is None:\n",
    "            med_seconds = int(0)\n",
    "        else:\n",
    "            med_seconds = int(med_seconds.group()[:-1])\n",
    "        meditations_df.loc[index, 'duration'] = timedelta(hours=med_hours,\n",
    "                                                          minutes=med_minutes,\n",
    "                                                          seconds=med_seconds)\n",
    "    \n",
    "    #plays -- Example values: 465, 45k, 3m\n",
    "    if str(row.plays)[-1:] == 'k':\n",
    "        num_plays = int(float(row.plays[:-1]) * 1000)\n",
    "    elif str(row.plays)[-1] == 'm':\n",
    "        num_plays = int(float(row.plays[:-1]) * 1000000)\n",
    "    elif pd.isna(row.plays):\n",
    "        num_plays = 0\n",
    "    else:\n",
    "        num_plays = int(row.plays)\n",
    "    meditations_df.loc[index, 'plays'] = int(num_plays)\n",
    "    \n",
    "    #rating         -- Example value: 4.63  Handling for null when change type to int?\n",
    "    #reviews\n",
    "    if pd.isna(row.reviews):\n",
    "        meditations_df.loc[index, 'reviews'] = int(0)\n",
    "    #track_type     -- no changes -- Values: guided, talks, music\n",
    "    #activity       -- no changes -- value; meditation  (Are there others?)\n",
    "    #suitable_for   -- no changes -- values: Everyone, Children, Experienced, Beginners\n",
    "    \n",
    "#topics -- separate table, will do later in notebook\n",
    "    \n",
    "    #description    -- no changes\n",
    "    #meditation_url -- no changes\n",
    "    #image_url      -- no changes"
   ]
  },
  {
   "cell_type": "code",
   "execution_count": null,
   "id": "d171df2e",
   "metadata": {},
   "outputs": [],
   "source": [
    "meditations_df.loc[pd.isna(meditations_df.reviews)]"
   ]
  },
  {
   "cell_type": "markdown",
   "id": "751ccdd6",
   "metadata": {},
   "source": [
    "### Set correct data types"
   ]
  },
  {
   "cell_type": "code",
   "execution_count": null,
   "id": "219fc96b",
   "metadata": {},
   "outputs": [],
   "source": [
    "meditations_df['med_detail_scrape_date'] = pd.to_datetime(meditations_df.med_detail_scrape_date)\n",
    "meditations_df['upload_date'] = pd.to_datetime(meditations_df.upload_date)\n",
    "meditations_df['duration'] = pd.to_timedelta(meditations_df.duration)"
   ]
  },
  {
   "cell_type": "code",
   "execution_count": null,
   "id": "b693624d",
   "metadata": {},
   "outputs": [],
   "source": [
    "#Datatypes dictionary\n",
    "meditation_datatypes = {'teacher_id':'str',\n",
    "                        'meditation_id':'str',\n",
    "                        'med_detail_batch_id':'int',\n",
    "                       #'med_detail_scrape_date'\n",
    "                        'title':'str',\n",
    "                        #'upload_date'\n",
    "                        #'duration''\n",
    "                        'plays':'int',\n",
    "                        'rating':'float', \n",
    "                        'reviews':'int',\n",
    "                        'track_type':'str',\n",
    "                        'activity':'str',\n",
    "                        'suitable_for':'str',\n",
    "                        'topics': 'str',\n",
    "                        'description':'str',\n",
    "                        'meditation_url':'str',\n",
    "                        'image_url':'str'}\n",
    "\n",
    "meditations_df = meditations_df.astype(dtype=meditation_datatypes)"
   ]
  },
  {
   "cell_type": "code",
   "execution_count": null,
   "id": "0317be31",
   "metadata": {
    "scrolled": false
   },
   "outputs": [],
   "source": [
    "meditations_df.info()"
   ]
  },
  {
   "cell_type": "markdown",
   "id": "43050636",
   "metadata": {},
   "source": [
    "### Save meditations data to csv"
   ]
  },
  {
   "cell_type": "code",
   "execution_count": null,
   "id": "87a632e9",
   "metadata": {
    "scrolled": true
   },
   "outputs": [],
   "source": [
    "meditations_df.to_csv('../data/meditations_df.csv')"
   ]
  },
  {
   "cell_type": "markdown",
   "id": "cb143fd5",
   "metadata": {},
   "source": [
    "## Topics"
   ]
  },
  {
   "cell_type": "markdown",
   "id": "0940e3f8",
   "metadata": {},
   "source": [
    "### Create meditations_topics_df"
   ]
  },
  {
   "cell_type": "code",
   "execution_count": null,
   "id": "0db1c90a",
   "metadata": {
    "scrolled": true
   },
   "outputs": [],
   "source": [
    "meditations_df = meditations_df.sort_values(by=['med_detail_batch_id'])\n",
    "current_batch = 0\n",
    "\n",
    "meditation_id_list = []\n",
    "topic_list = []\n",
    "\n",
    "\n",
    "for index, row in meditations_df.iterrows():\n",
    "    if row.med_detail_batch_id != current_batch:\n",
    "        current_batch = row.med_detail_batch_id\n",
    "        print('Batch ID =',current_batch)\n",
    "    row_topics = row.topics.split(',')\n",
    "    \n",
    "    for topic in row_topics:\n",
    "        meditation_id_list = meditation_id_list + [row.meditation_id]\n",
    "        if topic == 'nan':\n",
    "            topic_list = topic_list + ['Unknown']\n",
    "        else:\n",
    "            topic_list = topic_list + [topic]\n",
    "        \n",
    "meditations_topics_df = pd.DataFrame({'meditation_id':meditation_id_list, 'topic':topic_list})"
   ]
  },
  {
   "cell_type": "code",
   "execution_count": null,
   "id": "b319ef94",
   "metadata": {},
   "outputs": [],
   "source": [
    "meditations_topics_df.head()"
   ]
  },
  {
   "cell_type": "code",
   "execution_count": null,
   "id": "7e354f4e",
   "metadata": {},
   "outputs": [],
   "source": [
    "meditations_topics_df.to_csv('../data/meditations_topics_df.csv')"
   ]
  },
  {
   "cell_type": "markdown",
   "id": "96e7aac4",
   "metadata": {},
   "source": [
    "### Create topics_df"
   ]
  },
  {
   "cell_type": "code",
   "execution_count": null,
   "id": "12d9e82a",
   "metadata": {},
   "outputs": [],
   "source": [
    "topics_df = pd.read_csv('../data/topics_df.csv',index_col=0)\n",
    "topics_df.head()"
   ]
  },
  {
   "cell_type": "code",
   "execution_count": null,
   "id": "c523675e",
   "metadata": {},
   "outputs": [],
   "source": [
    "missing_topics = meditations_topics_df.merge(topics_df,how='left',on='topic')\n",
    "missing_topics = missing_topics.loc[(missing_topics.category.isna()) & (missing_topics.subcategory.isna())]\n",
    "missing_topics.topic.unique()"
   ]
  },
  {
   "cell_type": "code",
   "execution_count": null,
   "id": "5446cf53",
   "metadata": {},
   "outputs": [],
   "source": [
    "topics_df = topics_df.sort_values(by=['category','subcategory','topic'])\n",
    "topics_df = topics_df.reset_index(drop=True)"
   ]
  },
  {
   "cell_type": "code",
   "execution_count": null,
   "id": "1c00b3fb",
   "metadata": {},
   "outputs": [],
   "source": [
    "topics_df.to_csv('../data/topics_df.csv')"
   ]
  },
  {
   "cell_type": "markdown",
   "id": "cb5ba518",
   "metadata": {},
   "source": [
    "Some topics are placed in more than one subcategory:\n",
    "- Stress in Sleep, Stress & Anxiety\n",
    "- Workplace in Performance, Stress & Anxiety\n",
    "- Anxiety in Sleep, Stress & Anxiety\n",
    "- Relax in Health & Happiness, Sleep\n",
    "- Kids Sleep in For Parents, Sleep"
   ]
  },
  {
   "cell_type": "code",
   "execution_count": null,
   "id": "59e0dbed",
   "metadata": {},
   "outputs": [],
   "source": []
  }
 ],
 "metadata": {
  "kernelspec": {
   "display_name": "Python 3 (ipykernel)",
   "language": "python",
   "name": "python3"
  },
  "language_info": {
   "codemirror_mode": {
    "name": "ipython",
    "version": 3
   },
   "file_extension": ".py",
   "mimetype": "text/x-python",
   "name": "python",
   "nbconvert_exporter": "python",
   "pygments_lexer": "ipython3",
   "version": "3.9.13"
  }
 },
 "nbformat": 4,
 "nbformat_minor": 5
}
