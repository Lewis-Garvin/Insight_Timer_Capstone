{
 "cells": [
  {
   "cell_type": "code",
   "execution_count": null,
   "id": "f80a40ef",
   "metadata": {},
   "outputs": [],
   "source": [
    "import pandas as pd\n"
   ]
  },
  {
   "cell_type": "code",
   "execution_count": null,
   "id": "ce3b8876",
   "metadata": {},
   "outputs": [],
   "source": [
    "teachers_df = pd.read_csv('../data/teachers_df.csv', index_col=0)\n",
    "teachers_df = teachers_df[['teacher_id',\n",
    "                           'teacher_name',\n",
    "                           'location',\n",
    "                           'followers',\n",
    "                           'languages',\n",
    "                           'date_joined',\n",
    "                           'about']]\n",
    "teachers_df['date_joined'] = pd.to_datetime(teachers_df.date_joined)\n",
    "teachers_df.info()"
   ]
  },
  {
   "cell_type": "code",
   "execution_count": null,
   "id": "c9361188",
   "metadata": {},
   "outputs": [],
   "source": [
    "teachers_languages_df = pd.read_csv('../data/teachers_languages_df.csv', index_col=0)\n",
    "teachers_languages_df.head()"
   ]
  },
  {
   "cell_type": "code",
   "execution_count": null,
   "id": "2ac4441a",
   "metadata": {},
   "outputs": [],
   "source": [
    "meditations_df = pd.read_csv('../data/meditations_df.csv', index_col=0)\n",
    "meditations_df\n"
   ]
  },
  {
   "cell_type": "code",
   "execution_count": null,
   "id": "1b8a206e",
   "metadata": {},
   "outputs": [],
   "source": [
    "meditations_topics_df = pd.read_csv('../data/meditations_topics_df.csv', index_col=0)\n",
    "meditations_topics_df.head()"
   ]
  },
  {
   "cell_type": "code",
   "execution_count": null,
   "id": "d80346e5",
   "metadata": {},
   "outputs": [],
   "source": [
    "topics_df = pd.read_csv('../data/topics_df.csv', index_col=0)\n",
    "topics_df.head()"
   ]
  },
  {
   "cell_type": "code",
   "execution_count": null,
   "id": "c2fbb9cf",
   "metadata": {},
   "outputs": [],
   "source": []
  }
 ],
 "metadata": {
  "kernelspec": {
   "display_name": "Python 3 (ipykernel)",
   "language": "python",
   "name": "python3"
  },
  "language_info": {
   "codemirror_mode": {
    "name": "ipython",
    "version": 3
   },
   "file_extension": ".py",
   "mimetype": "text/x-python",
   "name": "python",
   "nbconvert_exporter": "python",
   "pygments_lexer": "ipython3",
   "version": "3.9.13"
  }
 },
 "nbformat": 4,
 "nbformat_minor": 5
}
