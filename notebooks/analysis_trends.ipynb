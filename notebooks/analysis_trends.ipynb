{
 "cells": [
  {
   "cell_type": "code",
   "execution_count": null,
   "id": "f80a40ef",
   "metadata": {},
   "outputs": [],
   "source": [
    "import pandas as pd\n",
    "import matplotlib.pyplot as plt\n",
    "import seaborn as sns\n",
    "import datetime"
   ]
  },
  {
   "cell_type": "code",
   "execution_count": null,
   "id": "ce3b8876",
   "metadata": {},
   "outputs": [],
   "source": [
    "teachers_df = pd.read_csv('../data/teachers_df.csv', index_col=0)\n",
    "teachers_df = teachers_df[['teacher_id',\n",
    "                           'teacher_name',\n",
    "                           'location',\n",
    "                           'city',\n",
    "                           'country',\n",
    "                           'followers',\n",
    "                           'languages',\n",
    "                           'date_joined',\n",
    "                           'about',\n",
    "                           'image_url']]\n",
    "teachers_df['date_joined'] = pd.to_datetime(teachers_df.date_joined)\n",
    "#teachers_df.head()"
   ]
  },
  {
   "cell_type": "code",
   "execution_count": null,
   "id": "c9361188",
   "metadata": {},
   "outputs": [],
   "source": [
    "teachers_languages_df = pd.read_csv('../data/teachers_languages_df.csv', index_col=0)\n",
    "teachers_languages_df.head()"
   ]
  },
  {
   "cell_type": "code",
   "execution_count": null,
   "id": "2ac4441a",
   "metadata": {},
   "outputs": [],
   "source": [
    "meditations_df = pd.read_csv('../data/meditations_df.csv', index_col=0)\n",
    "meditations_df = meditations_df[['teacher_id',\n",
    "                                 'meditation_id',\n",
    "                                 'title',\n",
    "                                 'upload_date',\n",
    "                                 'duration',\n",
    "                                 'plays',\n",
    "                                 'rating',\n",
    "                                 'reviews',\n",
    "                                 'track_type',\n",
    "                                 'activity',\n",
    "                                 'suitable_for',\n",
    "                                 'description',\n",
    "                                 'meditation_url',\n",
    "                                 'image_url']]\n",
    "meditations_df['upload_date'] = pd.to_datetime(meditations_df.upload_date)\n",
    "meditations_df['duration'] = pd.to_timedelta(meditations_df.duration)\n",
    "meditations_df.info()"
   ]
  },
  {
   "cell_type": "code",
   "execution_count": null,
   "id": "1b8a206e",
   "metadata": {},
   "outputs": [],
   "source": [
    "meditations_topics_df = pd.read_csv('../data/meditations_topics_df.csv', index_col=0)\n",
    "meditations_topics_df.head()"
   ]
  },
  {
   "cell_type": "code",
   "execution_count": null,
   "id": "d80346e5",
   "metadata": {},
   "outputs": [],
   "source": [
    "topics_df = pd.read_csv('../data/topics_df.csv', index_col=0)\n",
    "topics_df.head()"
   ]
  },
  {
   "cell_type": "markdown",
   "id": "11ac3c02",
   "metadata": {},
   "source": [
    "# Growth of Meditations"
   ]
  },
  {
   "cell_type": "code",
   "execution_count": null,
   "id": "6cd8d7cb",
   "metadata": {},
   "outputs": [],
   "source": [
    "meditations_df\n",
    "for index, row in meditations_df.iterrows():\n",
    "    meditations_df.loc[index,'duration_min'] = row.duration.seconds / 60\n",
    "    meditations_df.loc[index,'upload_year'] = row.upload_date.year"
   ]
  },
  {
   "cell_type": "code",
   "execution_count": null,
   "id": "97517d91",
   "metadata": {},
   "outputs": [],
   "source": [
    "med_growth = meditations_df.groupby(by=['upload_year']).agg({'plays':['count','sum']})\n",
    "med_growth.columns = ['_'.join(col) for col in med_growth.columns.values]\n",
    "med_growth = med_growth.reset_index(drop=False)\n",
    "med_growth"
   ]
  },
  {
   "cell_type": "code",
   "execution_count": null,
   "id": "950c74fd",
   "metadata": {
    "scrolled": false
   },
   "outputs": [],
   "source": [
    "#hue_order = ['No AH',\n",
    "#             'Built before 2010',\n",
    "#             'Built since 2010']\n",
    "#palettedict = {'No AH':'#0F0064',\n",
    "#               'Built before 2010':'#F3C400',\n",
    "#               'Built since 2010':'#E7800C'}\n",
    "fig, ax = plt.subplots(figsize=(10,5))\n",
    "lp = sns.lineplot(data=med_growth,\n",
    "         x='upload_year',\n",
    "         y='plays_count',\n",
    "         marker='o',\n",
    "         markersize=5,\n",
    "#         hue='has_project_2010',\n",
    "#         hue_order=hue_order,\n",
    "#         palette=palettedict\n",
    "         )\n",
    "#lp.set_ylim(0,500000)\n",
    "plt.title('',\n",
    "          fontweight = 'bold',\n",
    "          fontsize = 14)\n",
    "plt.xlabel('')\n",
    "plt.ylabel('Number of Meditations Uploaded each Year',\n",
    "          fontweight = 'bold',\n",
    "          fontsize = 12)\n",
    "plt.legend(loc=\"lower right\")\n",
    "#lp.set_xticks([2010,2011,2012,2013,2014,2015,2016,2017,2018,2019,2020,2021,2022])\n",
    "#lp.set_yticks([0,100000,200000,300000,400000,500000])\n",
    "#lp.set_yticklabels(['$0','$100,000','$200,000','$300,000','$400,000','$500,000'])\n",
    "#plt.text(x = 2014, y=100000, s='AH in 9 of these 13 tracts by 2014', fontsize = 10,ha='left')\n",
    "#plt.text(x = 2018, y=200000, s='AH in all of these tracts by 2018', fontsize = 10,ha='left')\n",
    ";"
   ]
  },
  {
   "cell_type": "code",
   "execution_count": null,
   "id": "38de85ad",
   "metadata": {},
   "outputs": [],
   "source": [
    "total_meditations = 0\n",
    "med_growth=med_growth.sort_values(by=['upload_year'])\n",
    "for index, row in med_growth.iterrows():\n",
    "    med_growth.loc[index,'total_meditations'] = row.plays_count + total_meditations\n",
    "    total_meditations=row.plays_count + total_meditations\n",
    "med_growth"
   ]
  },
  {
   "cell_type": "code",
   "execution_count": null,
   "id": "0e5ac5bd",
   "metadata": {},
   "outputs": [],
   "source": [
    "#hue_order = ['No AH',\n",
    "#             'Built before 2010',\n",
    "#             'Built since 2010']\n",
    "#palettedict = {'No AH':'#0F0064',\n",
    "#               'Built before 2010':'#F3C400',\n",
    "#               'Built since 2010':'#E7800C'}\n",
    "fig, ax = plt.subplots(figsize=(10,5))\n",
    "lp = sns.lineplot(data=med_growth,\n",
    "         x='upload_year',\n",
    "         y='total_meditations',\n",
    "         marker='o',\n",
    "         markersize=5,\n",
    "#         hue='has_project_2010',\n",
    "#         hue_order=hue_order,\n",
    "#         palette=palettedict\n",
    "         )\n",
    "#lp.set_ylim(0,500000)\n",
    "plt.title('',\n",
    "          fontweight = 'bold',\n",
    "          fontsize = 14)\n",
    "plt.xlabel('')\n",
    "plt.ylabel('Total Meditations',\n",
    "          fontweight = 'bold',\n",
    "          fontsize = 12)\n",
    "plt.legend(loc=\"lower right\")\n",
    "#lp.set_xticks([2010,2011,2012,2013,2014,2015,2016,2017,2018,2019,2020,2021,2022])\n",
    "#lp.set_yticks([0,100000,200000,300000,400000,500000])\n",
    "#lp.set_yticklabels(['$0','$100,000','$200,000','$300,000','$400,000','$500,000'])\n",
    "#plt.text(x = 2014, y=100000, s='AH in 9 of these 13 tracts by 2014', fontsize = 10,ha='left')\n",
    "#plt.text(x = 2018, y=200000, s='AH in all of these tracts by 2018', fontsize = 10,ha='left')\n",
    ";"
   ]
  },
  {
   "cell_type": "code",
   "execution_count": null,
   "id": "a5fdb63e",
   "metadata": {},
   "outputs": [],
   "source": [
    "#for each topic, count of meditations? Median number of plays?\n",
    "med_growth_topic = meditations_df.merge(meditations_topics_df, how='inner',on=['meditation_id'])\n",
    "med_growth_topic = med_growth_topic.groupby(by=['topic','upload_year']).agg({'meditation_id':['count']})\n",
    "med_growth_topic.columns = ['_'.join(col) for col in med_growth_topic.columns.values]\n",
    "med_growth_topic = med_growth_topic.reset_index(drop=False)\n",
    "med_growth_topic.head()"
   ]
  },
  {
   "cell_type": "code",
   "execution_count": null,
   "id": "d3166da6",
   "metadata": {
    "scrolled": true
   },
   "outputs": [],
   "source": [
    "top5topics = list(med_growth_topic.loc[med_growth_topic.upload_year == 2022].sort_values(by=['meditation_id_count'],ascending=False).head(5).topic.values)\n",
    "top5topics"
   ]
  },
  {
   "cell_type": "code",
   "execution_count": null,
   "id": "8d04c278",
   "metadata": {},
   "outputs": [],
   "source": [
    "med_growth_topic = med_growth_topic.loc[med_growth_topic['topic'].isin(top5topics)]"
   ]
  },
  {
   "cell_type": "code",
   "execution_count": null,
   "id": "0952609e",
   "metadata": {
    "scrolled": false
   },
   "outputs": [],
   "source": [
    "#hue_order = ['No AH',\n",
    "#             'Built before 2010',\n",
    "#             'Built since 2010']\n",
    "#palettedict = {'No AH':'#0F0064',\n",
    "#               'Built before 2010':'#F3C400',\n",
    "#               'Built since 2010':'#E7800C'}\n",
    "fig, ax = plt.subplots(figsize=(10,5))\n",
    "lp = sns.lineplot(data=med_growth_topic,\n",
    "         x='upload_year',\n",
    "         y='meditation_id_count',\n",
    "         marker='o',\n",
    "         markersize=5,\n",
    "         hue='topic',\n",
    "#         hue_order=hue_order,\n",
    "#         palette=palettedict\n",
    "         )\n",
    "#lp.set_ylim(0,500000)\n",
    "plt.title('',\n",
    "          fontweight = 'bold',\n",
    "          fontsize = 14)\n",
    "plt.xlabel('')\n",
    "plt.ylabel('# Uploaded Meditations',\n",
    "          fontweight = 'bold',\n",
    "          fontsize = 12)\n",
    "plt.legend(loc=\"upper left\")\n",
    "#lp.set_xticks([2010,2011,2012,2013,2014,2015,2016,2017,2018,2019,2020,2021,2022])\n",
    "#lp.set_yticks([0,100000,200000,300000,400000,500000])\n",
    "#lp.set_yticklabels(['$0','$100,000','$200,000','$300,000','$400,000','$500,000'])\n",
    "#plt.text(x = 2014, y=100000, s='AH in 9 of these 13 tracts by 2014', fontsize = 10,ha='left')\n",
    "#plt.text(x = 2018, y=200000, s='AH in all of these tracts by 2018', fontsize = 10,ha='left')\n",
    ";"
   ]
  },
  {
   "cell_type": "code",
   "execution_count": null,
   "id": "ec212a4a",
   "metadata": {},
   "outputs": [],
   "source": [
    "#med_growth_topic = med_growth[['meditation_id',\n",
    "#                               'upload_date',\n",
    "#                               'upload_year',\n",
    "#                               'topic']]\n",
    "#med_growth_topic = ."
   ]
  },
  {
   "cell_type": "markdown",
   "id": "0c857ccb",
   "metadata": {},
   "source": [
    "***After joining with topics, can't take an overall sum of meditations!!!***"
   ]
  },
  {
   "cell_type": "markdown",
   "id": "b70b37e3",
   "metadata": {},
   "source": [
    "## Growth of Teachers"
   ]
  },
  {
   "cell_type": "markdown",
   "id": "29d64c62",
   "metadata": {},
   "source": [
    "Growth in Teachers, Growth in Meditations"
   ]
  },
  {
   "cell_type": "code",
   "execution_count": null,
   "id": "73be3232",
   "metadata": {
    "scrolled": true
   },
   "outputs": [],
   "source": [
    "for index, row in teachers_df.iterrows():\n",
    "    teachers_df.loc[index,'years_since_joined'] = 2022 - row.date_joined.year\n",
    "    teachers_df.loc[index,'year_joined'] = row.date_joined.year\n",
    "teachers_df.head()"
   ]
  },
  {
   "cell_type": "markdown",
   "id": "6167f398",
   "metadata": {},
   "source": [
    "# Testing Start"
   ]
  },
  {
   "cell_type": "code",
   "execution_count": null,
   "id": "2062fd3d",
   "metadata": {},
   "outputs": [],
   "source": [
    "teachers_test=teachers_df.copy()"
   ]
  },
  {
   "cell_type": "code",
   "execution_count": null,
   "id": "61dbedf6",
   "metadata": {},
   "outputs": [],
   "source": [
    "teachers_test.loc[(teachers_test.country == 'canada') & (teachers_test.year_joined == 2016)]"
   ]
  },
  {
   "cell_type": "markdown",
   "id": "299841d2",
   "metadata": {},
   "source": [
    "# Testing End"
   ]
  },
  {
   "cell_type": "code",
   "execution_count": null,
   "id": "a5d1ee40",
   "metadata": {
    "scrolled": true
   },
   "outputs": [],
   "source": [
    "teachers_total = teachers_df.groupby(by=['year_joined']).agg({'teacher_id':['count']})\n",
    "teachers_total.columns = ['_'.join(col) for col in teachers_total.columns.values]\n",
    "teachers_total = teachers_total.reset_index(drop=False)\n",
    "teachers_total.head()"
   ]
  },
  {
   "cell_type": "code",
   "execution_count": null,
   "id": "a0b28f6b",
   "metadata": {},
   "outputs": [],
   "source": []
  },
  {
   "cell_type": "code",
   "execution_count": null,
   "id": "af497ce8",
   "metadata": {},
   "outputs": [],
   "source": [
    "#hue_order = ['No AH',\n",
    "#             'Built before 2010',\n",
    "#             'Built since 2010']\n",
    "#palettedict = {'No AH':'#0F0064',\n",
    "#               'Built before 2010':'#F3C400',\n",
    "#               'Built since 2010':'#E7800C'}\n",
    "fig, ax = plt.subplots(figsize=(10,5))\n",
    "lp = sns.lineplot(data=teachers_total,\n",
    "         x='year_joined',\n",
    "         y='teacher_id_count',\n",
    "         marker='o',\n",
    "         markersize=5,\n",
    "#         hue='has_project_2010',\n",
    "#         hue_order=hue_order,\n",
    "#         palette=palettedict\n",
    "         )\n",
    "#lp.set_ylim(0,500000)\n",
    "plt.title('',\n",
    "          fontweight = 'bold',\n",
    "          fontsize = 14)\n",
    "plt.xlabel('')\n",
    "plt.ylabel('Number of Teachers Joining Insight Timer',\n",
    "          fontweight = 'bold',\n",
    "          fontsize = 12)\n",
    "plt.legend(loc=\"lower right\")\n",
    "#lp.set_xticks([2010,2011,2012,2013,2014,2015,2016,2017,2018,2019,2020,2021,2022])\n",
    "#lp.set_yticks([0,100000,200000,300000,400000,500000])\n",
    "#lp.set_yticklabels(['$0','$100,000','$200,000','$300,000','$400,000','$500,000'])\n",
    "#plt.text(x = 2014, y=100000, s='AH in 9 of these 13 tracts by 2014', fontsize = 10,ha='left')\n",
    "#plt.text(x = 2018, y=200000, s='AH in all of these tracts by 2018', fontsize = 10,ha='left')\n",
    ";"
   ]
  },
  {
   "cell_type": "code",
   "execution_count": null,
   "id": "b8f5974e",
   "metadata": {
    "scrolled": true
   },
   "outputs": [],
   "source": [
    "teachers_country = teachers_df.groupby(by=['country','year_joined']).agg({'teacher_id':['count']})\n",
    "teachers_country.columns = ['_'.join(col) for col in teachers_country.columns.values]\n",
    "teachers_country = teachers_country.reset_index(drop=False)\n",
    "teachers_country.head()"
   ]
  },
  {
   "cell_type": "markdown",
   "id": "7bc459cc",
   "metadata": {},
   "source": [
    "# COME BACK HERE"
   ]
  },
  {
   "cell_type": "code",
   "execution_count": null,
   "id": "2a3ef2b8",
   "metadata": {
    "scrolled": true
   },
   "outputs": [],
   "source": [
    "teachers_country=teachers_country.sort_values(by=['country','year_joined']).reset_index(drop=True)\n",
    "\n",
    "prior_country = \"-----------------\"\n",
    "prior_total_teachers = 0\n",
    "\n",
    "for index, row in teachers_country.iterrows():\n",
    "    if row.country == prior_country:\n",
    "        teachers_country.loc[index,'total_teachers'] = row.teacher_id_count + prior_total_teachers\n",
    "        prior_total_teachers = prior_total_teachers + row.teacher_id_count\n",
    "    else:\n",
    "        teachers_country.loc[index,'total_teachers'] = row.teacher_id_count\n",
    "        prior_country = row.country\n",
    "        prior_total_teachers = row.teacher_id_count\n",
    "teachers_country"
   ]
  },
  {
   "cell_type": "code",
   "execution_count": null,
   "id": "045283ff",
   "metadata": {},
   "outputs": [],
   "source": [
    "#PLEASE DELETE ME\n",
    "\n",
    "#for index, row in teachers_country.iterrows():\n",
    "#    total_teachers = teachers_country.loc[(teachers_country.year_joined <= row.year_joined)& (teachers_country.country == row.country)].agg({'teacher_id_count':['sum']})\n",
    "#    teachers_country.loc[index,'total_teachers'] = total_teachers\n",
    "#teachers_country"
   ]
  },
  {
   "cell_type": "code",
   "execution_count": null,
   "id": "3668917c",
   "metadata": {
    "scrolled": true
   },
   "outputs": [],
   "source": [
    "#total_teachers = 0\n",
    "#for index, row in teachers_country.iterrows():\n",
    "#    teachers_country.loc[index,'total_teachers'] = row.teacher_id_count + total_teachers\n",
    "#    total_teachers=row.teacher_id_count + total_teachers\n",
    "#teachers_country"
   ]
  },
  {
   "cell_type": "code",
   "execution_count": null,
   "id": "7fe0bb45",
   "metadata": {},
   "outputs": [],
   "source": [
    "teachers_country.loc[teachers_country.country=='Uruguay']"
   ]
  },
  {
   "cell_type": "code",
   "execution_count": null,
   "id": "945f680c",
   "metadata": {},
   "outputs": [],
   "source": [
    "top5countries = list(teachers_country.loc[teachers_country.year_joined == 2022].sort_values(by=['total_teachers'],ascending=False).head(5).country.values)\n",
    "top5countries"
   ]
  },
  {
   "cell_type": "code",
   "execution_count": null,
   "id": "b51c24ad",
   "metadata": {},
   "outputs": [],
   "source": [
    "teachers_country = teachers_country.loc[teachers_country['country'].isin(top5countries)]"
   ]
  },
  {
   "cell_type": "code",
   "execution_count": null,
   "id": "330e4df1",
   "metadata": {
    "scrolled": false
   },
   "outputs": [],
   "source": [
    "#hue_order = ['No AH',\n",
    "#             'Built before 2010',\n",
    "#             'Built since 2010']\n",
    "#palettedict = {'No AH':'#0F0064',\n",
    "#               'Built before 2010':'#F3C400',\n",
    "#               'Built since 2010':'#E7800C'}\n",
    "fig, ax = plt.subplots(figsize=(10,5))\n",
    "lp = sns.lineplot(data=teachers_country,\n",
    "         x='year_joined',\n",
    "         y='total_teachers',\n",
    "         marker='o',\n",
    "         markersize=5,\n",
    "         hue='country',\n",
    "#         hue_order=hue_order,\n",
    "#         palette=palettedict\n",
    "         )\n",
    "#lp.set_ylim(0,500000)\n",
    "plt.title('',\n",
    "          fontweight = 'bold',\n",
    "          fontsize = 14)\n",
    "plt.xlabel('')\n",
    "plt.ylabel('Total Teachers on Insight Timer',\n",
    "          fontweight = 'bold',\n",
    "          fontsize = 12)\n",
    "plt.legend(loc=\"upper left\")\n",
    "#lp.set_xticks([2010,2011,2012,2013,2014,2015,2016,2017,2018,2019,2020,2021,2022])\n",
    "#lp.set_yticks([0,100000,200000,300000,400000,500000])\n",
    "#lp.set_yticklabels(['$0','$100,000','$200,000','$300,000','$400,000','$500,000'])\n",
    "#plt.text(x = 2014, y=100000, s='AH in 9 of these 13 tracts by 2014', fontsize = 10,ha='left')\n",
    "#plt.text(x = 2018, y=200000, s='AH in all of these tracts by 2018', fontsize = 10,ha='left')\n",
    ";"
   ]
  },
  {
   "cell_type": "markdown",
   "id": "ec15febc",
   "metadata": {},
   "source": [
    "### Suitable for"
   ]
  },
  {
   "cell_type": "code",
   "execution_count": null,
   "id": "0e0c661c",
   "metadata": {
    "scrolled": true
   },
   "outputs": [],
   "source": [
    "#92% of meditations are marked as suitable for 'Everyone'\n",
    "suitable_meds = meditations_df[['suitable_for',\n",
    "                                'plays',\n",
    "                                'rating',\n",
    "                                ]]\n",
    "suitable_meds = suitable_meds.groupby(by=['suitable_for']).agg({'plays':['count','mean'],'rating':['mean']})\n",
    "suitable_meds = suitable_meds.reset_index()\n",
    "suitable_meds.columns = ['_'.join(col) for col in suitable_meds.columns.values]\n",
    "suitable_meds = suitable_meds.sort_values(by=['plays_mean'],ascending=False)\n",
    "suitable_meds.head()"
   ]
  },
  {
   "cell_type": "code",
   "execution_count": null,
   "id": "7acc980e",
   "metadata": {},
   "outputs": [],
   "source": [
    "fig, ax = plt.subplots(figsize=(7,6))\n",
    "ahs = sns.barplot(data=suitable_meds,\n",
    "                 x='suitable_for_',\n",
    "                 y='plays_mean'#,\n",
    "                 # palette=palette\n",
    "                 )\n",
    "plt.title('Average Plays by \"Suitable For\"',\n",
    "          fontweight = 'bold',\n",
    "          fontsize = 14)\n",
    "plt.xlabel('Suitable For',\n",
    "          fontweight = 'bold',\n",
    "          fontsize = 12)\n",
    "plt.ylabel('Average Plays',\n",
    "          fontweight = 'bold',\n",
    "          fontsize = 12)\n",
    "#ahs.set_ylim(bottom=0,top=110)\n",
    "#ahs.set_xticklabels(['No AH','Built before 2010','Built since 2010 (in or after 2010)'])\n",
    "#plt.text(x = 0, y=100, s='97', fontsize = 14,ha='center') #No AH\n",
    "#plt.text(x = 1, y=52, s='49', fontsize = 14,ha='center') #Built before 2010\n",
    "#plt.text(x = 2, y=15, s='13', fontsize = 14,ha='center') #Built after 2010\n",
    ";"
   ]
  },
  {
   "cell_type": "markdown",
   "id": "99b267aa",
   "metadata": {},
   "source": [
    "# Track Type"
   ]
  },
  {
   "cell_type": "code",
   "execution_count": null,
   "id": "bc608079",
   "metadata": {},
   "outputs": [],
   "source": [
    "#92% of meditations are marked as suitable for 'Everyone'\n",
    "track_meds = meditations_df[['track_type',\n",
    "                             'plays',\n",
    "                             'rating',\n",
    "                                ]]\n",
    "track_meds = track_meds.groupby(by=['track_type']).agg({'plays':['count','mean'],'rating':['mean']})\n",
    "track_meds = track_meds.reset_index()\n",
    "track_meds.columns = ['_'.join(col) for col in track_meds.columns.values]\n",
    "track_meds = track_meds.sort_values(by=['plays_mean'],ascending=False)\n",
    "track_meds.head()"
   ]
  },
  {
   "cell_type": "code",
   "execution_count": null,
   "id": "e68f2309",
   "metadata": {},
   "outputs": [],
   "source": [
    "fig, ax = plt.subplots(figsize=(7,6))\n",
    "ahs = sns.barplot(data=track_meds,\n",
    "                 x='track_type_',\n",
    "                 y='plays_mean'#,\n",
    "                 # palette=palette\n",
    "                 )\n",
    "plt.title('Average Plays by Track Type',\n",
    "          fontweight = 'bold',\n",
    "          fontsize = 14)\n",
    "plt.xlabel('Track Type',\n",
    "          fontweight = 'bold',\n",
    "          fontsize = 12)\n",
    "plt.ylabel('Average Plays',\n",
    "          fontweight = 'bold',\n",
    "          fontsize = 12)\n",
    "#ahs.set_ylim(bottom=0,top=110)\n",
    "#ahs.set_xticklabels(['No AH','Built before 2010','Built since 2010 (in or after 2010)'])\n",
    "#plt.text(x = 0, y=100, s='97', fontsize = 14,ha='center') #No AH\n",
    "#plt.text(x = 1, y=52, s='49', fontsize = 14,ha='center') #Built before 2010\n",
    "#plt.text(x = 2, y=15, s='13', fontsize = 14,ha='center') #Built after 2010\n",
    ";"
   ]
  },
  {
   "cell_type": "markdown",
   "id": "321beabb",
   "metadata": {},
   "source": [
    "Do interest in specific topics vary by country?"
   ]
  },
  {
   "cell_type": "markdown",
   "id": "39f3b26e",
   "metadata": {},
   "source": [
    "### Duration"
   ]
  },
  {
   "cell_type": "markdown",
   "id": "c6676cb3",
   "metadata": {},
   "source": [
    "What duration do people like?"
   ]
  },
  {
   "cell_type": "code",
   "execution_count": null,
   "id": "ad532b3b",
   "metadata": {},
   "outputs": [],
   "source": [
    "#for index, row in meditations_df.iterrows():\n",
    "#    meditations_df.loc[index,'duration_min'] = row.duration.seconds / 60\n",
    "#    meditations_df.loc[index,'upload_year'] = row.upload_date.year\n",
    "    \n",
    "meditations_df.head()"
   ]
  },
  {
   "cell_type": "code",
   "execution_count": null,
   "id": "46c8ce07",
   "metadata": {},
   "outputs": [],
   "source": []
  },
  {
   "cell_type": "code",
   "execution_count": null,
   "id": "32a04cb3",
   "metadata": {
    "scrolled": false
   },
   "outputs": [],
   "source": [
    "hue_order = ['No AH',\n",
    "             'Built before 2010',\n",
    "             'Built since 2010']\n",
    "palettedict = {'No AH':'#0F0064',\n",
    "               'Built before 2010':'#F3C400',\n",
    "               'Built since 2010':'#E7800C'}\n",
    "fig, ax = plt.subplots(figsize=(7,7))\n",
    "sp = sns.scatterplot(data=meditations_df,\n",
    "                       x='duration_min',\n",
    "                       y='plays',\n",
    "                       #hue='has_project_2010',\n",
    "                       #hue_order=hue_order,\n",
    "                       #palette=palettedict\n",
    "                      )\n",
    "plt.legend(loc=\"upper right\")\n",
    "\n",
    "plt.title('',\n",
    "          fontweight = 'bold',\n",
    "          fontsize = 14)\n",
    "plt.xlabel('Duration (minutes)',\n",
    "           fontweight = 'bold',\n",
    "           fontsize = 12)\n",
    "plt.ylabel('Total Plays',\n",
    "           fontweight = 'bold',\n",
    "           fontsize = 12)\n",
    "#sp.set_xlim(0,9000)\n",
    "#sp10.set_xticklabels(['$0','$25k','$50k','$75k','$100k',\n",
    "#                      '$125k','$150k','$175k','$200k'])\n",
    "#sp.set_ylim(0,60000000)\n",
    "#sp.set_yticks([0,20000000,40000000,60000000,80000000,100000000,120000000,140000000,160000000])\n",
    "#sp.set_yticklabels(['0','20M','40M','60M','80M','100M','120M','140M','160M'])\n",
    "\n",
    "sp.axhline(400000, linewidth=1, linestyle=':', color='black')\n",
    "sp.axvline(75, linewidth=1, linestyle=':', color='black')\n",
    "\n",
    "#plt.text(x = 197000, y=180, s='upper quartile', fontsize = 10,ha='right') #LIP\n",
    ";"
   ]
  },
  {
   "cell_type": "code",
   "execution_count": null,
   "id": "3fea2fbe",
   "metadata": {},
   "outputs": [],
   "source": [
    "print(meditations_df.shape[0])\n",
    "meditations_trunc = meditations_df.loc[meditations_df.plays < 400000]\n",
    "meditations_trunc = meditations_trunc.loc[meditations_trunc.duration_min < 75]\n",
    "meditations_trunc.shape[0]"
   ]
  },
  {
   "cell_type": "code",
   "execution_count": null,
   "id": "a442c4a1",
   "metadata": {},
   "outputs": [],
   "source": [
    "hue_order = ['No AH',\n",
    "             'Built before 2010',\n",
    "             'Built since 2010']\n",
    "palettedict = {'No AH':'#0F0064',\n",
    "               'Built before 2010':'#F3C400',\n",
    "               'Built since 2010':'#E7800C'}\n",
    "fig, ax = plt.subplots(figsize=(7,7))\n",
    "sp = sns.scatterplot(data=meditations_trunc,\n",
    "                       x='duration_min',\n",
    "                       y='plays',\n",
    "                       #hue='has_project_2010',\n",
    "                       #hue_order=hue_order,\n",
    "                       #palette=palettedict\n",
    "                      )\n",
    "plt.legend(loc=\"upper right\")\n",
    "\n",
    "plt.title('',\n",
    "          fontweight = 'bold',\n",
    "          fontsize = 14)\n",
    "plt.xlabel('Duration (minutes)',\n",
    "           fontweight = 'bold',\n",
    "           fontsize = 12)\n",
    "plt.ylabel('Total Plays',\n",
    "           fontweight = 'bold',\n",
    "           fontsize = 12)\n",
    "#sp.set_xlim(0,9000)\n",
    "#sp10.set_xticklabels(['$0','$25k','$50k','$75k','$100k',\n",
    "#                      '$125k','$150k','$175k','$200k'])\n",
    "#sp.set_ylim(0,60000000)\n",
    "#sp.set_yticks([0,20000000,40000000,60000000,80000000,100000000,120000000,140000000,160000000])\n",
    "#sp.set_yticklabels(['0','20M','40M','60M','80M','100M','120M','140M','160M'])\n",
    "\n",
    "#sp10.axhline(169.189189, linewidth=1, linestyle=':', color='black', label='1qtr')\n",
    "\n",
    "#plt.text(x = 197000, y=180, s='upper quartile', fontsize = 10,ha='right') #LIP\n",
    ";"
   ]
  },
  {
   "cell_type": "markdown",
   "id": "f504d8e2",
   "metadata": {},
   "source": [
    "## Performance"
   ]
  },
  {
   "cell_type": "markdown",
   "id": "29473e02",
   "metadata": {},
   "source": [
    "Are there tiers of meditation teachers? Can they be meaningfully grouped in other ways?"
   ]
  },
  {
   "cell_type": "code",
   "execution_count": null,
   "id": "4da6d06e",
   "metadata": {},
   "outputs": [],
   "source": [
    "#Correlation among the following: teacher followers, # of meditations, total plays, rating"
   ]
  },
  {
   "cell_type": "markdown",
   "id": "be605efc",
   "metadata": {},
   "source": [
    "How important are ratings, actually?"
   ]
  },
  {
   "cell_type": "markdown",
   "id": "2066e8b0",
   "metadata": {},
   "source": [
    "Are there topics with really high plays and ratings but fewer available meditations?"
   ]
  },
  {
   "cell_type": "code",
   "execution_count": null,
   "id": "a4df70f8",
   "metadata": {},
   "outputs": [],
   "source": [
    "#for each topic, count of meditations? Median number of plays?\n",
    "topics_demand_supply = meditations_df.merge(meditations_topics_df, how='inner',on=['meditation_id'])\n",
    "topics_demand_supply = topics_demand_supply[['meditation_id','topic','plays',]]\n",
    "topics_demand_supply = topics_demand_supply.groupby(by=['topic']).agg({'meditation_id':['count'],'plays':['median','mean','sum']})\n",
    "topics_demand_supply = topics_demand_supply.reset_index()"
   ]
  },
  {
   "cell_type": "code",
   "execution_count": null,
   "id": "f3bf6fb8",
   "metadata": {},
   "outputs": [],
   "source": [
    "topics_demand_supply.columns = ['_'.join(col) for col in topics_demand_supply.columns.values]\n",
    "topics_demand_supply.head()"
   ]
  },
  {
   "cell_type": "code",
   "execution_count": null,
   "id": "21b0d901",
   "metadata": {},
   "outputs": [],
   "source": [
    "hue_order = ['No AH',\n",
    "             'Built before 2010',\n",
    "             'Built since 2010']\n",
    "palettedict = {'No AH':'#0F0064',\n",
    "               'Built before 2010':'#F3C400',\n",
    "               'Built since 2010':'#E7800C'}\n",
    "fig, ax = plt.subplots(figsize=(7,7))\n",
    "sp = sns.scatterplot(data=topics_demand_supply,\n",
    "                       x='meditation_id_count',\n",
    "                       y='plays_sum',\n",
    "                       #hue='has_project_2010',\n",
    "                       #hue_order=hue_order,\n",
    "                       #palette=palettedict\n",
    "                      )\n",
    "plt.legend(loc=\"upper right\")\n",
    "\n",
    "plt.title('',\n",
    "          fontweight = 'bold',\n",
    "          fontsize = 14)\n",
    "plt.xlabel('Number of Meditations',\n",
    "           fontweight = 'bold',\n",
    "           fontsize = 12)\n",
    "plt.ylabel('Total Plays',\n",
    "           fontweight = 'bold',\n",
    "           fontsize = 12)\n",
    "#sp.set_xlim(0,9000)\n",
    "#sp10.set_xticklabels(['$0','$25k','$50k','$75k','$100k',\n",
    "#                      '$125k','$150k','$175k','$200k'])\n",
    "#sp.set_ylim(0,60000000)\n",
    "sp.set_yticks([0,20000000,40000000,60000000,80000000,100000000,120000000,140000000,160000000])\n",
    "sp.set_yticklabels(['0','20M','40M','60M','80M','100M','120M','140M','160M'])\n",
    "\n",
    "#sp10.axhline(169.189189, linewidth=1, linestyle=':', color='black', label='1qtr')\n",
    "\n",
    "#plt.text(x = 197000, y=180, s='upper quartile', fontsize = 10,ha='right') #LIP\n",
    ";"
   ]
  },
  {
   "cell_type": "code",
   "execution_count": null,
   "id": "06a7a659",
   "metadata": {},
   "outputs": [],
   "source": [
    "hue_order = ['No AH',\n",
    "             'Built before 2010',\n",
    "             'Built since 2010']\n",
    "palettedict = {'No AH':'#0F0064',\n",
    "               'Built before 2010':'#F3C400',\n",
    "               'Built since 2010':'#E7800C'}\n",
    "fig, ax = plt.subplots(figsize=(7,7))\n",
    "sp = sns.scatterplot(data=topics_demand_supply,\n",
    "                       x='meditation_id_count',\n",
    "                       y='plays_median',\n",
    "                       #hue='has_project_2010',\n",
    "                       #hue_order=hue_order,\n",
    "                       #palette=palettedict\n",
    "                      )\n",
    "plt.legend(loc=\"upper right\")\n",
    "\n",
    "plt.title('',\n",
    "          fontweight = 'bold',\n",
    "          fontsize = 14)\n",
    "plt.xlabel('Number of Meditations',\n",
    "           fontweight = 'bold',\n",
    "           fontsize = 12)\n",
    "plt.ylabel('Median Plays per Meditation',\n",
    "           fontweight = 'bold',\n",
    "           fontsize = 12)\n",
    "#sp.set_xlim(0,9000)\n",
    "#sp10.set_xticklabels(['$0','$25k','$50k','$75k','$100k',\n",
    "#                      '$125k','$150k','$175k','$200k'])\n",
    "#sp.set_ylim(0,17500)\n",
    "#sp10.set_yticks([-100,0,100,200,300,400,500,600,700,800,900,1000])\n",
    "#sp10.set_yticklabels(['-100%','0%','100%','200%','300%','400%','500%','600%','700%','800%','900%','1000%'])\n",
    "\n",
    "#sp10.axhline(169.189189, linewidth=1, linestyle=':', color='black', label='1qtr')\n",
    "\n",
    "#plt.text(x = 197000, y=180, s='upper quartile', fontsize = 10,ha='right') #LIP\n",
    ";"
   ]
  },
  {
   "cell_type": "code",
   "execution_count": null,
   "id": "9ebd0aa8",
   "metadata": {},
   "outputs": [],
   "source": []
  },
  {
   "cell_type": "markdown",
   "id": "80d8f1a8",
   "metadata": {},
   "source": [
    "Are some languages popular, based on the popularity of teachers?"
   ]
  },
  {
   "cell_type": "markdown",
   "id": "9093ad29",
   "metadata": {},
   "source": [
    "***Suitable for***\n",
    "- Vast majority of meditations are for \"Everybody\"\n",
    "- So a different selection might help people find the meditation?\n",
    "- How to the other selections compare in terms of performance? (plays, rating)"
   ]
  },
  {
   "cell_type": "code",
   "execution_count": null,
   "id": "9b1073d2",
   "metadata": {},
   "outputs": [],
   "source": [
    "topics_demand_supply = topics_demand_supply.sort_values(by=['plays_sum'],ascending=False)\n",
    "topics_demand_supply = topics_demand_supply.reset_index(drop=True)"
   ]
  },
  {
   "cell_type": "code",
   "execution_count": null,
   "id": "06222bbe",
   "metadata": {},
   "outputs": [],
   "source": [
    "toptp_topics_demand_supply = topics_demand_supply.head(10)\n",
    "toptp_topics_demand_supply"
   ]
  },
  {
   "cell_type": "code",
   "execution_count": null,
   "id": "f9acc182",
   "metadata": {},
   "outputs": [],
   "source": [
    "#hue_order = ['No AH',\n",
    "#             'Built before 2010',\n",
    "#             'Built since 2010',]\n",
    "#palette = ['#0F0064','#F3C400','#E7800C']\n",
    "\n",
    "fig, ax = plt.subplots(figsize=(7,6))\n",
    "ahs = sns.barplot(data=toptp_topics_demand_supply,\n",
    "                 x='plays_sum',\n",
    "                 y='topic_',\n",
    "                 # palette=palette\n",
    "                 )\n",
    "plt.title('Top 10 Topics by Total Plays',\n",
    "          fontweight = 'bold',\n",
    "          fontsize = 14)\n",
    "plt.xlabel('Total Plays',\n",
    "          fontweight = 'bold',\n",
    "          fontsize = 12)\n",
    "plt.ylabel('Topic',\n",
    "          fontweight = 'bold',\n",
    "          fontsize = 12)\n",
    "#ahs.set_ylim(bottom=0,top=110)\n",
    "#ahs.set_xticklabels(['No AH','Built before 2010','Built since 2010 (in or after 2010)'])\n",
    "#plt.text(x = 0, y=100, s='97', fontsize = 14,ha='center') #No AH\n",
    "#plt.text(x = 1, y=52, s='49', fontsize = 14,ha='center') #Built before 2010\n",
    "#plt.text(x = 2, y=15, s='13', fontsize = 14,ha='center') #Built after 2010\n",
    ";"
   ]
  },
  {
   "cell_type": "code",
   "execution_count": null,
   "id": "9423b16e",
   "metadata": {},
   "outputs": [],
   "source": [
    "topics_demand_supply\n",
    "topics_demand_supply = topics_demand_supply.sort_values(by=['plays_median'],ascending=False)\n",
    "topics_demand_supply = topics_demand_supply.reset_index(drop=True)"
   ]
  },
  {
   "cell_type": "code",
   "execution_count": null,
   "id": "58ecf6d1",
   "metadata": {
    "scrolled": true
   },
   "outputs": [],
   "source": [
    "top_topics_demand_supply = topics_demand_supply.head(10)\n",
    "top_topics_demand_supply"
   ]
  },
  {
   "cell_type": "code",
   "execution_count": null,
   "id": "54d69944",
   "metadata": {
    "scrolled": false
   },
   "outputs": [],
   "source": [
    "#hue_order = ['No AH',\n",
    "#             'Built before 2010',\n",
    "#             'Built since 2010',]\n",
    "#palette = ['#0F0064','#F3C400','#E7800C']\n",
    "\n",
    "fig, ax = plt.subplots(figsize=(7,6))\n",
    "ahs = sns.barplot(data=top_topics_demand_supply,\n",
    "                 x='plays_median',\n",
    "                 y='topic_',\n",
    "                 # palette=palette\n",
    "                 )\n",
    "plt.title('Top 10 Topics by Median Plays',\n",
    "          fontweight = 'bold',\n",
    "          fontsize = 14)\n",
    "plt.xlabel('Median Plays per Meditation',\n",
    "          fontweight = 'bold',\n",
    "          fontsize = 12)\n",
    "plt.ylabel('Topic',\n",
    "          fontweight = 'bold',\n",
    "          fontsize = 12)\n",
    "#ahs.set_ylim(bottom=0,top=110)\n",
    "#ahs.set_xticklabels(['No AH','Built before 2010','Built since 2010 (in or after 2010)'])\n",
    "#plt.text(x = 0, y=100, s='97', fontsize = 14,ha='center') #No AH\n",
    "#plt.text(x = 1, y=52, s='49', fontsize = 14,ha='center') #Built before 2010\n",
    "#plt.text(x = 2, y=15, s='13', fontsize = 14,ha='center') #Built after 2010\n",
    ";"
   ]
  },
  {
   "cell_type": "code",
   "execution_count": null,
   "id": "4a0e4418",
   "metadata": {},
   "outputs": [],
   "source": [
    "teachers_perf = teachers_df.merge(meditations_df, how='inner', on=['teacher_id'])\n",
    "teachers_perf.info()"
   ]
  },
  {
   "cell_type": "code",
   "execution_count": null,
   "id": "c63b150b",
   "metadata": {
    "scrolled": true
   },
   "outputs": [],
   "source": [
    "teachers_perf=teachers_perf[['teacher_id',\n",
    "                             'teacher_name',\n",
    "                             'image_url_x',\n",
    "                             'years_since_joined',\n",
    "                             'followers',\n",
    "                             'meditation_id',\n",
    "                             'plays',\n",
    "                             'duration_min',\n",
    "                             'rating',\n",
    "                             'reviews']]\n",
    "teachers_perf=teachers_perf.groupby(by=['teacher_id',\n",
    "                                        'teacher_name',\n",
    "                                        'years_since_joined',\n",
    "                                        'followers',\n",
    "                                        'image_url_x']).agg({'meditation_id':['count'],\n",
    "                                                             'plays':['sum','mean'],\n",
    "                                                             'duration_min':['mean'],\n",
    "                                                             'rating':['mean'],\n",
    "                                                             'reviews':['sum','mean']})\n",
    "teachers_perf=teachers_perf.reset_index()\n",
    "teachers_perf.columns = ['_'.join(col) for col in teachers_perf.columns.values]\n",
    "teachers_perf=teachers_perf[['plays_sum',\n",
    "                             'plays_mean',\n",
    "                             'years_since_joined_',\n",
    "                             'followers_',\n",
    "                             'meditation_id_count',\n",
    "                             'duration_min_mean',\n",
    "                             'rating_mean',\n",
    "                             'reviews_sum',\n",
    "                             'reviews_mean']]"
   ]
  },
  {
   "cell_type": "code",
   "execution_count": null,
   "id": "c34ce42f",
   "metadata": {
    "scrolled": true
   },
   "outputs": [],
   "source": [
    "teachers_perf.corr()"
   ]
  },
  {
   "cell_type": "code",
   "execution_count": null,
   "id": "a4ace480",
   "metadata": {},
   "outputs": [],
   "source": [
    "sns.heatmap(teachers_perf.corr(),annot=True);"
   ]
  },
  {
   "cell_type": "code",
   "execution_count": null,
   "id": "aa4d383d",
   "metadata": {},
   "outputs": [],
   "source": [
    "teachers_perf = teachers_perf.sort_values(by=['plays_sum'],ascending=False)\n",
    "teachers_perf.head(10)\n"
   ]
  },
  {
   "cell_type": "code",
   "execution_count": null,
   "id": "0ecad2ac",
   "metadata": {},
   "outputs": [],
   "source": [
    "hue_order = ['No AH',\n",
    "             'Built before 2010',\n",
    "             'Built since 2010']\n",
    "palettedict = {'No AH':'#0F0064',\n",
    "               'Built before 2010':'#F3C400',\n",
    "               'Built since 2010':'#E7800C'}\n",
    "fig, ax = plt.subplots(figsize=(7,7))\n",
    "sp = sns.scatterplot(data=teachers_perf,\n",
    "                       x='meditation_id_count',\n",
    "                       y='plays_sum',\n",
    "                       #hue='has_project_2010',\n",
    "                       #hue_order=hue_order,\n",
    "                       #palette=palettedict\n",
    "                      )\n",
    "plt.legend(loc=\"upper right\")\n",
    "\n",
    "plt.title('',\n",
    "          fontweight = 'bold',\n",
    "          fontsize = 14)\n",
    "plt.xlabel('followers',\n",
    "           fontweight = 'bold',\n",
    "           fontsize = 12)\n",
    "plt.ylabel('Total Plays for All Meditations',\n",
    "           fontweight = 'bold',\n",
    "           fontsize = 12)\n",
    "#sp.set_xlim(0,9000)\n",
    "#sp10.set_xticklabels(['$0','$25k','$50k','$75k','$100k',\n",
    "#                      '$125k','$150k','$175k','$200k'])\n",
    "#sp.set_ylim(0,17500)\n",
    "#sp10.set_yticks([-100,0,100,200,300,400,500,600,700,800,900,1000])\n",
    "#sp10.set_yticklabels(['-100%','0%','100%','200%','300%','400%','500%','600%','700%','800%','900%','1000%'])\n",
    "\n",
    "#sp10.axhline(169.189189, linewidth=1, linestyle=':', color='black', label='1qtr')\n",
    "\n",
    "#plt.text(x = 197000, y=180, s='upper quartile', fontsize = 10,ha='right') #LIP\n",
    ";"
   ]
  }
 ],
 "metadata": {
  "kernelspec": {
   "display_name": "Python 3 (ipykernel)",
   "language": "python",
   "name": "python3"
  },
  "language_info": {
   "codemirror_mode": {
    "name": "ipython",
    "version": 3
   },
   "file_extension": ".py",
   "mimetype": "text/x-python",
   "name": "python",
   "nbconvert_exporter": "python",
   "pygments_lexer": "ipython3",
   "version": "3.9.13"
  }
 },
 "nbformat": 4,
 "nbformat_minor": 5
}
