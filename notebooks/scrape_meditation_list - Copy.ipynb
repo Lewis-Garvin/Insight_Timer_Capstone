{
 "cells": [
  {
   "cell_type": "markdown",
   "id": "ce405b93",
   "metadata": {},
   "source": [
    "# Meditation List Scrape -- COPY"
   ]
  },
  {
   "cell_type": "code",
   "execution_count": null,
   "id": "ca6b60a1",
   "metadata": {},
   "outputs": [],
   "source": [
    "from selenium.webdriver.chrome.service import Service\n",
    "from selenium import webdriver\n",
    "from selenium.webdriver.common.by import By\n",
    "from bs4 import BeautifulSoup as BS\n",
    "import pandas as pd\n",
    "import string\n",
    "from datetime import date\n",
    "from datetime import datetime"
   ]
  },
  {
   "cell_type": "code",
   "execution_count": null,
   "id": "78abe6dd",
   "metadata": {},
   "outputs": [],
   "source": [
    "# Insight Timer webpages use javascript, so need selenium and chrome driver.\n",
    "chrome_driver_path = '../../../../Tech/chrome_driver/chromedriver.exe'"
   ]
  },
  {
   "cell_type": "markdown",
   "id": "419ae68f",
   "metadata": {},
   "source": [
    "### Function: Assign Batches"
   ]
  },
  {
   "cell_type": "markdown",
   "id": "ce3679e0",
   "metadata": {},
   "source": [
    "Assumptions/Requirements for function:\n",
    "- The Teachers List Scraping notebook has been run successfully, creating the teachers_list_df.csv file.\n",
    "- Teachers_list_df.csv has numeric sequential index values starting with 0.\n",
    "- The batch_size argument passed to the function is an integer value between 0 and the number of rows in teachers_list_df."
   ]
  },
  {
   "cell_type": "markdown",
   "id": "418d675d",
   "metadata": {},
   "source": [
    "***Note: Once you choose a batch size, you want to avoid reassigning batches with a different batch size. If you do reassign with a different batch size, you can redo it with the original batch size and it will be the same as it was before.***"
   ]
  },
  {
   "cell_type": "code",
   "execution_count": null,
   "id": "2e29e6ce",
   "metadata": {},
   "outputs": [],
   "source": [
    "def assign_med_list_batches(batch_size):\n",
    "    med_teachers_list_df = pd.read_csv('../data/teachers_list_df.csv', index_col=0)\n",
    "    \n",
    "    num_rows = med_teachers_list_df.shape[0]    \n",
    "    \n",
    "    #Verify that the index values are as expected (0, 1, 2, etc.)\n",
    "    index_list = med_teachers_list_df.index.to_list()\n",
    "    for x in list(range(0,num_rows)):\n",
    "        assert index_list[x] == x\n",
    "\n",
    "    print(num_rows,'total rows')\n",
    "    print(batch_size,'rows per batch')\n",
    "    num_batches = ((num_rows - (num_rows % batch_size)) / batch_size) + min(1,num_rows % batch_size)\n",
    "    print(int(num_batches),'batches')\n",
    "    \n",
    "    for index, row in med_teachers_list_df.iterrows():\n",
    "        med_teachers_list_df.loc[index, 'med_list_batch_id'] = ((index - (index % batch_size)) / batch_size) + 1\n",
    "\n",
    "    med_teachers_list_df.med_list_batch_id = med_teachers_list_df.med_list_batch_id.astype('int')\n",
    "    \n",
    "    med_teachers_list_df = med_teachers_list_df.drop(['alpha_index'], axis=1)\n",
    "    \n",
    "    #Save batch results to data file\n",
    "    med_teachers_list_df.to_csv('../data/med_list_batches.csv')"
   ]
  },
  {
   "cell_type": "code",
   "execution_count": null,
   "id": "0118083a",
   "metadata": {},
   "outputs": [],
   "source": [
    "batch_size = 100\n",
    "#assign_med_list_batches(batch_size)"
   ]
  },
  {
   "cell_type": "code",
   "execution_count": null,
   "id": "e40d8a43",
   "metadata": {},
   "outputs": [],
   "source": [
    "def scrape_med_list_one_batch(scrape_batch_id):\n",
    "    med_list_batch_df = med_list_batches.copy().loc[med_list_batches.med_list_batch_id == scrape_batch_id]\n",
    "    print(med_list_batch_df.shape[0],'rows in batch')\n",
    "    \n",
    "    #Create dataframe with a row for each meditation that this function will fill and then save.\n",
    "    med_detail_batch_df = pd.DataFrame(columns=['teacher_id',\n",
    "                                                'meditation_id',\n",
    "                                                'med_list_batch_id',\n",
    "                                                'med_list_scrape_date',\n",
    "                                                'med_list_scrape_status'])\n",
    "\n",
    "    #Batch Start\n",
    "    batch_start_time = datetime.now()\n",
    "    batch_row = 0\n",
    "\n",
    "    for index, row in med_list_batch_df.iterrows():\n",
    "        batch_row += 1\n",
    "        print('Batch row',batch_row,'of',med_list_batch_df.shape[0],': teacher_id =', row.teacher_id)\n",
    "\n",
    "        teacher_meditations_url = 'https://insighttimer.com/' + row.teacher_id + '/guided-meditations'\n",
    "\n",
    "        driver = webdriver.Chrome(executable_path=chrome_driver_path)\n",
    "        driver.get(teacher_meditations_url)\n",
    "\n",
    "        #Wait for page to fully load\n",
    "        driver.implicitly_wait(3)  #Two seconds is usually but not always long enough.\n",
    "        \n",
    "        #Make soup\n",
    "        soup = BS(driver.page_source)\n",
    "\n",
    "        h1_page_not_found_tag = soup.find('h1', attrs = {'class':'text-lg font-ProxiBold mb-6 leading-tight'})\n",
    "        if h1_page_not_found_tag is None:\n",
    "            page_found = True\n",
    "        elif h1_page_not_found_tag.text == \"The page you were looking for doesn't exist.\":\n",
    "            page_found = False\n",
    "        else:\n",
    "            page_found = True\n",
    "        \n",
    "        if page_found == False:\n",
    "            new_row = {'teacher_id': [row.teacher_id], \n",
    "                       'med_list_batch_id': [scrape_batch_id], \n",
    "                       'med_list_scrape_date': [datetime.now()],\n",
    "                       'med_list_scrape_status': ['page not found']} \n",
    "            med_detail_batch_df = pd.concat([med_detail_batch_df, pd.DataFrame(new_row)], ignore_index = True)\n",
    "            \n",
    "            print('PAGE NOT FOUND for teacher_id =',row.teacher_id)\n",
    "            driver.close() #Close driver (closes browser window)\n",
    "\n",
    "        else:\n",
    "            #Get meditations. If not found, wait longer, remake soup, and look again.\n",
    "            div_med_tag = soup.find('div', attrs = {'class':'css-1anl95l'})\n",
    "            \n",
    "            if div_med_tag is None:\n",
    "                a_med_tags = []\n",
    "            else:\n",
    "                a_med_tags = div_med_tag.find_all('a', attrs = {'class':'chakra-link css-16pe414'})\n",
    "\n",
    "            if len(a_med_tags) == 0:\n",
    "                driver.implicitly_wait(5)\n",
    "                soup = BS(driver.page_source)\n",
    "                div_med_tag = soup.find('div', attrs = {'class':'css-1anl95l'})\n",
    "                if div_med_tag is None:\n",
    "                    a_med_tags = []\n",
    "                else:\n",
    "                    a_med_tags = div_med_tag.find_all('a', attrs = {'class':'chakra-link css-16pe414'})\n",
    "            \n",
    "            if len(a_med_tags) == 0:\n",
    "                new_row = {'teacher_id': [row.teacher_id], \n",
    "                           'med_list_batch_id': [scrape_batch_id], \n",
    "                           'med_list_scrape_date': [datetime.now()],\n",
    "                           'med_list_scrape_status': ['meditations not found']} \n",
    "                med_detail_batch_df = pd.concat([med_detail_batch_df, pd.DataFrame(new_row)], ignore_index = True)\n",
    "            \n",
    "                print('Meditations not found for teacher_id =',\n",
    "                      row.teacher_id, \n",
    "                      'in batch_id = ',\n",
    "                      scrape_batch_id)\n",
    "                \n",
    "                driver.close() #Close driver (closes browser window)\n",
    "            else:\n",
    "                #If load more button is present, press button repeatedly unless it is no longer there. \n",
    "                #Then get information on all of the meditations at once.\n",
    "                while len(driver.find_elements(By.CSS_SELECTOR, 'button.css-1qsjogi')) > 0:\n",
    "                    load_more_button = driver.find_element(By.CSS_SELECTOR, 'button.css-1qsjogi')\n",
    "                    driver.execute_script(\"arguments[0].click();\", load_more_button)\n",
    "\n",
    "                    driver.implicitly_wait(2)\n",
    "                    soup = BS(driver.page_source)\n",
    "                    \n",
    "                    div_med_tag = soup.find('div', attrs = {'class':'css-1anl95l'})\n",
    "                    print('- meditations count (load more) =',len(div_med_tag.find_all('a', attrs = {'class':'chakra-link css-16pe414'})))\n",
    "                \n",
    "                soup = BS(driver.page_source)\n",
    "                div_med_tag = soup.find('div', attrs = {'class':'css-1anl95l'})\n",
    "                a_med_tags = div_med_tag.find_all('a', attrs = {'class':'chakra-link css-16pe414'})\n",
    "                print('- meditations count (final) =',len(a_med_tags))\n",
    "                \n",
    "                for a_med_tag in a_med_tags:\n",
    "                    meditation_href = a_med_tag.get('href', default = '/no href')\n",
    "                    #two different formats\n",
    "                    #Example 1: '/guided-meditations/z7h5n1q9m9r6h6u9e6r1q8r3u0t9x2a5y1a6r7h5'\n",
    "                    #Example 2: '/andreawachter/guided-meditations/decrease-anxiety-and-increase-peace'\n",
    "                    new_row = {'teacher_id': [row.teacher_id], \n",
    "                               'meditation_id': [meditation_href],\n",
    "                               'med_list_batch_id': [scrape_batch_id], \n",
    "                               'med_list_scrape_date': [datetime.now()],\n",
    "                               'med_list_scrape_status': ['meditation found']} \n",
    "                    med_detail_batch_df = pd.concat([med_detail_batch_df,pd.DataFrame(new_row)], ignore_index = True)\n",
    "   \n",
    "                driver.close() #Close driver (closes browser window)\n",
    "\n",
    "    #Save batch results to data file\n",
    "    batch_id_string = str(scrape_batch_id).zfill(5)  \n",
    "    #zfill adds leading zeros which allows filenames to be sorted correctly alphabetically.\n",
    "    batch_filename = '../data/med_list_batch_files/med_list_batch_' + str(batch_id_string) + '.csv'\n",
    "    med_detail_batch_df.to_csv(batch_filename)\n",
    "\n",
    "    #Batch End\n",
    "    batch_end_time = datetime.now()\n",
    "\n",
    "    #Print Runtime \n",
    "    batch_runtime = batch_end_time - batch_start_time\n",
    "    hours, remainder = divmod(batch_runtime.seconds, 3600)\n",
    "    minutes, seconds = divmod(remainder, 60)\n",
    "\n",
    "    print('Batch_id',scrape_batch_id,'completed')\n",
    "    print('Batch runtime:')\n",
    "\n",
    "    if hours > 0:\n",
    "        print(hours,'hours')\n",
    "    if minutes > 0:\n",
    "        print(minutes,'minutes')\n",
    "    print(seconds,'seconds')"
   ]
  },
  {
   "cell_type": "markdown",
   "id": "b19f5dec",
   "metadata": {},
   "source": [
    "### Scrape Multiple Teacher Batches"
   ]
  },
  {
   "cell_type": "code",
   "execution_count": null,
   "id": "3006ea56",
   "metadata": {},
   "outputs": [],
   "source": [
    "def scrape_med_list_multiple_batches(batch_id_range_or_list):\n",
    "    if type(batch_id_range_or_list) == type(range(0,2)):\n",
    "        med_list_batch_id_list = list(batch_id_range_or_list)\n",
    "    elif type(batch_id_range_or_list) == type([0, 1]):\n",
    "        med_list_batch_id_list = batch_id_range_or_list\n",
    "    else:\n",
    "        print('ERROR Wrong datatype')\n",
    "    \n",
    "    global med_list_batches\n",
    "    med_list_batches = pd.read_csv('../data/med_list_batches.csv', index_col=0)\n",
    "    \n",
    "    #Verify that the index values are as expected (0, 1, 2, etc.)\n",
    "    index_list = med_list_batches.index.to_list()\n",
    "    for x in list(range(0,med_list_batches.shape[0])):\n",
    "        assert index_list[x] == x\n",
    "    \n",
    "    #Start Batches\n",
    "    batches_start_time = datetime.now()\n",
    "    batch_num = 0\n",
    "    \n",
    "    for batch_id in med_list_batch_id_list:\n",
    "        batch_num += 1\n",
    "        print('-----------------------------------------')\n",
    "        print('Starting batch', \n",
    "              batch_num,\n",
    "              'out of',\n",
    "              len(med_list_batch_id_list),\n",
    "              ', batch_id =',\n",
    "              batch_id)\n",
    "        scrape_med_list_one_batch(batch_id)\n",
    "        print('Completed batch_id = ',batch_id)\n",
    "        print('')\n",
    "        \n",
    "    #End Batches\n",
    "    batches_end_time = datetime.now()\n",
    "\n",
    "    #Print Runtime \n",
    "    batches_runtime = batches_end_time - batches_start_time\n",
    "    hours, remainder = divmod(batches_runtime.seconds, 3600)\n",
    "    minutes, seconds = divmod(remainder, 60)\n",
    "\n",
    "    print('-----------------------------------------')\n",
    "    print(batch_num,'batches completed with runtime:')\n",
    "    if hours > 0:\n",
    "        print(hours,'hours')\n",
    "    if minutes > 0:\n",
    "        print(minutes,'minutes')\n",
    "    print(seconds,'seconds')\n",
    "    print('-----------------------------------------')"
   ]
  },
  {
   "cell_type": "markdown",
   "id": "a36cfc1c",
   "metadata": {},
   "source": [
    "### Real Use"
   ]
  },
  {
   "cell_type": "code",
   "execution_count": null,
   "id": "6d90f661",
   "metadata": {
    "scrolled": false
   },
   "outputs": [],
   "source": [
    "batch_id_range = range(117, 140)\n",
    "scrape_med_list_multiple_batches(batch_id_range)"
   ]
  },
  {
   "cell_type": "markdown",
   "id": "14324cbf",
   "metadata": {},
   "source": [
    "### Example use of scrape_teachers_one_batch function"
   ]
  },
  {
   "cell_type": "code",
   "execution_count": null,
   "id": "d018edb6",
   "metadata": {},
   "outputs": [],
   "source": [
    "#med_list_batches = pd.read_csv('../data/med_list_batches.csv', index_col=0)\n",
    "\n",
    "#Verify that the index values are as expected (0, 1, 2, etc.)\n",
    "#index_list = med_list_batches.index.to_list()\n",
    "#for x in list(range(0,med_list_batches.shape[0])):\n",
    "#    assert index_list[x] == x"
   ]
  },
  {
   "cell_type": "code",
   "execution_count": null,
   "id": "defb5c59",
   "metadata": {},
   "outputs": [],
   "source": [
    "#scrape_batch_id = 5\n",
    "#scrape_med_list_one_batch(scrape_batch_id)"
   ]
  },
  {
   "cell_type": "code",
   "execution_count": null,
   "id": "3a7119f5",
   "metadata": {},
   "outputs": [],
   "source": [
    "#fresh_batch = pd.read_csv('../data/med_list_batch_files/med_list_batch_00001.csv', index_col=0)\n",
    "#fresh_batch.head()"
   ]
  },
  {
   "cell_type": "code",
   "execution_count": null,
   "id": "24562339",
   "metadata": {},
   "outputs": [],
   "source": []
  }
 ],
 "metadata": {
  "kernelspec": {
   "display_name": "Python 3 (ipykernel)",
   "language": "python",
   "name": "python3"
  },
  "language_info": {
   "codemirror_mode": {
    "name": "ipython",
    "version": 3
   },
   "file_extension": ".py",
   "mimetype": "text/x-python",
   "name": "python",
   "nbconvert_exporter": "python",
   "pygments_lexer": "ipython3",
   "version": "3.9.13"
  }
 },
 "nbformat": 4,
 "nbformat_minor": 5
}
