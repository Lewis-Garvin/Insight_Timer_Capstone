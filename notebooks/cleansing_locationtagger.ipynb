{
 "cells": [
  {
   "cell_type": "markdown",
   "id": "83b3ec8f",
   "metadata": {},
   "source": [
    "# Cleansing Location with locationtagger\n",
    "https://pypi.org/project/locationtagger/ <br>\n",
    "https://www.geeksforgeeks.org/extracting-locations-from-text-using-python/ <br>\n",
    "https://github.com/kaushiksoni10/locationtagger"
   ]
  },
  {
   "cell_type": "code",
   "execution_count": null,
   "id": "b1aa1ffb",
   "metadata": {},
   "outputs": [],
   "source": [
    "import locationtagger\n",
    "import pandas as pd\n",
    "import nltk\n",
    "import re\n",
    "from datetime import datetime"
   ]
  },
  {
   "cell_type": "code",
   "execution_count": null,
   "id": "b5316ddc",
   "metadata": {},
   "outputs": [],
   "source": [
    "teachers_df = pd.read_csv('../data/teachers_df.csv',index_col=0)"
   ]
  },
  {
   "cell_type": "code",
   "execution_count": null,
   "id": "98feea05",
   "metadata": {},
   "outputs": [],
   "source": [
    "teachers_df = teachers_df.reset_index(drop=True)"
   ]
  },
  {
   "cell_type": "code",
   "execution_count": null,
   "id": "d8687d2a",
   "metadata": {},
   "outputs": [],
   "source": [
    "start_time = datetime.now()\n",
    "\n",
    "for index, row in teachers_df.iterrows():\n",
    "    mod_location = row.location.replace('USA','United States')\n",
    "    mod_location = mod_location.replace('UK','United Kingdom')\n",
    "\n",
    "    entities = locationtagger.find_locations(text = mod_location)\n",
    "    \n",
    "    cities = entities.cities\n",
    "    if len(cities) > 0:\n",
    "        teachers_df.loc[index, 'city'] = cities[0]\n",
    "        \n",
    "    countries = entities.countries\n",
    "    if len(countries) > 0:\n",
    "        teachers_df.loc[index, 'country'] = countries[0]\n",
    "        \n",
    "    print(index,row.location,cities,countries)\n",
    "    \n",
    "end_time = datetime.now()\n",
    "#Print Runtime \n",
    "batch_runtime = end_time - start_time\n",
    "hours, remainder = divmod(batch_runtime.seconds, 3600)\n",
    "minutes, seconds = divmod(remainder, 60)\n",
    "\n",
    "print('-----------------------------------------')\n",
    "print(LOCATION ASSIGNMENTS COMPLETED)\n",
    "print('runtime:')\n",
    "if hours > 0:\n",
    "    print(hours,'hours')\n",
    "if minutes > 0:\n",
    "    print(minutes,'minutes')\n",
    "print(seconds,'seconds')\n",
    "print('-----------------------------------------')"
   ]
  },
  {
   "cell_type": "code",
   "execution_count": null,
   "id": "003eec91",
   "metadata": {},
   "outputs": [],
   "source": [
    "teachers_df.head()"
   ]
  },
  {
   "cell_type": "code",
   "execution_count": null,
   "id": "d413df39",
   "metadata": {},
   "outputs": [],
   "source": [
    "teachers_df[['location','city','country']].head(50)"
   ]
  },
  {
   "cell_type": "code",
   "execution_count": null,
   "id": "e66ee99e",
   "metadata": {},
   "outputs": [],
   "source": [
    "teachers_df[['location','city','country']].tail(50)"
   ]
  },
  {
   "cell_type": "code",
   "execution_count": null,
   "id": "3fd81406",
   "metadata": {},
   "outputs": [],
   "source": [
    "teachers_df.to_csv('../data/teachers_df.csv')"
   ]
  }
 ],
 "metadata": {
  "kernelspec": {
   "display_name": "Python 3 (ipykernel)",
   "language": "python",
   "name": "python3"
  },
  "language_info": {
   "codemirror_mode": {
    "name": "ipython",
    "version": 3
   },
   "file_extension": ".py",
   "mimetype": "text/x-python",
   "name": "python",
   "nbconvert_exporter": "python",
   "pygments_lexer": "ipython3",
   "version": "3.9.13"
  }
 },
 "nbformat": 4,
 "nbformat_minor": 5
}
