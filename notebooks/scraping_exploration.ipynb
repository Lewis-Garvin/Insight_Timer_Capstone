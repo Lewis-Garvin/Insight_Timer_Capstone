{
 "cells": [
  {
   "cell_type": "markdown",
   "id": "bb7b64a1",
   "metadata": {},
   "source": [
    "# Insight Timer Scraping Exploration"
   ]
  },
  {
   "cell_type": "markdown",
   "id": "f51d6a1b",
   "metadata": {},
   "source": [
    "### Other Papers and Datasets for Meditation\n",
    "https://cais.iias.spb.su/meditation/ <br>\n",
    "research paper d"
   ]
  },
  {
   "cell_type": "markdown",
   "id": "cfa44a28",
   "metadata": {},
   "source": [
    "https://www.learndatasci.com/tutorials/ultimate-guide-web-scraping-w-python-requests-and-beautifulsoup/"
   ]
  },
  {
   "cell_type": "markdown",
   "id": "11eaf242",
   "metadata": {},
   "source": [
    "### Robots.txt\n",
    "https://insighttimer.com/robots.txt\n",
    "\n",
    "User-agent: *                     <br>\n",
    "Disallow: /devweb/*               <br>\n",
    "Disallow: /mediaplay/*            <br>\n",
    "Disallow: /groups/*               <br>\n",
    "Disallow: /meditation-benefits/*  <br>\n",
    "Disallow: /meditation-origins/*   <br>\n",
    "Disallow: /meditation-practices/* <br>\n",
    "Disallow: /meditation-music/*     <br>\n",
    "Disallow: /play/*                 <br>\n",
    "Disallow: /terms                  <br>\n",
    "Disallow: /privacy                <br>\n",
    "Disallow: /privacypolicy          <br>\n",
    "Disallow: /privacypolicy_separate <br>\n",
    "Disallow: /manage-subscription/*  <br>\n",
    "Disallow: /my-bookmarks           <br>\n",
    "Disallow: /my-playlists           <br>\n",
    "Disallow: /my-profile             <br>"
   ]
  },
  {
   "cell_type": "markdown",
   "id": "742648ed",
   "metadata": {},
   "source": [
    "\\# Sitemap files    <br>\n",
    "Sitemap: https://insighttimer.com/sitemap.xml"
   ]
  },
  {
   "cell_type": "markdown",
   "id": "3038129d",
   "metadata": {},
   "source": [
    "https://medium.com/analytics-vidhya/scraping-tables-from-a-javascript-webpage-using-selenium-beautifulsoup-and-pandas-cbd305ca75fe"
   ]
  },
  {
   "cell_type": "code",
   "execution_count": 1,
   "id": "d3bb79d5",
   "metadata": {},
   "outputs": [],
   "source": [
    "from selenium import webdriver\n",
    "import requests\n",
    "import time\n",
    "from bs4 import BeautifulSoup as BS\n",
    "import pandas as pd\n",
    "import string\n",
    "\n",
    "\n",
    "#from tqdm import tqdm_notebook"
   ]
  },
  {
   "cell_type": "code",
   "execution_count": 2,
   "id": "f2962ae1",
   "metadata": {},
   "outputs": [],
   "source": [
    "chrome_driver_path = '../../../Tech/chrome_driver/chromedriver.exe'"
   ]
  },
  {
   "cell_type": "markdown",
   "id": "81106233",
   "metadata": {},
   "source": [
    "### Topics\n",
    "https://insighttimer.com/topics_sitemap.xml\n",
    "\n",
    "https://insighttimer.com/dir/guided-meditations"
   ]
  },
  {
   "cell_type": "markdown",
   "id": "c5fe4981",
   "metadata": {},
   "source": [
    "### Teacher Lists\n",
    "https://insighttimer.com/meditation-teachers\n",
    "\n",
    "https://insighttimer.com/meditation-teachers/starts-with-a   <br>\n",
    "https://insighttimer.com/meditation-teachers/starts-with-a/1 <br>\n",
    "https://insighttimer.com/meditation-teachers/starts-with-a/2\n",
    "\n",
    "https://insighttimer.com/dir/meditation-teachers/t  "
   ]
  },
  {
   "cell_type": "code",
   "execution_count": 3,
   "id": "66b758c1",
   "metadata": {},
   "outputs": [],
   "source": [
    "directory_alpha_index = ['hash'] + list(string.ascii_lowercase) + ['more']\n",
    "# Result is ['hash', 'a', 'b', 'c', ... 'x', 'y', 'z', 'more']\n",
    "# 'hash' page includes teachers with names starting with a number.\n",
    "# 'more' page includes teachers with names starting with non-standard characters \n",
    "#     such as punctuation marks or languages other than English."
   ]
  },
  {
   "cell_type": "code",
   "execution_count": 4,
   "id": "29e756a4",
   "metadata": {},
   "outputs": [],
   "source": [
    "teachers_dir_url = 'https://insighttimer.com/dir/meditation-teachers/'"
   ]
  },
  {
   "cell_type": "code",
   "execution_count": 5,
   "id": "09290eda",
   "metadata": {},
   "outputs": [],
   "source": [
    "#initialize list of teacher_ids\n",
    "teacher_ids = []"
   ]
  },
  {
   "cell_type": "code",
   "execution_count": 6,
   "id": "c87fdf0f",
   "metadata": {},
   "outputs": [],
   "source": [
    "# Iterate through teacher pages for each letter\n",
    "for letter in directory_alpha_index:\n",
    "    \n",
    "    # Create a new Chrome session with a custom executable path\n",
    "    url = teachers_dir_url + letter\n",
    "\n",
    "    #Create a session and load the page\n",
    "    driver = webdriver.Chrome(executable_path=chrome_driver_path)\n",
    "    driver.get(url)\n",
    "\n",
    "    #Wait for page to fully load\n",
    "    driver.implicitly_wait(3)\n",
    "\n",
    "    #Make soup and close driver\n",
    "    soup = BS(driver.page_source)\n",
    "    driver.close()\n",
    "\n",
    "    #Example of tag that includes teacher data:\n",
    "    #<div class=\"css-1y0feak\">\n",
    "    #  <a href=\"/malhuxter\">Malcolm Huxter</a>\n",
    "    #</div\n",
    "    \n",
    "    div_teacher_tags = soup.findAll('div', attrs = {'class':'css-1y0feak'})\n",
    "\n",
    "    for teacher_div_tag in div_teacher_tags:\n",
    "        \n",
    "        #get 'a' tag contained within 'div' tag\n",
    "        teacher_a_tag = teacher_div_tag.find('a')\n",
    "        \n",
    "        #get href attribute and remove first \"/\" character to create teacher_id\n",
    "        teacher_id = teacher_a_tag.get('href', default = '/no href')\n",
    "        teacher_id = teacher_id[1:]\n",
    "\n",
    "        #Add new teacher_id to list \n",
    "        teacher_ids = teacher_ids + [teacher_id]"
   ]
  },
  {
   "cell_type": "code",
   "execution_count": 7,
   "id": "7f637789",
   "metadata": {},
   "outputs": [],
   "source": [
    "# Create DataFrame with teacher IDs\n",
    "teacher_ids_d = {'teacher_id':teacher_ids}\n",
    "teacher_ids_df = pd.DataFrame(teacher_ids_d)"
   ]
  },
  {
   "cell_type": "code",
   "execution_count": 8,
   "id": "dbd16c3b",
   "metadata": {},
   "outputs": [
    {
     "name": "stdout",
     "output_type": "stream",
     "text": [
      "(12492, 1)\n"
     ]
    },
    {
     "data": {
      "text/html": [
       "<div>\n",
       "<style scoped>\n",
       "    .dataframe tbody tr th:only-of-type {\n",
       "        vertical-align: middle;\n",
       "    }\n",
       "\n",
       "    .dataframe tbody tr th {\n",
       "        vertical-align: top;\n",
       "    }\n",
       "\n",
       "    .dataframe thead th {\n",
       "        text-align: right;\n",
       "    }\n",
       "</style>\n",
       "<table border=\"1\" class=\"dataframe\">\n",
       "  <thead>\n",
       "    <tr style=\"text-align: right;\">\n",
       "      <th></th>\n",
       "      <th>teacher_id</th>\n",
       "    </tr>\n",
       "  </thead>\n",
       "  <tbody>\n",
       "    <tr>\n",
       "      <th>0</th>\n",
       "      <td>33bowls</td>\n",
       "    </tr>\n",
       "    <tr>\n",
       "      <th>1</th>\n",
       "      <td>miguebrea_and_nicopucci</td>\n",
       "    </tr>\n",
       "    <tr>\n",
       "      <th>2</th>\n",
       "      <td>8finityangel</td>\n",
       "    </tr>\n",
       "    <tr>\n",
       "      <th>3</th>\n",
       "      <td>acimlessons</td>\n",
       "    </tr>\n",
       "    <tr>\n",
       "      <th>4</th>\n",
       "      <td>afridaystudio</td>\n",
       "    </tr>\n",
       "  </tbody>\n",
       "</table>\n",
       "</div>"
      ],
      "text/plain": [
       "                teacher_id\n",
       "0                  33bowls\n",
       "1  miguebrea_and_nicopucci\n",
       "2             8finityangel\n",
       "3              acimlessons\n",
       "4            afridaystudio"
      ]
     },
     "execution_count": 8,
     "metadata": {},
     "output_type": "execute_result"
    }
   ],
   "source": [
    "print(teacher_ids_df.shape)\n",
    "teacher_ids_df.head()"
   ]
  },
  {
   "cell_type": "code",
   "execution_count": 9,
   "id": "cd15f384",
   "metadata": {},
   "outputs": [],
   "source": [
    "# Save results to data file\n",
    "teacher_ids_df.to_csv('../data/teacher_ids.csv')"
   ]
  },
  {
   "cell_type": "markdown",
   "id": "f5da1296",
   "metadata": {},
   "source": [
    "# Create a new Chrome session with a custom executable path\n",
    "url = teachers_dir_url + directory_alpha_index[2]\n",
    "\n",
    "#Create a session and load the page\n",
    "driver = webdriver.Chrome(executable_path=chrome_driver_path)\n",
    "driver.get(url)\n",
    "\n",
    "#Wait for page to fully load\n",
    "driver.implicitly_wait(3)\n",
    "\n",
    "#parse HTML\n",
    "#soup = BS(driver.page_source, 'lxml')\n",
    "soup = BS(driver.page_source)\n",
    "#print(type(soup))\n",
    "#print(soup.prettify())\n",
    "driver.close()\n",
    "\n",
    "\n"
   ]
  },
  {
   "cell_type": "markdown",
   "id": "b0ecda08",
   "metadata": {},
   "source": [
    "div_teachers = soup.findAll('div', attrs = {'class':'css-1y0feak'})\n",
    "\n",
    "for teacher_div_tag in div_teachers:\n",
    "        teacher_a_tag = teacher_div_tag.find('a')\n",
    "        teacher_id = teacher_a_tag.get('href', default = 'no href')\n",
    "        teacher_id = teacher_id[1:]\n",
    "\n",
    "        teacher_ids = teacher_ids + [teacher_id]\n",
    "        \n",
    "teacher_ids"
   ]
  },
  {
   "cell_type": "markdown",
   "id": "b04f37dc",
   "metadata": {},
   "source": [
    "### Teacher Page\n",
    "\n",
    "https://insighttimer.com/alexbores"
   ]
  },
  {
   "cell_type": "markdown",
   "id": "1a3b82f4",
   "metadata": {},
   "source": [
    "Teachers\n",
    "- Teacher ID: 'amypatee'\n",
    "- Image: 'url'\n",
    "- Name: 'Amy Patee'\n",
    "- Location: 'Minneapolis, MS, USA'\n",
    "- Followers: '10.4k followers'\n",
    "- About: long text\n",
    "- Languages: 'English'\n",
    "- Joined: 'Jul 2018'"
   ]
  },
  {
   "cell_type": "code",
   "execution_count": null,
   "id": "d5303dd8",
   "metadata": {},
   "outputs": [],
   "source": []
  }
 ],
 "metadata": {
  "kernelspec": {
   "display_name": "Python 3 (ipykernel)",
   "language": "python",
   "name": "python3"
  },
  "language_info": {
   "codemirror_mode": {
    "name": "ipython",
    "version": 3
   },
   "file_extension": ".py",
   "mimetype": "text/x-python",
   "name": "python",
   "nbconvert_exporter": "python",
   "pygments_lexer": "ipython3",
   "version": "3.9.13"
  }
 },
 "nbformat": 4,
 "nbformat_minor": 5
}
