{
 "cells": [
  {
   "cell_type": "markdown",
   "id": "be1107b9",
   "metadata": {},
   "source": [
    "# Teacher Cleansing"
   ]
  },
  {
   "cell_type": "code",
   "execution_count": null,
   "id": "0d9e42ba",
   "metadata": {},
   "outputs": [],
   "source": [
    "import os\n",
    "import pandas as pd\n",
    "import numpy as np"
   ]
  },
  {
   "cell_type": "code",
   "execution_count": null,
   "id": "214b9c03",
   "metadata": {},
   "outputs": [],
   "source": [
    "expected_columns = ['teacher_id',\n",
    "                    'alpha_index',\n",
    "                    'batch_id',\n",
    "                    'scrape_date',\n",
    "                    'scrape_status',\n",
    "                    'teacher_name',\n",
    "                    'location',\n",
    "                    'followers',\n",
    "                    'languages',\n",
    "                    'date_joined',\n",
    "                    'about',\n",
    "                    'image_url'\n",
    "                    ]"
   ]
  },
  {
   "cell_type": "code",
   "execution_count": null,
   "id": "c0a5ffb9",
   "metadata": {},
   "outputs": [],
   "source": [
    "#Datatypes dictionary\n",
    "teacher_datatypes = {'teacher_id':'str',\n",
    "                     'alpha_index':'str',\n",
    "                     'batch_id':'int',\n",
    "                     'scrape_date':'str', #will convert to datetime\n",
    "                     'scrape_status':'str',\n",
    "                     'teacher_name':'str',\n",
    "                     'location':'str',\n",
    "                     'followers':'str',\n",
    "                     'langauges':'str',\n",
    "                     'date_joined':'str',\n",
    "                     'about':'str',\n",
    "                     'image_url':'str'}"
   ]
  },
  {
   "cell_type": "code",
   "execution_count": null,
   "id": "acafddd2",
   "metadata": {},
   "outputs": [],
   "source": [
    "#For each batch data file in the teacher_batch_files subdirectory\n",
    "batch_files_list = os.listdir('../data/teacher_batch_files')\n",
    "\n",
    "batch_df_list = []\n",
    "\n",
    "for batch_file in batch_files_list:\n",
    "#    batch_df = pd.read_csv('../data/teacher_batch_files/' + batch_file, dtype = teacher_datatypes, index_col = 0)\n",
    "    batch_df = pd.read_csv('../data/teacher_batch_files/' + batch_file, index_col = 0)    \n",
    "\n",
    "    #Verify the batch has the correct columns in the correct order.\n",
    "    correct_columns = True\n",
    "\n",
    "    batch_columns = list(batch_df.columns)\n",
    "    if len(batch_columns) == len(expected_columns):\n",
    "        for col_position in range(0,len(batch_columns)):\n",
    "            if batch_columns[col_position] != expected_columns[col_position]:\n",
    "                correct_columns = False\n",
    "    else:\n",
    "        correct_columns = False\n",
    "        \n",
    "#    batch_df_list = batch_df_list.append(batch_df)\n",
    "    if correct_columns:\n",
    "        batch_df_list = batch_df_list + [batch_df]\n",
    "    else:\n",
    "        print('ERROR COLUMNS NOT AS EXPECTED',batch_file)\n",
    "\n",
    "teachers_df = pd.concat(batch_df_list)"
   ]
  },
  {
   "cell_type": "code",
   "execution_count": null,
   "id": "87723ef1",
   "metadata": {},
   "outputs": [],
   "source": [
    "teachers_df.shape"
   ]
  },
  {
   "cell_type": "markdown",
   "id": "06d99501",
   "metadata": {},
   "source": [
    "### Cleansing rows: Page not found\n",
    "- Remove duplicates\n",
    "- Remove page not found\n",
    "- Investigate name not found"
   ]
  },
  {
   "cell_type": "code",
   "execution_count": null,
   "id": "c6277ec9",
   "metadata": {},
   "outputs": [],
   "source": [
    "#Show teachers whose page could not be found.\n",
    "teachers_df.loc[teachers_df.scrape_status == 'page not found']"
   ]
  },
  {
   "cell_type": "code",
   "execution_count": null,
   "id": "ce525f57",
   "metadata": {},
   "outputs": [],
   "source": [
    "#Remove teachers whose page could not be found.\n",
    "teachers_df = teachers_df.loc[teachers_df.scrape_status != 'page not found']"
   ]
  },
  {
   "cell_type": "markdown",
   "id": "aa64ac46",
   "metadata": {},
   "source": [
    "### Cleansing rows: Name not found"
   ]
  },
  {
   "cell_type": "code",
   "execution_count": null,
   "id": "a4e1230c",
   "metadata": {},
   "outputs": [],
   "source": [
    "#Show teachers whose name could not be found. Try rerunning their batches to try to get their info again.\n",
    "teachers_df.loc[teachers_df.scrape_status == 'name not found']"
   ]
  },
  {
   "cell_type": "markdown",
   "id": "24dfada5",
   "metadata": {},
   "source": [
    "Rerun the batches with rows where name is not found."
   ]
  },
  {
   "cell_type": "code",
   "execution_count": null,
   "id": "db76f08a",
   "metadata": {},
   "outputs": [],
   "source": [
    "#Remove teachers whose name could not be found.\n",
    "teachers_df = teachers_df.loc[teachers_df.scrape_status != 'name not found']"
   ]
  },
  {
   "cell_type": "markdown",
   "id": "eaafe8c8",
   "metadata": {},
   "source": [
    "### Cleansing rows: Duplicates"
   ]
  },
  {
   "cell_type": "code",
   "execution_count": null,
   "id": "e5d5725a",
   "metadata": {
    "scrolled": true
   },
   "outputs": [],
   "source": [
    "teachers_df.teacher_id.value_counts()"
   ]
  },
  {
   "cell_type": "code",
   "execution_count": null,
   "id": "0cdca654",
   "metadata": {
    "scrolled": true
   },
   "outputs": [],
   "source": [
    "teachers_df = teachers_df.sort_values(by='teacher_id')"
   ]
  },
  {
   "cell_type": "code",
   "execution_count": null,
   "id": "27e6884b",
   "metadata": {},
   "outputs": [],
   "source": [
    "teachers_df = teachers_df.loc[~teachers_df[['teacher_id']].duplicated()]"
   ]
  },
  {
   "cell_type": "markdown",
   "id": "2e59a061",
   "metadata": {},
   "source": [
    "### Null Date_Joined"
   ]
  },
  {
   "cell_type": "code",
   "execution_count": null,
   "id": "ebfabaac",
   "metadata": {
    "scrolled": true
   },
   "outputs": [],
   "source": [
    "#Show teachers with a null date_joined.\n",
    "teachers_df.loc[teachers_df.date_joined.isnull()]"
   ]
  },
  {
   "cell_type": "code",
   "execution_count": null,
   "id": "a36244b2",
   "metadata": {},
   "outputs": [],
   "source": [
    "#Remove teachers whose date_joined is null.\n",
    "teachers_df = teachers_df.loc[~teachers_df.date_joined.isnull()]"
   ]
  },
  {
   "cell_type": "markdown",
   "id": "11f20c66",
   "metadata": {},
   "source": [
    "### Cleansing columns"
   ]
  },
  {
   "cell_type": "code",
   "execution_count": null,
   "id": "a9072d73",
   "metadata": {},
   "outputs": [],
   "source": [
    "for index, row in teachers_df.iterrows():\n",
    "\n",
    "    #scrape_date\n",
    "\n",
    "    #location\n",
    "    if type(row.location) != type('x'):\n",
    "        teachers_df.loc[index, 'location'] = 'Unknown'    \n",
    "        \n",
    "    #followers\n",
    "    if type(row.followers) != type('x'):\n",
    "        teachers_df.loc[index, 'followers'] = int(0)\n",
    "    else:\n",
    "        num_followers = row.followers[:-10] #remove ' followers'\n",
    "        if num_followers[-1:] == 'k':\n",
    "            num_followers = int(float(num_followers[:-1]) * 1000)\n",
    "        else:\n",
    "            num_followers = int(num_followers)\n",
    "        teachers_df.loc[index, 'followers'] = num_followers\n",
    "        \n",
    "    #languages\n",
    "    if type(row.languages) != type('x'):\n",
    "        teachers_df.loc[index, 'languages'] = 'Unknown'\n",
    "    \n",
    "    #date_joined -- Note that rows with null date_joined have already been dropped.\n",
    "    date_joined_year = row.date_joined[-4:]\n",
    "    date_joined_month = row.date_joined[-8:-5]\n",
    "    date_joined_day = '1'\n",
    "    teachers_df.loc[index, 'date_joined'] = pd.to_datetime(date_joined_month + '/' + date_joined_day + '/' + date_joined_year,\n",
    "                                                           format = '%b/%d/%Y')\n",
    "    \n",
    "    #about\n",
    "    if type(row.about) != type('x'):\n",
    "        teachers_df.loc[index, 'about'] = 'Unknown'"
   ]
  },
  {
   "cell_type": "code",
   "execution_count": null,
   "id": "be1bbfe8",
   "metadata": {},
   "outputs": [],
   "source": [
    "# Set correct data types\n",
    "teachers_df['scrape_date'] = pd.to_datetime(teachers_df.scrape_date)\n",
    "teachers_df['date_joined'] = pd.to_datetime(teachers_df.date_joined)\n",
    "teachers_df = teachers_df.astype({'followers':'int'})"
   ]
  },
  {
   "cell_type": "markdown",
   "id": "f9727357",
   "metadata": {},
   "source": [
    "### Save Final Dataframe"
   ]
  },
  {
   "cell_type": "code",
   "execution_count": null,
   "id": "cf0df714",
   "metadata": {},
   "outputs": [],
   "source": [
    "teachers_df.to_csv('../data/teachers_df.csv')"
   ]
  },
  {
   "cell_type": "code",
   "execution_count": null,
   "id": "c2ed0f0a",
   "metadata": {},
   "outputs": [],
   "source": [
    "teachers_df.info()"
   ]
  },
  {
   "cell_type": "markdown",
   "id": "4d70ab84",
   "metadata": {},
   "source": [
    "### Languages"
   ]
  },
  {
   "cell_type": "code",
   "execution_count": null,
   "id": "d75b7af2",
   "metadata": {
    "scrolled": false
   },
   "outputs": [],
   "source": [
    "teachers_df.languages.head(20)"
   ]
  },
  {
   "cell_type": "code",
   "execution_count": null,
   "id": "c9606d26",
   "metadata": {},
   "outputs": [],
   "source": [
    "#unemployment['Name'].str.split(',', expand = True)\n",
    "\n",
    "#str('hello, this, is, my, deal').split(', ')\n",
    "#str('hello this is my deal').split(', ')\n",
    "#\n",
    "#['hello, okay', 'meow'].split(', ')"
   ]
  },
  {
   "cell_type": "code",
   "execution_count": null,
   "id": "7d549575",
   "metadata": {},
   "outputs": [],
   "source": [
    "teacher_languages_df = pd.DataFrame(columns=['teacher_id', \n",
    "                                             'language_native', \n",
    "                                             'language_english'])"
   ]
  },
  {
   "cell_type": "code",
   "execution_count": null,
   "id": "5c545ec7",
   "metadata": {},
   "outputs": [],
   "source": [
    "teacher_id_list = []\n",
    "language_native_list = []\n",
    "language_english_list = []\n",
    "\n",
    "for index, row in teachers_df.iterrows():\n",
    "    lang_list = row.languages.split(' and ')\n",
    "    if len(lang_list) == 2:\n",
    "        lang_list_left = lang_list[0].split(', ')\n",
    "        lang_list_right = [lang_list[1]]\n",
    "        lang_list = lang_list_left + lang_list_right\n",
    "    \n",
    "    for language in lang_list:\n",
    "        teacher_id_list = teacher_id_list + [row.teacher_id]\n",
    "        language_native_list = language_native_list + [language]\n",
    "        language_english_list = language_english_list + [language]\n",
    "\n",
    "teacher_languages_dict = {'teacher_id':teacher_id_list,\n",
    "                          'language_native':language_native_list,\n",
    "                          'language_english':language_english_list}\n",
    "\n",
    "teacher_languages_df = pd.DataFrame(teacher_languages_dict)\n",
    "\n",
    "teacher_languages_df"
   ]
  },
  {
   "cell_type": "code",
   "execution_count": null,
   "id": "0e7b192a",
   "metadata": {},
   "outputs": [],
   "source": [
    "teacher_languages_df.groupby(by=['language_native']).agg('count')"
   ]
  },
  {
   "cell_type": "code",
   "execution_count": null,
   "id": "0db8ddf1",
   "metadata": {},
   "outputs": [],
   "source": [
    "teachers_df.loc[teachers_df.languages == '普通話, 廣東話, English,']"
   ]
  },
  {
   "cell_type": "code",
   "execution_count": null,
   "id": "40135cad",
   "metadata": {},
   "outputs": [],
   "source": [
    "languages_dict = {'English':'English',\n",
    "                  'Unknown':'Unknown',\n",
    "                  'Español': 'Spanish',\n",
    "                  'BR. Português': 'Portuguese (Brazil)',\n",
    "                  'Deutsch': 'German',\n",
    "                  'Русский': 'Russian',\n",
    "                  '日本語': 'Japanese',\n",
    "                  'Tiếng Việt': 'Vietnamese',\n",
    "                  'Polski': 'Polish',\n",
    "                  'Italiano': 'Italian',\n",
    "                  'اُردُو': 'Urdu',\n",
    "                  'हिंदी': 'Hindi',\n",
    "                  'ਗੁਰਮੁਖੀ':'Punjabi'\n",
    "                 }"
   ]
  }
 ],
 "metadata": {
  "kernelspec": {
   "display_name": "Python 3 (ipykernel)",
   "language": "python",
   "name": "python3"
  },
  "language_info": {
   "codemirror_mode": {
    "name": "ipython",
    "version": 3
   },
   "file_extension": ".py",
   "mimetype": "text/x-python",
   "name": "python",
   "nbconvert_exporter": "python",
   "pygments_lexer": "ipython3",
   "version": "3.9.13"
  }
 },
 "nbformat": 4,
 "nbformat_minor": 5
}
